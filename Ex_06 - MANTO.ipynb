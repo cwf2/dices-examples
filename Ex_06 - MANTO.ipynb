{
 "cells": [
  {
   "cell_type": "markdown",
   "metadata": {},
   "source": [
    "# Working with MANTO data\n",
    "\n",
    "<div class=\"alert alert-warning\" style=\"margin: 1em 2em\">\n",
    "    <h4>Rate limit on JSON requests to MANTO server</h4>\n",
    "    <p>Note that MANTO's API limits JSON requests to 1000 / 15 minutes from a given IP. This should be <strong>more than sufficient</strong> for use with DICES, since MANTO entities are cached locally after the first download. If, however, you do exceed the limit, then the call to MANTO will return an error and the DICES client will create a dummy MANTO entity with no data.</p>\n",
    "    <p>I've introduced the <code>cache_empty=False</code> default for <code>getMantoID()</code> and <code>getMantoChar()</code>, which specifies that an entity returned with an empty <code>data</code> attribute should not be cached, forcing an automatic re-download the next time it's used. If, however, you expect <code>data</code> to be empty, you can set <code>cache_empty=True</code> to prevent unnecessary calls to the MANTO server.</p>\n",
    "</div>\n",
    "\n",
    "### Preliminaries\n",
    "\n",
    "Import statemtents. Our MANTO tools are in the `dicesapi.manto` module."
   ]
  },
  {
   "cell_type": "code",
   "execution_count": 1,
   "metadata": {},
   "outputs": [],
   "source": [
    "from dicesapi import DicesAPI\n",
    "from dicesapi.jupyter import NotebookPBar\n",
    "from dicesapi import manto"
   ]
  },
  {
   "cell_type": "markdown",
   "metadata": {},
   "source": [
    "Create a connection to DICES"
   ]
  },
  {
   "cell_type": "code",
   "execution_count": 2,
   "metadata": {},
   "outputs": [],
   "source": [
    "api=DicesAPI(progress_class=NotebookPBar, logfile='dices-manto.log')"
   ]
  },
  {
   "cell_type": "markdown",
   "metadata": {},
   "source": [
    "Instantiate a DICES character to get started"
   ]
  },
  {
   "cell_type": "code",
   "execution_count": 3,
   "metadata": {},
   "outputs": [
    {
     "name": "stdout",
     "output_type": "stream",
     "text": [
      "<Character 14: Achilles>\n"
     ]
    }
   ],
   "source": [
    "ach = api.getCharacters(name='Achilles')[0]\n",
    "print(ach)"
   ]
  },
  {
   "cell_type": "markdown",
   "metadata": {},
   "source": [
    "### Retrieving MANTO entities\n",
    "\n",
    "Let’s create a new MANTO entity by retrieving Achilles’ ID from MANTO."
   ]
  },
  {
   "cell_type": "code",
   "execution_count": 4,
   "metadata": {},
   "outputs": [
    {
     "name": "stdout",
     "output_type": "stream",
     "text": [
      "<MANTO Entity 8182012: 👤 Achilles>\n"
     ]
    }
   ],
   "source": [
    "manto_ent = manto.getMantoChar(ach)\n",
    "print(manto_ent)"
   ]
  },
  {
   "cell_type": "markdown",
   "metadata": {},
   "source": [
    "### Using MANTO ties to find relatives\n",
    "\n",
    "This code is still in development and subject to change. But for now, this is how we search MANTO for Achilles' parents. Under the hood, we're checking two different MANTO ties, `31764`, \"son of\", and `31765`, \"daughter of.\"\n",
    "\n",
    "This function currently returns MANTO Entity objects."
   ]
  },
  {
   "cell_type": "code",
   "execution_count": 5,
   "metadata": {},
   "outputs": [
    {
     "name": "stdout",
     "output_type": "stream",
     "text": [
      "[<MANTO Entity 8189146: 👤 Peleus>, <MANTO Entity 8190121: 👤 Thetis>]\n"
     ]
    }
   ],
   "source": [
    "parents = manto_ent.getParents()\n",
    "print(parents)"
   ]
  },
  {
   "cell_type": "markdown",
   "metadata": {},
   "source": [
    "Let's look for grandparents. Note that when sources disagree about parentage, MANTO returns an inclusive list."
   ]
  },
  {
   "cell_type": "code",
   "execution_count": 6,
   "metadata": {},
   "outputs": [
    {
     "name": "stdout",
     "output_type": "stream",
     "text": [
      "Grandparents on 👤 Peleus’s side:\n",
      " - 👤 Aiacos\n",
      " - 👤 Endeis\n",
      "Grandparents on 👤 Thetis’s side:\n",
      " - 👤 Doris (Oceanid)\n",
      " - 👤 Oceanos (Titan)\n",
      " - 👤 Nereus\n"
     ]
    }
   ],
   "source": [
    "for p in parents:\n",
    "    print(f'Grandparents on {p.name}’s side:')\n",
    "    for gp in p.getParents():\n",
    "        print(' - ' + gp.name)"
   ]
  },
  {
   "cell_type": "markdown",
   "metadata": {},
   "source": [
    "### Boolean relationship checker\n",
    "\n",
    "#### For MANTO Entities\n",
    "\n",
    "Sometimes we just want a yes/no answer as to parentage. For MANTO Entities, methods like `isChildOf()` will take a second Manto entity as argument and return `True` or `False`. This can be useful, for example, for filtering a list."
   ]
  },
  {
   "cell_type": "code",
   "execution_count": 7,
   "metadata": {},
   "outputs": [
    {
     "name": "stdout",
     "output_type": "stream",
     "text": [
      "Is 👤 Anchises (Trojan) the child of 👤 Aineias?  False\n",
      "Is 👤 Eteocles (Theban) the child of 👤 Oedipus?  True\n",
      "Is 👤 Menelaos the child of 👤 Agamemnon?  False\n"
     ]
    }
   ],
   "source": [
    "# a list of character pairs, by MANTO ID\n",
    "pairs = [\n",
    "    ('8182179', '8182084'),  # Anchises and Aeneas\n",
    "    ('8188282', '8190182'),  # Eteocles and Oedipus\n",
    "    ('8189802', '8182035'),  # Menelaus and Agamemnon\n",
    "]\n",
    "\n",
    "for a, b in pairs:\n",
    "    ent_a = manto.getMantoID(a)\n",
    "    ent_b = manto.getMantoID(b)\n",
    "    print(f'Is {ent_a.name} the child of {ent_b.name}? ', ent_a.isChildOf(ent_b))"
   ]
  },
  {
   "cell_type": "markdown",
   "metadata": {},
   "source": [
    "#### For DICES Characters\n",
    "\n",
    "For convenience, there are also wrapper functions that perform the same checks on DICES Characters by resolving the characters to MANTO entities first, then calling the boolean methods above. If you pass a CharacterInstance instead of a Character, the function will try to determine the MANTO ID of the underlying Character.\n",
    "\n",
    "If passed a Character with no MANTO ID, or an anonymous CharacterInstance with no Character, these functions return `None`. You can use the optional `err_val` parameter to set a different fallback value; for example, if you're using the function in a filter and want to ensure it always returns a Boolean, set this to `False`.\n",
    "\n",
    "For these next examples, let's start with a list of Achilles' interlocutors."
   ]
  },
  {
   "cell_type": "code",
   "execution_count": 8,
   "metadata": {},
   "outputs": [
    {
     "data": {
      "application/vnd.jupyter.widget-view+json": {
       "model_id": "8aeeb3c81ea54dc1acd82f9bda8a181c",
       "version_major": 2,
       "version_minor": 0
      },
      "text/plain": [
       "HBox(children=(IntProgress(value=0, bar_style='info', max=88), Label(value='0/88')))"
      ]
     },
     "metadata": {},
     "output_type": "display_data"
    },
    {
     "name": "stdout",
     "output_type": "stream",
     "text": [
      "88 speeches\n",
      "30 unique addressees.\n"
     ]
    }
   ],
   "source": [
    "# download all speeches by Achilles\n",
    "speeches = api.getSpeeches(spkr_name='Achilles', work_title='Iliad', progress=True)\n",
    "print(f'{len(speeches)} speeches')\n",
    "\n",
    "# extract the list of addressees\n",
    "addressees = speeches.getAddrs()\n",
    "print(f'{len(addressees)} unique addressees.')"
   ]
  },
  {
   "cell_type": "markdown",
   "metadata": {},
   "source": [
    "In this block, we use call `charIsChild()` on the speaker and his addressees to test parentage using MANTO's data. Where the function returns `None`, we know data was missing."
   ]
  },
  {
   "cell_type": "code",
   "execution_count": 9,
   "metadata": {},
   "outputs": [
    {
     "name": "stdout",
     "output_type": "stream",
     "text": [
      "Is Achilles the child of Agamemnon? False\n",
      "Is Achilles the child of Calchas? False\n",
      "Is Achilles the child of Athena? False\n",
      "Is Achilles the child of Eurybates? False\n",
      "Is Achilles the child of Patroclus? False\n",
      "Is Achilles the child of Talthybius? False\n",
      "Is Achilles the child of Thetis? True\n",
      "Is Achilles the child of Aias (son of Telamon)? False\n",
      "Is Achilles the child of Odysseus? False\n",
      "Can't get MANTO data: <Character 766: Phoinix> has no MANTO id\n",
      "No MANTO data available for Phoinix\n",
      "Can't get MANTO data: <CharacterInstance 85: Myrmidons> is an anonymous CharacterInstance\n",
      "No MANTO data available for Myrmidons\n",
      "Is Achilles the child of Zeus? False\n",
      "Is Achilles the child of Achilles? False\n",
      "Is Achilles the child of Iris? False\n",
      "Can't get MANTO data: <CharacterInstance 3: Greeks> is an anonymous CharacterInstance\n",
      "No MANTO data available for Greeks\n",
      "Can't get MANTO data: <CharacterInstance 57: horses> is an anonymous CharacterInstance\n",
      "No MANTO data available for horses\n",
      "Is Achilles the child of Aeneas? False\n",
      "Is Achilles the child of Iphition? False\n",
      "Is Achilles the child of Hector? False\n",
      "Can't get MANTO data: <Character 572: Lycaon> has no MANTO id\n",
      "No MANTO data available for Lycaon\n",
      "Is Achilles the child of Asteropaeus? False\n",
      "Can't get MANTO data: <Character 846: Scamander> has no MANTO id\n",
      "No MANTO data available for Scamander\n",
      "Is Achilles the child of Apollo? False\n",
      "Can't get MANTO data: <Character 872: Spercheius> has no MANTO id\n",
      "No MANTO data available for Spercheius\n",
      "Can't get MANTO data: <CharacterInstance 19: leaders of the Greeks (Greek soldiers)> is an anonymous CharacterInstance\n",
      "No MANTO data available for leaders of the Greeks (Greek soldiers)\n",
      "Is Achilles the child of Aias (son of Oileus)? False\n",
      "Is Achilles the child of Idomeneus? False\n",
      "Can't get MANTO data: <Character 96: Antilochus> has no MANTO id\n",
      "No MANTO data available for Antilochus\n",
      "Is Achilles the child of Nestor? False\n",
      "Is Achilles the child of Priam? False\n"
     ]
    }
   ],
   "source": [
    "for addr in addressees:\n",
    "    check = manto.charIsChild(ach, addr)\n",
    "    if check is not None:\n",
    "        print(f'Is {ach.name} the child of {addr.name}?', check)\n",
    "    else:\n",
    "        print(f'No MANTO data available for {addr.name}')"
   ]
  },
  {
   "cell_type": "markdown",
   "metadata": {},
   "source": [
    "But if we want to use the function in a custom filter, we can silence the errors and force it to just return `False` when it doesn't find MANTO data."
   ]
  },
  {
   "cell_type": "code",
   "execution_count": 10,
   "metadata": {},
   "outputs": [
    {
     "name": "stdout",
     "output_type": "stream",
     "text": [
      "Parent addressees of Achilles:\n",
      "Thetis\n",
      "\n",
      "Speeches in which Achilles addresses a parent:\n",
      "Homer Iliad 1.352-1.356\n",
      "Homer Iliad 1.365-1.412\n",
      "Homer Iliad 18.79-18.93\n",
      "Homer Iliad 18.98-18.126\n",
      "Homer Iliad 19.21-19.27\n",
      "Homer Iliad 24.139-24.140\n"
     ]
    }
   ],
   "source": [
    "# filter a CharacterInstanceGroup based on MANTO ties:\n",
    "parent_addrs = addressees.advancedFilter(lambda addr: manto.charIsChild(ach, addr, debug=False, err_val=False))\n",
    "\n",
    "print('Parent addressees of Achilles:')\n",
    "for p in parent_addrs:\n",
    "    print(p.name)\n",
    "print()\n",
    "    \n",
    "# now use the filtered list of CharacterInstances to filter the original SpeechGroup\n",
    "parent_speeches = speeches.filterAddrInstances(parent_addrs)\n",
    "\n",
    "print('Speeches in which Achilles addresses a parent:')\n",
    "for s in parent_speeches:\n",
    "    print(f'{s.author.name} {s.work.title} {s.l_range}')"
   ]
  }
 ],
 "metadata": {
  "kernelspec": {
   "display_name": "Python 3 (ipykernel)",
   "language": "python",
   "name": "python3"
  },
  "language_info": {
   "codemirror_mode": {
    "name": "ipython",
    "version": 3
   },
   "file_extension": ".py",
   "mimetype": "text/x-python",
   "name": "python",
   "nbconvert_exporter": "python",
   "pygments_lexer": "ipython3",
   "version": "3.7.3"
  }
 },
 "nbformat": 4,
 "nbformat_minor": 4
}
