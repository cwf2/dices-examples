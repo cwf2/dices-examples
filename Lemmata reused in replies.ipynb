{
 "cells": [
  {
   "cell_type": "markdown",
   "metadata": {},
   "source": [
    "# Lemmatizing with CLTK\n",
    "\n",
    "Let's investigate to what degree speeches that come second in a conversation re-use the language of the speech to which they reply.\n",
    "\n",
    "## Preliminaries\n",
    "\n",
    "### A couple of useful packages"
   ]
  },
  {
   "cell_type": "code",
   "execution_count": 1,
   "metadata": {},
   "outputs": [],
   "source": [
    "import random\n",
    "import re"
   ]
  },
  {
   "cell_type": "markdown",
   "metadata": {},
   "source": [
    "### The DICES API"
   ]
  },
  {
   "cell_type": "code",
   "execution_count": 2,
   "metadata": {},
   "outputs": [],
   "source": [
    "from dicesapi import DicesAPI\n",
    "from dicesapi.jupyter import NotebookPBar\n",
    "api = DicesAPI(progress_class=NotebookPBar, logfile='dices.log')"
   ]
  },
  {
   "cell_type": "markdown",
   "metadata": {},
   "source": [
    "### CLTK parsing pipelines\n",
    "\n",
    "CLTK uses language-specific NLP pipelines. I like to stick them in a dictionary keyed to the speeches' language codes, so I can use the same expressions regardless of language."
   ]
  },
  {
   "cell_type": "code",
   "execution_count": 3,
   "metadata": {},
   "outputs": [],
   "source": [
    "from cltk.nlp import NLP\n",
    "\n",
    "cltk_nlp = {\n",
    "    'greek': NLP('grc', suppress_banner=True),\n",
    "    'latin': NLP('lat', suppress_banner=True),    \n",
    "}"
   ]
  },
  {
   "cell_type": "markdown",
   "metadata": {},
   "source": [
    "By default, these pipelines are pretty full-featured, including NER and stoplist dictionaries; the Latin one also includes definitions from Lewis and Short for every token. If you don’t need the extras, paring the pipelines back to just lemmatization improves speed significantly."
   ]
  },
  {
   "cell_type": "code",
   "execution_count": 4,
   "metadata": {},
   "outputs": [],
   "source": [
    "cltk_nlp['greek'].pipeline.processes = cltk_nlp['greek'].pipeline.processes[:2]\n",
    "cltk_nlp['latin'].pipeline.processes = cltk_nlp['latin'].pipeline.processes[:2]"
   ]
  },
  {
   "cell_type": "markdown",
   "metadata": {},
   "source": [
    "## Process the speeches\n",
    "\n",
    "### Query the DICES API\n",
    "\n",
    "For the moment, at least, it’s generally easier to download an inclusive set of speeches from the remote server all at once, then filter them locally using the client library. Here, we download all speeches in Homer. \n",
    "\n",
    "<div class=\"alert alert-warning\" style=\"margin: 1em 2em\">\n",
    "    <p>We could have used <code>author_name='Homer'</code> as the sole search param, but for now that also includes the Homeric Hymns. And this way we can showcase concatenation of results with the <code>+</code> operator.</p>\n",
    "</div>"
   ]
  },
  {
   "cell_type": "code",
   "execution_count": 5,
   "metadata": {},
   "outputs": [
    {
     "data": {
      "application/vnd.jupyter.widget-view+json": {
       "model_id": "759bf18df5fb4cc9811ce64365904df9",
       "version_major": 2,
       "version_minor": 0
      },
      "text/plain": [
       "HBox(children=(IntProgress(value=0, bar_style='info', max=698), Label(value='0/698')))"
      ]
     },
     "metadata": {},
     "output_type": "display_data"
    },
    {
     "data": {
      "application/vnd.jupyter.widget-view+json": {
       "model_id": "7611b6ac60ba49cca41ac2ab9a4cf020",
       "version_major": 2,
       "version_minor": 0
      },
      "text/plain": [
       "HBox(children=(IntProgress(value=0, bar_style='info', max=673), Label(value='0/673')))"
      ]
     },
     "metadata": {},
     "output_type": "display_data"
    }
   ],
   "source": [
    "speeches = api.getSpeeches(work_title='Iliad', progress=True) + \\\n",
    "            api.getSpeeches(work_title='Odyssey', progress=True)\n",
    "speeches.sort()"
   ]
  },
  {
   "cell_type": "markdown",
   "metadata": {},
   "source": [
    "### Download the text of the speeches\n",
    "\n",
    "Before we can do any NLP, we have to get the text of the speeches from the remote library. In this loop, we download the CTS passage for each speech in turn, appending the plain text of the passage to the respective speech object as a new attribute."
   ]
  },
  {
   "cell_type": "code",
   "execution_count": 6,
   "metadata": {},
   "outputs": [
    {
     "data": {
      "application/vnd.jupyter.widget-view+json": {
       "model_id": "f86d0a98609d4fc3800d528c1cac06b7",
       "version_major": 2,
       "version_minor": 0
      },
      "text/plain": [
       "HBox(children=(IntProgress(value=0, bar_style='info', max=1371), Label(value='0/1371')))"
      ]
     },
     "metadata": {},
     "output_type": "display_data"
    },
    {
     "name": "stdout",
     "output_type": "stream",
     "text": [
      "<Speech 931: Odyssey 10.456-10.465>\n"
     ]
    }
   ],
   "source": [
    "# create a progress bar\n",
    "pbar = NotebookPBar(max=len(speeches))\n",
    "\n",
    "# download text, add to speech object as new attribute\n",
    "for s in speeches:\n",
    "    s.cts_passage = s.getCTS()\n",
    "    if s.cts_passage is None:\n",
    "        print(s)\n",
    "    pbar.update()"
   ]
  },
  {
   "cell_type": "markdown",
   "metadata": {},
   "source": [
    "### Parse the speech text with CLTK\n",
    "\n",
    "Now we can run CLTK’s NLP pipelines, using the wrapper function defined above. The pipeline function returns a object containing the results of all processes included in the pipeline. I’m this object as a new attribute of the speech being processed—I’ll call it `.cltk_doc`."
   ]
  },
  {
   "cell_type": "code",
   "execution_count": 7,
   "metadata": {},
   "outputs": [
    {
     "data": {
      "application/vnd.jupyter.widget-view+json": {
       "model_id": "eb92b695ef844acda1a99d8a9ace5846",
       "version_major": 2,
       "version_minor": 0
      },
      "text/plain": [
       "HBox(children=(IntProgress(value=0, bar_style='info', max=1371), Label(value='0/1371')))"
      ]
     },
     "metadata": {},
     "output_type": "display_data"
    }
   ],
   "source": [
    "# create a progress bar\n",
    "pbar = NotebookPBar(start=0, max=len(speeches))\n",
    "\n",
    "# iterate over speeches\n",
    "for s in speeches:\n",
    "    pbar.update()\n",
    "    lang = s.work.lang\n",
    "    \n",
    "    if hasattr(s, 'cltk_doc'):\n",
    "        continue\n",
    "    \n",
    "    if s.cts_passage is None:\n",
    "        s.cltk_doc = None\n",
    "    else:\n",
    "        s.cltk_doc = cltk_nlp[s.work.lang](s.cts_passage.text)"
   ]
  },
  {
   "cell_type": "markdown",
   "metadata": {},
   "source": [
    "## Looking for shared lemmata\n",
    "\n",
    "Now that we've got the raw data, let's try a simple experiment: **To what extent do replies reuse language from the speech they're replying to?**\n",
    "\n",
    "For this test:\n",
    "\n",
    "1. We'll consider as replies those speeches that come second in their conversation, i.e. `part==2`.\n",
    "2. We'll measure language reuse as lemmata shared between part 1 and part 2 of a speech cluster, as a fraction of the lemmata in part 1. We'll count only distinct *types*, that is, duplicate lemmata in a single speech won't be counted.\n",
    "3. To estimate how much overlap we might expect by chance, we'll also compare reply speeches to some randomly selected initial speeches from unrelated conversations.\n",
    "\n",
    "### Replies\n",
    "\n",
    "First, let's gather all speeches whose `part` attribute is `2`."
   ]
  },
  {
   "cell_type": "code",
   "execution_count": 8,
   "metadata": {},
   "outputs": [
    {
     "name": "stdout",
     "output_type": "stream",
     "text": [
      "279\n"
     ]
    }
   ],
   "source": [
    "# filter by part\n",
    "replies = speeches.filterParts([2])\n",
    "\n",
    "# how many results?\n",
    "print(len(replies))"
   ]
  },
  {
   "cell_type": "markdown",
   "metadata": {},
   "source": [
    "### Incipits\n",
    "\n",
    "Now, let's gather all speeches whose `part` is `1`."
   ]
  },
  {
   "cell_type": "code",
   "execution_count": 9,
   "metadata": {},
   "outputs": [
    {
     "name": "stdout",
     "output_type": "stream",
     "text": [
      "660\n"
     ]
    }
   ],
   "source": [
    "# filter by part\n",
    "incipits = speeches.filterParts([1])\n",
    "\n",
    "# how many results\n",
    "print(len(incipits))"
   ]
  },
  {
   "cell_type": "markdown",
   "metadata": {},
   "source": [
    "There are a lot more initial speeches than replies because so many speech clusters only have a single speech. Let's further limit the incipits under consideration to those from clusters represented in `replies`:"
   ]
  },
  {
   "cell_type": "code",
   "execution_count": 10,
   "metadata": {},
   "outputs": [
    {
     "data": {
      "text/plain": [
       "279"
      ]
     },
     "execution_count": 10,
     "metadata": {},
     "output_type": "execute_result"
    }
   ],
   "source": [
    "incipits = incipits.filterClusters(replies.getClusters())\n",
    "len(incipits)"
   ]
  },
  {
   "cell_type": "markdown",
   "metadata": {},
   "source": [
    "I want to organize these two groups in two different ways. In one treatment, each reply is paired with its incipit. In the control, each reply is paired with a random incipit.\n",
    "\n",
    "### Incipit-reply matched pairs\n",
    "\n",
    "Let's try pairing them off, first, and see what happens:"
   ]
  },
  {
   "cell_type": "code",
   "execution_count": 11,
   "metadata": {},
   "outputs": [
    {
     "name": "stdout",
     "output_type": "stream",
     "text": [
      "279\n"
     ]
    }
   ],
   "source": [
    "# start with empty list\n",
    "reply_pairs = []\n",
    "\n",
    "# check each reply\n",
    "for reply in replies:\n",
    "\n",
    "    # get incipits with same cluster id\n",
    "    results = incipits.filterClusters([reply.cluster])\n",
    "    \n",
    "    # should be only one\n",
    "    if len(results) == 0:\n",
    "        print(f'found no incipit for cluster {reply.cluster.id}')\n",
    "    elif len(results) > 1:\n",
    "        print(f'found {len(results)} incipits for cluster {reply.cluster.id}')\n",
    "    else:\n",
    "        reply_pairs.append((results[0], reply))\n",
    "        \n",
    "\n",
    "# how many pairs?\n",
    "print(len(reply_pairs))"
   ]
  },
  {
   "cell_type": "markdown",
   "metadata": {},
   "source": [
    "### Randomized control set\n",
    "\n",
    "Now let's shuffle the incipits and replies to create some control pairs."
   ]
  },
  {
   "cell_type": "code",
   "execution_count": 12,
   "metadata": {},
   "outputs": [
    {
     "name": "stdout",
     "output_type": "stream",
     "text": [
      "279\n"
     ]
    }
   ],
   "source": [
    "# start with empty list\n",
    "random_pairs = []\n",
    "\n",
    "# choose incipts, replies at random\n",
    "while len(random_pairs) < len(reply_pairs):\n",
    "    i = random.randint(0, len(incipits)-1)\n",
    "    j = random.randint(0, len(replies)-1)\n",
    "    if incipits[i].cluster.id != replies[j].cluster.id:\n",
    "        random_pairs.append((incipits[i], replies[j]))\n",
    "\n",
    "# how many pairs?\n",
    "print(len(random_pairs))"
   ]
  },
  {
   "cell_type": "markdown",
   "metadata": {},
   "source": [
    "### Metric for shared lemmata\n",
    "\n",
    "For a given pair of speeches, one incipit and one reply, we're looking for the number of unique, shared lemmata divided by the number of unique lemmata in the incipit alone.\n",
    "\n",
    "First, we'll write a custom function to return the shared lemmata. I'm going to omit punctuation, which we can filter out on the `upos` attribute—this is a so-called [Universal Part of Speech](https://universaldependencies.org/u/pos/) tag, which should be comparable between Latin and Greek, and is `'PUNCT'` for punctuation marks in both languages."
   ]
  },
  {
   "cell_type": "code",
   "execution_count": 13,
   "metadata": {},
   "outputs": [],
   "source": [
    "def shared(speech_a, speech_b):\n",
    "    '''Return shared lemmata between two speeches'''\n",
    "    \n",
    "    lems_a = [w.lemma for w in speech_a.cltk_doc if w.upos != 'PUNCT']\n",
    "    lems_b = [w.lemma for w in speech_b.cltk_doc if w.upos != 'PUNCT']\n",
    "    \n",
    "    shared = set([lem for lem in lems_a if lem in lems_b])\n",
    "        \n",
    "    return shared"
   ]
  },
  {
   "cell_type": "markdown",
   "metadata": {},
   "source": [
    "### Comparison of incipit-reply pairs to randomized control\n",
    "\n",
    "Now we just run through our two groups of pairs, and calculate the metric for each group."
   ]
  },
  {
   "cell_type": "code",
   "execution_count": 14,
   "metadata": {},
   "outputs": [
    {
     "name": "stdout",
     "output_type": "stream",
     "text": [
      "279\n"
     ]
    }
   ],
   "source": [
    "# start with empty list\n",
    "nshared_reply = []\n",
    "\n",
    "# calculate for matched pairs\n",
    "for incipit, reply in reply_pairs:\n",
    "    total_lems_incipit = len(set([w.lemma for w in incipit.cltk_doc]))\n",
    "    nshared_reply.append(len(shared(incipit, reply))/total_lems_incipit)\n",
    "\n",
    "# how many values?\n",
    "print(len(nshared_reply))"
   ]
  },
  {
   "cell_type": "code",
   "execution_count": 15,
   "metadata": {},
   "outputs": [
    {
     "name": "stdout",
     "output_type": "stream",
     "text": [
      "279\n"
     ]
    }
   ],
   "source": [
    "# start with empty list\n",
    "nshared_random = []\n",
    "\n",
    "# calculate for matched pairs\n",
    "for incipit, reply in random_pairs:\n",
    "    total_lems_incipit = len(set([w.lemma for w in incipit.cltk_doc]))\n",
    "    nshared_random.append(len(shared(incipit, reply))/total_lems_incipit)\n",
    "\n",
    "# how many values?\n",
    "print(len(nshared_random))"
   ]
  },
  {
   "cell_type": "markdown",
   "metadata": {},
   "source": [
    "### Visualize results\n",
    "\n",
    "Are the two groups similar? Let's use a simply box and whisker plot to get an overview of the distributions."
   ]
  },
  {
   "cell_type": "code",
   "execution_count": 16,
   "metadata": {},
   "outputs": [],
   "source": [
    "from matplotlib import pyplot\n",
    "%matplotlib inline"
   ]
  },
  {
   "cell_type": "code",
   "execution_count": 17,
   "metadata": {},
   "outputs": [
    {
     "data": {
      "image/png": "[encoded data removed]",
      "text/plain": [
       "<Figure size 432x288 with 1 Axes>"
      ]
     },
     "metadata": {
      "needs_background": "light"
     },
     "output_type": "display_data"
    }
   ],
   "source": [
    "pyplot.boxplot([nshared_reply, nshared_random], notch=True, labels=['matched pairs', 'random pairs'])\n",
    "pyplot.show()"
   ]
  },
  {
   "cell_type": "markdown",
   "metadata": {},
   "source": [
    "### Digging a little deeper...\n",
    "\n",
    "Well, the results are suggestive, but how significant are they. One way forward might be a statistical analysis of the distributions of this metric in the two groups."
   ]
  },
  {
   "cell_type": "code",
   "execution_count": 18,
   "metadata": {},
   "outputs": [
    {
     "data": {
      "image/png": "[encoded data removed]",
      "text/plain": [
       "<Figure size 432x288 with 1 Axes>"
      ]
     },
     "metadata": {
      "needs_background": "light"
     },
     "output_type": "display_data"
    }
   ],
   "source": [
    "pyplot.hist(nshared_reply)\n",
    "pyplot.show()"
   ]
  },
  {
   "cell_type": "code",
   "execution_count": 19,
   "metadata": {},
   "outputs": [
    {
     "data": {
      "image/png": "[encoded data removed]",
      "text/plain": [
       "<Figure size 432x288 with 1 Axes>"
      ]
     },
     "metadata": {
      "needs_background": "light"
     },
     "output_type": "display_data"
    }
   ],
   "source": [
    "pyplot.hist(nshared_random)\n",
    "pyplot.show()"
   ]
  },
  {
   "cell_type": "code",
   "execution_count": 20,
   "metadata": {},
   "outputs": [
    {
     "data": {
      "text/plain": [
       "Ttest_indResult(statistic=2.810535681367659, pvalue=0.00512021250617286)"
      ]
     },
     "execution_count": 20,
     "metadata": {},
     "output_type": "execute_result"
    }
   ],
   "source": [
    "import scipy.stats\n",
    "scipy.stats.ttest_ind(nshared_reply, nshared_random)"
   ]
  }
 ],
 "metadata": {
  "kernelspec": {
   "display_name": "Python 3 (ipykernel)",
   "language": "python",
   "name": "python3"
  },
  "language_info": {
   "codemirror_mode": {
    "name": "ipython",
    "version": 3
   },
   "file_extension": ".py",
   "mimetype": "text/x-python",
   "name": "python",
   "nbconvert_exporter": "python",
   "pygments_lexer": "ipython3",
   "version": "3.7.3"
  }
 },
 "nbformat": 4,
 "nbformat_minor": 4
}
