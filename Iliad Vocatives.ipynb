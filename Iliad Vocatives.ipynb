{
 "cells": [
  {
   "cell_type": "code",
   "execution_count": null,
   "id": "c0980157",
   "metadata": {},
   "outputs": [],
   "source": [
    "# load the DICES interface\n",
    "from dicesapi import DicesAPI\n",
    "from dicesapi.jupyter import NotebookPBar\n",
    "from dicesapi.text import CtsAPI\n",
    "import pandas as pd\n",
    "import os\n",
    "import pickle"
   ]
  },
  {
   "cell_type": "code",
   "execution_count": null,
   "id": "f07db034",
   "metadata": {},
   "outputs": [],
   "source": [
    "# initialize connection to the database\n",
    "api = DicesAPI(logfile='dices.log')\n",
    "\n",
    "# initialize connection to digital libraries\n",
    "cts = CtsAPI()"
   ]
  },
  {
   "cell_type": "code",
   "execution_count": null,
   "id": "5047b00c",
   "metadata": {},
   "outputs": [],
   "source": [
    "cache_file = os.path.join('data', 'iliad_parsed.pickle')\n",
    "\n",
    "if os.path.exists(cache_file):\n",
    "    # load saved data  \n",
    "    with open(cache_file, 'rb') as f:\n",
    "        speeches = pickle.load(f)\n",
    "    print('loaded', len(speeches), 'cached results')\n",
    "else:\n",
    "    # download speeches\n",
    "    speeches = api.getSpeeches(work_title='Iliad')\n",
    "    print('retrieved', len(speeches), 'results')"
   ]
  },
  {
   "cell_type": "code",
   "execution_count": null,
   "id": "a2482a8f",
   "metadata": {
    "scrolled": true
   },
   "outputs": [],
   "source": [
    "pbar = NotebookPBar(max=len(speeches))\n",
    "\n",
    "for s in speeches:\n",
    "    if not hasattr(s, 'passage'):\n",
    "        s.passage = cts.getPassage(s)\n",
    "    pbar.update()"
   ]
  },
  {
   "cell_type": "code",
   "execution_count": null,
   "id": "389c4952",
   "metadata": {},
   "outputs": [],
   "source": [
    "pbar = NotebookPBar(max=len(speeches))\n",
    "\n",
    "for s in speeches:\n",
    "    if not hasattr(s.passage, 'cltk'):\n",
    "        s.passage.runCltkPipeline(index=False)\n",
    "    pbar.update()"
   ]
  },
  {
   "cell_type": "code",
   "execution_count": null,
   "id": "b3128de2",
   "metadata": {},
   "outputs": [],
   "source": [
    "words = pd.DataFrame(dict(\n",
    "    speech_id = s.id,\n",
    "    book = s.l_fi.split('.')[0],\n",
    "    spkr = s.getSpkrString(),\n",
    "    addr = s.getAddrString(),\n",
    "    gend_spkr = ','.join(sorted(set(inst.gender for inst in s.spkr))),\n",
    "    gend_addr = ','.join(sorted(set(inst.gender for inst in s.addr))),\n",
    "    string = w.string,\n",
    "    lemma = w.lemma,\n",
    "    upos = w.upos,\n",
    "    features = str(w.features),\n",
    ") for s in speeches for w in s.passage.cltk)\n",
    "\n",
    "display(words)"
   ]
  },
  {
   "cell_type": "markdown",
   "id": "3b37a01b",
   "metadata": {},
   "source": [
    "### Remove punctuation"
   ]
  },
  {
   "cell_type": "code",
   "execution_count": null,
   "id": "a780a880",
   "metadata": {},
   "outputs": [],
   "source": [
    "words = words[(words.string != '.') & (words.upos != 'PUNCT')]"
   ]
  },
  {
   "cell_type": "markdown",
   "id": "85d1e2a0",
   "metadata": {},
   "source": [
    "### Vocatives"
   ]
  },
  {
   "cell_type": "code",
   "execution_count": null,
   "id": "dfa8e168",
   "metadata": {},
   "outputs": [],
   "source": [
    "words['is_voc'] = words.features.str.contains('vocative')"
   ]
  },
  {
   "cell_type": "code",
   "execution_count": null,
   "id": "d2c50198",
   "metadata": {},
   "outputs": [],
   "source": [
    "display(words[words.is_voc])"
   ]
  },
  {
   "cell_type": "markdown",
   "id": "e75bc87b",
   "metadata": {},
   "source": [
    "### By book"
   ]
  },
  {
   "cell_type": "code",
   "execution_count": null,
   "id": "ce9ad705",
   "metadata": {},
   "outputs": [],
   "source": [
    "words[words.is_voc].pivot_table(\n",
    "    index = 'book',\n",
    "    values = 'speech_id',\n",
    "    aggfunc = 'count',\n",
    "    sort = False,\n",
    "    fill_value = 0,\n",
    ").plot.bar(\n",
    "    title = 'Vocatives in the Iliad',\n",
    "    legend = False,\n",
    "    rot = False,\n",
    "    figsize = (10,4),\n",
    ")"
   ]
  },
  {
   "cell_type": "markdown",
   "id": "cdec1afc",
   "metadata": {},
   "source": [
    "### Normalize by book length"
   ]
  },
  {
   "cell_type": "code",
   "execution_count": null,
   "id": "adb9448d",
   "metadata": {},
   "outputs": [],
   "source": [
    "voc_book = words.pivot_table(\n",
    "    index = 'book',\n",
    "    values = 'speech_id',\n",
    "    columns = 'is_voc',\n",
    "    aggfunc = 'count',\n",
    "    sort = False,\n",
    "    fill_value = 0,\n",
    ").rename(columns={True:'voc', False:'other'})\n",
    "\n",
    "voc_book['prop'] = voc_book['voc'] / (voc_book['voc'] + voc_book['other']) * 1000\n",
    "\n",
    "voc_book['prop'].plot.bar(\n",
    "    title = 'Vocatives in the Iliad',\n",
    "    legend = False,\n",
    "    rot = False,\n",
    "    figsize = (10,4),\n",
    ")"
   ]
  },
  {
   "cell_type": "markdown",
   "id": "9803b5ad",
   "metadata": {},
   "source": [
    "## By speaker"
   ]
  },
  {
   "cell_type": "code",
   "execution_count": null,
   "id": "e994a372",
   "metadata": {},
   "outputs": [],
   "source": [
    "voc_spkr = words.pivot_table(\n",
    "    index = 'spkr',\n",
    "    values = 'speech_id',\n",
    "    columns = 'is_voc',\n",
    "    aggfunc = 'count',\n",
    "    fill_value = 0,\n",
    ")\n",
    "\n",
    "voc_spkr = voc_spkr.rename(columns={True:'voc', False:'other'})\n",
    "\n",
    "voc_spkr['prop'] = round(voc_spkr['voc'] / (voc_spkr['voc'] + voc_spkr['other']) * 1000, 2)"
   ]
  },
  {
   "cell_type": "markdown",
   "id": "851d6fa4",
   "metadata": {},
   "source": [
    "#### Greatest number"
   ]
  },
  {
   "cell_type": "code",
   "execution_count": null,
   "id": "71f99d72",
   "metadata": {},
   "outputs": [],
   "source": [
    "display(voc_spkr.sort_values('voc', ascending=False)[:10])"
   ]
  },
  {
   "cell_type": "markdown",
   "id": "717023d6",
   "metadata": {},
   "source": [
    "#### highest proportion"
   ]
  },
  {
   "cell_type": "code",
   "execution_count": null,
   "id": "091a1327",
   "metadata": {},
   "outputs": [],
   "source": [
    "display(voc_spkr.sort_values('prop', ascending=False)[:10])"
   ]
  },
  {
   "cell_type": "markdown",
   "id": "7a451835",
   "metadata": {},
   "source": [
    "#### highest proportion among speakers of at least 1000 words"
   ]
  },
  {
   "cell_type": "code",
   "execution_count": null,
   "id": "0df66813",
   "metadata": {},
   "outputs": [],
   "source": [
    "display(voc_spkr[(voc_spkr.other + voc_spkr.voc) > 999].sort_values('prop', ascending=False)[:10])"
   ]
  },
  {
   "cell_type": "markdown",
   "id": "d1110778",
   "metadata": {},
   "source": [
    "## By part of speech"
   ]
  },
  {
   "cell_type": "code",
   "execution_count": null,
   "id": "fb3303ac",
   "metadata": {},
   "outputs": [],
   "source": [
    "voc_pos = words.pivot_table(\n",
    "    index = 'upos',\n",
    "    values = 'speech_id',\n",
    "    columns = 'is_voc',\n",
    "    aggfunc = 'count',\n",
    "    fill_value = 0,\n",
    ").rename(columns={True:'voc', False:'other'})\n",
    "\n",
    "voc_pos.sort_values('voc', ascending=False)"
   ]
  }
 ],
 "metadata": {
  "kernelspec": {
   "display_name": "Python 3 (ipykernel)",
   "language": "python",
   "name": "python3"
  },
  "language_info": {
   "codemirror_mode": {
    "name": "ipython",
    "version": 3
   },
   "file_extension": ".py",
   "mimetype": "text/x-python",
   "name": "python",
   "nbconvert_exporter": "python",
   "pygments_lexer": "ipython3",
   "version": "3.7.3"
  }
 },
 "nbformat": 4,
 "nbformat_minor": 5
}
