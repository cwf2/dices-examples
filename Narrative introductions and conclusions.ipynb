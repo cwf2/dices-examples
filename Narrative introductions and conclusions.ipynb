{
 "cells": [
  {
   "cell_type": "markdown",
   "metadata": {},
   "source": [
    "## Preliminaries"
   ]
  },
  {
   "cell_type": "code",
   "execution_count": 1,
   "metadata": {},
   "outputs": [],
   "source": [
    "# this lets me change the api while the notebook is open\n",
    "%load_ext autoreload\n",
    "%autoreload 2\n",
    "\n",
    "# import statements\n",
    "import pandas as pd\n",
    "import re\n",
    "import ipywidgets as widgets\n",
    "from IPython.display import display"
   ]
  },
  {
   "cell_type": "code",
   "execution_count": 2,
   "metadata": {},
   "outputs": [
    {
     "ename": "ModuleNotFoundError",
     "evalue": "No module named 'dicesapi'",
     "output_type": "error",
     "traceback": [
      "\u001b[0;31m---------------------------------------------------------------------------\u001b[0m",
      "\u001b[0;31mModuleNotFoundError\u001b[0m                       Traceback (most recent call last)",
      "\u001b[0;32m<ipython-input-2-e4b3a1ce4a41>\u001b[0m in \u001b[0;36m<module>\u001b[0;34m\u001b[0m\n\u001b[0;32m----> 1\u001b[0;31m \u001b[0;32mfrom\u001b[0m \u001b[0mdicesapi\u001b[0m \u001b[0;32mimport\u001b[0m \u001b[0mDicesAPI\u001b[0m\u001b[0;34m\u001b[0m\u001b[0;34m\u001b[0m\u001b[0m\n\u001b[0m\u001b[1;32m      2\u001b[0m api = DicesAPI(\n\u001b[1;32m      3\u001b[0m     \u001b[0mdices_api\u001b[0m \u001b[0;34m=\u001b[0m \u001b[0;34m'http://localhost:8000/api'\u001b[0m\u001b[0;34m,\u001b[0m\u001b[0;34m\u001b[0m\u001b[0;34m\u001b[0m\u001b[0m\n\u001b[1;32m      4\u001b[0m     \u001b[0mcts_api\u001b[0m \u001b[0;34m=\u001b[0m \u001b[0;34m'http://cts.perseids.org/api/cts/'\u001b[0m\u001b[0;34m,\u001b[0m\u001b[0;34m\u001b[0m\u001b[0;34m\u001b[0m\u001b[0m\n\u001b[1;32m      5\u001b[0m )\n",
      "\u001b[0;31mModuleNotFoundError\u001b[0m: No module named 'dicesapi'"
     ]
    }
   ],
   "source": [
    "from dicesapi import DicesAPI\n",
    "api = DicesAPI(\n",
    "    dices_api = 'http://localhost:8000/api',\n",
    "    cts_api = 'http://cts.perseids.org/api/cts/',\n",
    ")"
   ]
  },
  {
   "cell_type": "code",
   "execution_count": 10,
   "metadata": {},
   "outputs": [],
   "source": [
    "# this is just to provide progress bars in Jupyter\n",
    "from dicesapi.jupyter import NotebookPBar\n",
    "api._ProgressClass = NotebookPBar"
   ]
  },
  {
   "cell_type": "code",
   "execution_count": 3,
   "metadata": {},
   "outputs": [
    {
     "name": "stdout",
     "output_type": "stream",
     "text": [
      "Importing corpora:\n",
      " - latin_models_cltk\n",
      " - latin_text_perseus\n",
      " - latin_treebank_perseus\n",
      " - latin_lexica_perseus\n",
      " - greek_models_cltk\n",
      " - greek_text_perseus\n",
      " - greek_treebank_perseus\n",
      " - greek_lexica_perseus\n"
     ]
    }
   ],
   "source": [
    "from cltk.corpus.utils.importer import CorpusImporter\n",
    "corpora = [\n",
    "    '{}_models_cltk',\n",
    "    '{}_text_perseus',\n",
    "    '{}_treebank_perseus',\n",
    "    '{}_lexica_perseus',\n",
    "]\n",
    "\n",
    "print('Importing corpora:')\n",
    "\n",
    "for lang in ['latin', 'greek']:\n",
    "    downloader = CorpusImporter(lang)\n",
    "    for corpus in corpora:\n",
    "        print(\" - \" + corpus.format(lang))\n",
    "        downloader.import_corpus(corpus.format(lang))\n",
    "\n",
    "from cltk.tokenize.word import WordTokenizer\n",
    "tokenizer = {\n",
    "    'greek': WordTokenizer('greek'),\n",
    "    'latin': WordTokenizer('latin'),\n",
    "}\n",
    "from cltk.lemmatize.latin.backoff import BackoffLatinLemmatizer\n",
    "from cltk.lemmatize.greek.backoff import BackoffGreekLemmatizer\n",
    "lemmatizer = {\n",
    "    'greek': BackoffGreekLemmatizer(),\n",
    "    'latin': BackoffLatinLemmatizer(),    \n",
    "}\n",
    "\n",
    "# regular expressions to tidy up perseus texts for ctlk\n",
    "replacements = {\n",
    "    'greek': [\n",
    "        (r'·', ','),           # FIXME: raised dot? \n",
    "        (chr(700), chr(8217)), # two different apostrophes that look alike\n",
    "    ],\n",
    "    'latin': [\n",
    "        \n",
    "    ],\n",
    "}\n",
    "\n",
    "# compile the regexes\n",
    "for lang in ['greek', 'latin']:\n",
    "    replacements[lang] = [(re.compile(pat), repl) for pat, repl in replacements[lang]]\n",
    "    \n",
    "\n",
    "# generic tokenize-lemmatize function\n",
    "def lemmatize(text, lang):\n",
    "    '''return a set of (token,lemmata) pairs for a string'''\n",
    "    \n",
    "    for pat, repl in replacements[lang]:\n",
    "        text = pat.sub(repl, text)\n",
    "    \n",
    "    tokens = tokenizer[lang].tokenize(text)\n",
    "    lemmata = lemmatizer[lang].lemmatize(tokens)\n",
    "    \n",
    "    return lemmata"
   ]
  },
  {
   "cell_type": "markdown",
   "metadata": {},
   "source": [
    "## Download some speeches"
   ]
  },
  {
   "cell_type": "code",
   "execution_count": 4,
   "metadata": {},
   "outputs": [],
   "source": [
    "speeches = api.getSpeeches(spkr_name='Achilles', progress=True)"
   ]
  },
  {
   "cell_type": "code",
   "execution_count": 5,
   "metadata": {},
   "outputs": [
    {
     "data": {
      "text/plain": [
       "[<Speech: Homer Iliad 1.59-1.67>,\n",
       " <Speech: Homer Iliad 1.85-1.91>,\n",
       " <Speech: Homer Iliad 1.122-1.129>,\n",
       " <Speech: Homer Iliad 1.149-1.171>,\n",
       " <Speech: Homer Iliad 1.202-1.205>,\n",
       " <Speech: Homer Iliad 1.216-1.218>,\n",
       " <Speech: Homer Iliad 1.225-1.244>,\n",
       " <Speech: Homer Iliad 1.293-1.303>,\n",
       " <Speech: Homer Iliad 1.334-1.344>,\n",
       " <Speech: Homer Iliad 1.352-1.356>,\n",
       " <Speech: Homer Iliad 1.365-1.412>,\n",
       " <Speech: Homer Iliad 9.197-9.198>,\n",
       " <Speech: Homer Iliad 9.202-9.204>,\n",
       " <Speech: Homer Iliad 9.308-9.429>,\n",
       " <Speech: Homer Iliad 9.607-9.619>,\n",
       " <Speech: Homer Iliad 9.644-9.655>,\n",
       " <Speech: Homer Iliad 11.608-11.615>,\n",
       " <Speech: Homer Iliad 16.7-16.19>,\n",
       " <Speech: Homer Iliad 16.49-16.100>,\n",
       " <Speech: Homer Iliad 16.126-16.129>,\n",
       " <Speech: Homer Iliad 16.200-16.209>,\n",
       " <Speech: Homer Iliad 16.233-16.248>,\n",
       " <Speech: Homer Iliad 16.839-16.841>,\n",
       " <Speech: Homer Iliad 18.6-18.14>,\n",
       " <Speech: Homer Iliad 18.79-18.93>,\n",
       " <Speech: Homer Iliad 18.98-18.126>,\n",
       " <Speech: Homer Iliad 18.182-18.182>,\n",
       " <Speech: Homer Iliad 18.188-18.195>,\n",
       " <Speech: Homer Iliad 18.324-18.342>,\n",
       " <Speech: Homer Iliad 19.21-19.27>,\n",
       " <Speech: Homer Iliad 19.56-19.73>,\n",
       " <Speech: Homer Iliad 19.146-19.153>,\n",
       " <Speech: Homer Iliad 19.199-19.214>,\n",
       " <Speech: Homer Iliad 19.270-19.275>,\n",
       " <Speech: Homer Iliad 19.305-19.308>,\n",
       " <Speech: Homer Iliad 19.315-19.337>,\n",
       " <Speech: Homer Iliad 19.400-19.403>,\n",
       " <Speech: Homer Iliad 19.420-19.423>,\n",
       " <Speech: Homer Iliad 20.178-20.198>,\n",
       " <Speech: Homer Iliad 20.344-20.352>,\n",
       " <Speech: Homer Iliad 20.354-20.363>,\n",
       " <Speech: Homer Iliad 20.389-20.392>,\n",
       " <Speech: Homer Iliad 20.425-20.427>,\n",
       " <Speech: Homer Iliad 20.429-20.429>,\n",
       " <Speech: Homer Iliad 20.449-20.454>,\n",
       " <Speech: Homer Iliad 21.54-21.63>,\n",
       " <Speech: Homer Iliad 21.99-21.113>,\n",
       " <Speech: Homer Iliad 21.122-21.135>,\n",
       " <Speech: Homer Iliad 21.150-21.151>,\n",
       " <Speech: Homer Iliad 21.184-21.199>,\n",
       " <Speech: Homer Iliad 21.223-21.226>,\n",
       " <Speech: Homer Iliad 21.273-21.283>,\n",
       " <Speech: Homer Iliad 22.15-22.20>,\n",
       " <Speech: Homer Iliad 22.261-22.272>,\n",
       " <Speech: Homer Iliad 22.331-22.336>,\n",
       " <Speech: Homer Iliad 22.345-22.354>,\n",
       " <Speech: Homer Iliad 22.365-22.366>,\n",
       " <Speech: Homer Iliad 22.378-22.394>,\n",
       " <Speech: Homer Iliad 23.6-23.11>,\n",
       " <Speech: Homer Iliad 23.19-23.23>,\n",
       " <Speech: Homer Iliad 23.43-23.53>,\n",
       " <Speech: Homer Iliad 23.94-23.98>,\n",
       " <Speech: Homer Iliad 23.103-23.107>,\n",
       " <Speech: Homer Iliad 23.144-23.151>,\n",
       " <Speech: Homer Iliad 23.156-23.160>,\n",
       " <Speech: Homer Iliad 23.179-23.183>,\n",
       " <Speech: Homer Iliad 23.236-23.248>,\n",
       " <Speech: Homer Iliad 23.272-23.286>,\n",
       " <Speech: Homer Iliad 23.492-23.498>,\n",
       " <Speech: Homer Iliad 23.536-23.538>,\n",
       " <Speech: Homer Iliad 23.558-23.562>,\n",
       " <Speech: Homer Iliad 23.618-23.623>,\n",
       " <Speech: Homer Iliad 23.658-23.663>,\n",
       " <Speech: Homer Iliad 23.707-23.707>,\n",
       " <Speech: Homer Iliad 23.735-23.737>,\n",
       " <Speech: Homer Iliad 23.753-23.753>,\n",
       " <Speech: Homer Iliad 23.795-23.796>,\n",
       " <Speech: Homer Iliad 23.802-23.810>,\n",
       " <Speech: Homer Iliad 23.831-23.835>,\n",
       " <Speech: Homer Iliad 23.855-23.858>,\n",
       " <Speech: Homer Iliad 23.890-23.894>,\n",
       " <Speech: Homer Iliad 24.139-24.140>,\n",
       " <Speech: Homer Iliad 24.518-24.551>,\n",
       " <Speech: Homer Iliad 24.560-24.570>,\n",
       " <Speech: Homer Iliad 24.592-24.595>,\n",
       " <Speech: Homer Iliad 24.599-24.620>,\n",
       " <Speech: Homer Iliad 24.650-24.658>,\n",
       " <Speech: Homer Iliad 24.669-24.670>,\n",
       " <Speech: Homer Odyssey 11.473-11.476>,\n",
       " <Speech: Homer Odyssey 11.488-11.503>,\n",
       " <Speech: Homer Odyssey 24.24-24.34>,\n",
       " <Speech: Ovid Metamorphoses 12.80-12.81>,\n",
       " <Speech: Ovid Metamorphoses 12.106-12.114>,\n",
       " <Speech: Ovid Metamorphoses 12.120-12.121>,\n",
       " <Speech: Ovid Metamorphoses 12.177-12.181>,\n",
       " <Speech: Ovid Metamorphoses 13.445-13.448>]"
      ]
     },
     "execution_count": 5,
     "metadata": {},
     "output_type": "execute_result"
    }
   ],
   "source": [
    "speeches"
   ]
  },
  {
   "cell_type": "markdown",
   "metadata": {},
   "source": [
    "## look for quotation marks"
   ]
  },
  {
   "cell_type": "code",
   "execution_count": 6,
   "metadata": {},
   "outputs": [],
   "source": [
    "s = speeches[-1].getCTS()"
   ]
  },
  {
   "cell_type": "code",
   "execution_count": 7,
   "metadata": {},
   "outputs": [
    {
     "name": "stdout",
     "output_type": "stream",
     "text": [
      "{http://www.tei-c.org/ns/1.0}TEI\n",
      "{http://www.tei-c.org/ns/1.0}text\n",
      "{http://www.tei-c.org/ns/1.0}body\n",
      "{http://www.tei-c.org/ns/1.0}div\n",
      "{http://www.tei-c.org/ns/1.0}div\n",
      "{http://www.tei-c.org/ns/1.0}l\n",
      "{http://www.tei-c.org/ns/1.0}l\n",
      "{http://www.tei-c.org/ns/1.0}l\n",
      "{http://www.tei-c.org/ns/1.0}l\n"
     ]
    }
   ],
   "source": [
    "for e in s.xml.iter():\n",
    "    print(e.tag)"
   ]
  },
  {
   "cell_type": "code",
   "execution_count": 8,
   "metadata": {},
   "outputs": [],
   "source": [
    "s.xml.find('.//q', namespaces=e.nsmap)"
   ]
  },
  {
   "cell_type": "markdown",
   "metadata": {},
   "source": [
    "## How many speeches have a `<q>` tag?"
   ]
  },
  {
   "cell_type": "code",
   "execution_count": 11,
   "metadata": {},
   "outputs": [
    {
     "data": {
      "application/vnd.jupyter.widget-view+json": {
       "model_id": "d02e5d6dc48b4640996953b15e01b7da",
       "version_major": 2,
       "version_minor": 0
      },
      "text/plain": [
       "HBox(children=(IntProgress(value=0, bar_style='info', max=2362), Label(value='0/2362')))"
      ]
     },
     "metadata": {},
     "output_type": "display_data"
    }
   ],
   "source": [
    "speeches = api.getSpeeches(progress=True)"
   ]
  },
  {
   "cell_type": "code",
   "execution_count": 12,
   "metadata": {},
   "outputs": [
    {
     "name": "stdout",
     "output_type": "stream",
     "text": [
      "CTS error for: <Speech: Homer Odyssey 9.2-9.1472>\n",
      "CTS error for: <Speech: Homer Odyssey 11.378-11.1093>\n",
      "CTS error for: <Speech: Apollonius Argonautica 3.727-3.739>\n",
      "CTS error for: <Speech: Virgil Aeneid 2.3-2.3,715>\n",
      "CTS error for: <Speech: Virgil Aeneid 7.68b-7.70>\n",
      "CTS error for: <Speech: Ovid Metamorphoses 1.545-1.546>\n",
      "CTS error for: <Speech: Ovid Metamorphoses 4.793-4.803>\n",
      "CTS error for: <Speech: Ovid Metamorphoses 10.62-10.62b>\n",
      "CTS error for: <Speech: Ovid Metamorphoses 14.383-14.385>\n"
     ]
    }
   ],
   "source": [
    "cts_failed = []\n",
    "for s in speeches:\n",
    "    try:\n",
    "        s.cts = s.getCTS()\n",
    "    except:\n",
    "        print(f'CTS error for: {s}')\n",
    "        cts_failed.append(s)\n",
    "        s.cts = None"
   ]
  },
  {
   "cell_type": "code",
   "execution_count": null,
   "metadata": {},
   "outputs": [],
   "source": [
    "tag_succeeded = []\n",
    "sq_succeeded = []\n",
    "failed = []\n",
    "\n",
    "for s in speeches:\n",
    "    if s.cts is not None:\n",
    "        if s.cts.xml.find('.//q', namespaces=s.cts.xml.nsmap) is not None:\n",
    "            tag_succeeded.append(s)\n",
    "        elif '‘' in s.cts.text:\n",
    "            sq_succeeded.append(s)\n",
    "        else:\n",
    "            failed.append(s)"
   ]
  },
  {
   "cell_type": "code",
   "execution_count": null,
   "metadata": {},
   "outputs": [],
   "source": [
    "print(len(tag_succeeded), len(sq_succeeded), len(failed))"
   ]
  },
  {
   "cell_type": "code",
   "execution_count": null,
   "metadata": {},
   "outputs": [],
   "source": [
    "failed"
   ]
  },
  {
   "cell_type": "code",
   "execution_count": null,
   "metadata": {},
   "outputs": [],
   "source": [
    "passage"
   ]
  },
  {
   "cell_type": "code",
   "execution_count": null,
   "metadata": {},
   "outputs": [],
   "source": [
    "passage.text"
   ]
  },
  {
   "cell_type": "code",
   "execution_count": null,
   "metadata": {},
   "outputs": [],
   "source": [
    "print(s.urn)"
   ]
  },
  {
   "cell_type": "code",
   "execution_count": null,
   "metadata": {},
   "outputs": [],
   "source": []
  }
 ],
 "metadata": {
  "kernelspec": {
   "display_name": "Python 3",
   "language": "python",
   "name": "python3"
  },
  "language_info": {
   "codemirror_mode": {
    "name": "ipython",
    "version": 3
   },
   "file_extension": ".py",
   "mimetype": "text/x-python",
   "name": "python",
   "nbconvert_exporter": "python",
   "pygments_lexer": "ipython3",
   "version": "3.7.3"
  }
 },
 "nbformat": 4,
 "nbformat_minor": 4
}
