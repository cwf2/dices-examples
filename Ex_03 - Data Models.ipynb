{
 "cells": [
  {
   "cell_type": "markdown",
   "metadata": {},
   "source": [
    "# Fetching and filtering data from the database\n",
    "    \n",
    "When using the dices-client you will be able to manipulate data by using predefined methods to parse and manipulate data.\n",
    "    \n",
    "You will be able to use DataGroups more effectively with reading this notebook. This document will go over the datatypes that are included in the client for you to better understand how to efficiently parse the data given from the database.\n",
    "\n",
    "## Preliminaries\n",
    "\n",
    "First, we have to create a connection to the DICES API:"
   ]
  },
  {
   "cell_type": "code",
   "execution_count": null,
   "metadata": {},
   "outputs": [],
   "source": [
    "import dicesapi\n",
    "from dicesapi import DicesAPI\n",
    "from dicesapi.jupyter import NotebookPBar\n",
    "\n",
    "api = DicesAPI(\n",
    "    dices_api = 'https://fierce-ravine-99183.herokuapp.com/api/',\n",
    "    cts_api = 'http://cts.perseids.org/api/cts/',\n",
    "    progress_class = NotebookPBar,\n",
    ")"
   ]
  },
  {
   "cell_type": "markdown",
   "metadata": {},
   "source": [
    "## Datagroups\n",
    "    \n",
    "All methods that return a group of Datatypes will return a Datagroup.\n",
    "\n",
    "e.g. `.getSpeeches()` would return a DataGroup:"
   ]
  },
  {
   "cell_type": "code",
   "execution_count": null,
   "metadata": {},
   "outputs": [],
   "source": [
    "speeches = api.getSpeeches(spkr_name='Achilles', progress=True)"
   ]
  },
  {
   "cell_type": "code",
   "execution_count": null,
   "metadata": {},
   "outputs": [],
   "source": [
    "isinstance(speeches, dicesapi._DataGroup)"
   ]
  },
  {
   "cell_type": "markdown",
   "metadata": {},
   "source": [
    "There are Datagroups for each data class that the API provides (EG: CharacterGroup, SpeechGroup, CharacterInstanceGroup etc...) and each method that fetches data yields its respective Datagroup child (`.getSpeeches()` => SpeechGroup)"
   ]
  },
  {
   "cell_type": "code",
   "execution_count": null,
   "metadata": {},
   "outputs": [],
   "source": [
    "type(speeches)"
   ]
  },
  {
   "cell_type": "markdown",
   "id": "c564bb31",
   "metadata": {},
   "source": [
    "These DataGroups have plenty of built in functionality to them that allows them to be manipulated.\n",
    "    \n",
    "## List-like behaviour\n",
    " \n",
    "In essence, DataGroups can be treated similarly to lists, where you can fetch data from them in similar ways to lists.\n",
    "\n",
    "### Fetching an element of the datagroup"
   ]
  },
  {
   "cell_type": "code",
   "execution_count": null,
   "metadata": {},
   "outputs": [],
   "source": [
    "print('first speech: ' + str(speeches[0]))\n",
    "print('sixth speech: ' + str(speeches[5]))"
   ]
  },
  {
   "cell_type": "markdown",
   "metadata": {},
   "source": [
    "### Iterating over the DataGroup"
   ]
  },
  {
   "cell_type": "code",
   "execution_count": null,
   "metadata": {},
   "outputs": [],
   "source": [
    "for i, s in enumerate(speeches[:5]):\n",
    "    print(f'item {i}: {s}')"
   ]
  },
  {
   "cell_type": "markdown",
   "metadata": {},
   "source": [
    "### Get number of elements in the DataGroup"
   ]
  },
  {
   "cell_type": "code",
   "execution_count": null,
   "metadata": {},
   "outputs": [],
   "source": [
    "print(len(speeches))"
   ]
  },
  {
   "cell_type": "markdown",
   "id": "4fc37116",
   "metadata": {},
   "source": [
    "## Operators\n",
    "\n",
    "### Addition\n",
    "\n",
    "Addition allows you to concatenate two DataGroups together. This method will remove duplicate values. Addition creates a brand new DataGroup consisting of elements of both datagroups."
   ]
  },
  {
   "cell_type": "code",
   "execution_count": null,
   "id": "366ab031",
   "metadata": {},
   "outputs": [],
   "source": [
    "ach_spkr = api.getSpeeches(spkr_name='Achilles', work_title='Iliad')\n",
    "ach_addr = api.getSpeeches(addr_name='Achilles', work_title='Iliad')\n",
    "\n",
    "print(f'Achilles is speaker in {len(ach_spkr)} speeches in the Iliad.')\n",
    "print(f'Achilles is addressee in {len(ach_addr)} speeches in the Iliad.')\n",
    "\n",
    "all_ach = ach_spkr + ach_addr\n",
    "print(f'Achilles is involved in {len(all_ach)} speeches in the Iliad (in any role).')"
   ]
  },
  {
   "cell_type": "markdown",
   "id": "c7a09f62",
   "metadata": {},
   "source": [
    "**Notes**\n",
    "\n",
    "- If you want to keep duplicates use `.extend(otherDataGroup, duplicates=True)`\n",
    "\n",
    "- If you want to add group2 directly to group1, use: `group1 += group2`"
   ]
  },
  {
   "cell_type": "markdown",
   "metadata": {},
   "source": [
    "### Subtraction\n",
    "\n",
    "Subtraction creates a new DataGroup that takes the elements from DataGroup1 and excludes any that are a part of DataGroup2."
   ]
  },
  {
   "cell_type": "code",
   "execution_count": null,
   "id": "43d3b682",
   "metadata": {},
   "outputs": [],
   "source": [
    "# speeches where Ach is not speaking to himself\n",
    "\n",
    "ach_to_others = ach_spkr - ach_addr\n",
    "print(len(ach_to_others))"
   ]
  },
  {
   "cell_type": "markdown",
   "metadata": {},
   "source": [
    "**Notes**\n",
    "\n",
    "- If you want to modify group1 directly instead of making a copy, use: `group1 -= group2`"
   ]
  },
  {
   "cell_type": "markdown",
   "id": "58e853ae",
   "metadata": {},
   "source": [
    "## Methods\n",
    "\n",
    "### General Purpose"
   ]
  },
  {
   "cell_type": "markdown",
   "metadata": {},
   "source": [
    "#### `extend(DataGroup, duplicates=False)`\n",
    "\n",
    "Extend acts similarly to `+=`, however it allows the user to specify if duplicate values should be left in the list. In most cases `+` should be used but if duplicates are needed extend must be used."
   ]
  },
  {
   "cell_type": "markdown",
   "metadata": {},
   "source": [
    "#### `intersect(DataGroup)`\n",
    "\n",
    "Intersect takes the elements from two DataGroups and returns a new DataGroup that only contains elements that were shared in both DataGroups"
   ]
  },
  {
   "cell_type": "code",
   "execution_count": null,
   "metadata": {},
   "outputs": [],
   "source": [
    "# only speeches where Achilles talks to himself\n",
    "ach_self = ach_spkr.intersect(ach_addr)\n",
    "\n",
    "print(len(ach_self))"
   ]
  },
  {
   "cell_type": "markdown",
   "id": "32f6d035",
   "metadata": {},
   "source": [
    "### Filters\n",
    "\n",
    "Filters are methods that allows users to take DataGroups and find elements that have specific values attached to them. Every DataGroup child has their own specific filters, however there are some that are shared between all DataGroups.\n",
    "    \n",
    "To learn more about filters check the \"Using and Understanding Filters\" notebook"
   ]
  },
  {
   "cell_type": "markdown",
   "id": "5a9c0091",
   "metadata": {},
   "source": [
    "#### `filterAttribute(attribute, value)`\n",
    "\n",
    "filterAttribute allows users to search through all the elements of a DataGroup and filters them based on an inputted attribute and matching value. This method only checks for literal values (This includes Strings, integers and floats)"
   ]
  },
  {
   "cell_type": "code",
   "execution_count": null,
   "id": "c5419070",
   "metadata": {},
   "outputs": [],
   "source": [
    "# only speeches that initiate a conversation\n",
    "filtered = ach_spkr.filterAttribute('part', 1)\n",
    "print(len(filtered))"
   ]
  },
  {
   "cell_type": "markdown",
   "id": "c0d29329",
   "metadata": {},
   "source": [
    "#### `filterList(attribute, list)`\n",
    "\n",
    "filterList allows users to search through all the elements of a DataGroup and filters them based on an inputted attribute, and then checks if the value at this attribute is contained withing a supplied list. This allows users to include multiple values in their filter"
   ]
  },
  {
   "cell_type": "code",
   "execution_count": null,
   "id": "f2d47c3d",
   "metadata": {},
   "outputs": [],
   "source": [
    "# only speeches that represent an even-numbered turn\n",
    "filtered = ach_spkr.filterList('part', [2, 4, 6, 8, 10, 12])\n",
    "print(len(filtered))"
   ]
  },
  {
   "cell_type": "markdown",
   "id": "a0f05e6d",
   "metadata": {},
   "source": [
    "#### `advancedFilter(func)`\n",
    "\n",
    "advancedFilter allows users to provide their own filter function to filter all of the things that are in the given data, these filters can be anything as long as they return a boolean values and have a single argument which will be an element of the DataGroup. For plenty of examples of the usage of this method, please check the \"Using and Understanding Filters\" notebook"
   ]
  },
  {
   "cell_type": "code",
   "execution_count": null,
   "id": "c3819882",
   "metadata": {},
   "outputs": [],
   "source": [
    "# a better way to check even numbered turns,\n",
    "# especially if you're going to use it more than once\n",
    "\n",
    "def filterFunction(speech):\n",
    "    '''check whether speech is even-numbered turn'''\n",
    "    return speech.part % 2 == 0\n",
    "\n",
    "filtered = ach_spkr.advancedFilter(filterFunction)\n",
    "print(len(filtered))"
   ]
  },
  {
   "cell_type": "code",
   "execution_count": null,
   "metadata": {},
   "outputs": [],
   "source": [
    "# for one-offs, use lambda\n",
    "\n",
    "filtered = ach_spkr.advancedFilter(lambda s: s.part % 2 == 0)\n",
    "print(len(filtered))"
   ]
  }
 ],
 "metadata": {
  "kernelspec": {
   "display_name": "Python 3",
   "language": "python",
   "name": "python3"
  },
  "language_info": {
   "codemirror_mode": {
    "name": "ipython",
    "version": 3
   },
   "file_extension": ".py",
   "mimetype": "text/x-python",
   "name": "python",
   "nbconvert_exporter": "python",
   "pygments_lexer": "ipython3",
   "version": "3.7.3"
  }
 },
 "nbformat": 4,
 "nbformat_minor": 5
}
