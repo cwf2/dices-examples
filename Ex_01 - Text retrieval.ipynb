{
 "cells": [
  {
   "cell_type": "markdown",
   "metadata": {},
   "source": [
    "# Retrieving CTS Passages using MyCapytain\n",
    "\n",
    "In this example, we'll use [MyCapytain](https://github.com/Capitains/MyCapytain) to retrieve the text of some speeches from a remote CTS server.\n",
    "\n",
    "## Scenario\n",
    "\n",
    "Let's say we want to know how many words Achilles speaks to each of his interlocutors. We can search the DICES database for the relevant speeches using the API. Then, to count the number of words, we'll have to retrieve the text of the speeches themselves. Since the DICES *Speech* objects include CTS URNS, we can request the passages from a remote server. \n",
    "\n",
    "## Preliminaries\n",
    "\n",
    "### Install the client library\n",
    "\n",
    "If you don't have the DICES client library, you can install it with **pip**:\n",
    "```\n",
    "pip install git+https://github.com/cwf2/dices-client.git\n",
    "```\n",
    "\n",
    "### The DICES API\n",
    "\n",
    "We have to provide an endpoint for the DICES api. Here, we're using the Heroku test instance, so it runs a little slow.\n",
    "\n",
    "We can optionally provide a CTS server for text services. We'll use the [Perseids CTS server](https://cts.perseids.org/)."
   ]
  },
  {
   "cell_type": "code",
   "execution_count": null,
   "metadata": {},
   "outputs": [],
   "source": [
    "from dicesapi import DicesAPI\n",
    "dices = 'https://fierce-ravine-99183.herokuapp.com/api'\n",
    "perseus = 'http://cts.perseids.org/api/cts/'\n",
    "\n",
    "api = DicesAPI(dices_api=dices, cts_api=perseus)"
   ]
  },
  {
   "cell_type": "markdown",
   "metadata": {},
   "source": [
    "For work in Jupyter, we can add a little razzle-dazzle..."
   ]
  },
  {
   "cell_type": "code",
   "execution_count": null,
   "metadata": {},
   "outputs": [],
   "source": [
    "# this is just to provide progress bars in Jupyter\n",
    "from dicesapi.jupyter import NotebookPBar\n",
    "api._ProgressClass = NotebookPBar"
   ]
  },
  {
   "cell_type": "markdown",
   "metadata": {},
   "source": [
    "### Matplotlib for figures\n",
    "\n",
    "Finally, we'll import pyplot for drawing a simple bar graph of the results. Note the Jupyter magic `%matplotlib inline` to display the figure right in the notebook. Some people like `%matplotlib notebook` better — it gives you some fancier display options."
   ]
  },
  {
   "cell_type": "code",
   "execution_count": null,
   "metadata": {},
   "outputs": [],
   "source": [
    "from matplotlib import pyplot\n",
    "%matplotlib inline"
   ]
  },
  {
   "cell_type": "markdown",
   "metadata": {},
   "source": [
    "## Running the experiment\n",
    "\n",
    "Here's the code for calculating Achilles' speech lengths by addressee.\n",
    "\n",
    "### First, download the speeches\n",
    "\n",
    "Using the hand-rolled DICES API code, we can search speeches using keywords. For now, JSON results from the API are paged, so if your search has a lot of results, you may have to wait for several pages to download. I've added a progress bar widget because I get impatient.\n",
    "\n",
    "<div class=\"alert alert-warning\" style=\"margin:1em 2em\">\n",
    "    <p><strong>NB:</strong> Because the server is on Heroku's free tier, it take a minute to wake up when you first run a search. Subsequent tries are usually faster.</p>\n",
    "</div>"
   ]
  },
  {
   "cell_type": "code",
   "execution_count": null,
   "metadata": {},
   "outputs": [],
   "source": [
    "speeches = api.getSpeeches(spkr_name='Achilles', progress=True)"
   ]
  },
  {
   "cell_type": "markdown",
   "metadata": {},
   "source": [
    "### Count the words for each speech\n",
    "\n",
    "This involves retrieving each passage from the CTS server, and extracting the plaintext of its contents. When I wrote the `.getURN` method for Speech objects, I appended the loci to the work URN, but the resolver actuall wants them separate, so I'm splitting the URN back into work and loci strings. Then we use `getTextualNode` to retrieve the passage. MyCapytain gives us CTS Passage objects, which have a handy `.text` attribute.\n",
    "\n",
    "**NB:** This is not how you'd really want to count words if you were serious. A proper tokenizer like [CLTK](http://cltk.org/) would be much more sophisticated."
   ]
  },
  {
   "cell_type": "code",
   "execution_count": null,
   "metadata": {},
   "outputs": [],
   "source": [
    "# initialize our counter\n",
    "count = {}\n",
    "\n",
    "# iterate over all speeches\n",
    "for speech in speeches:\n",
    "    \n",
    "    # retrieve the passage from the remote library\n",
    "    cts_passage = speech.getCTS()\n",
    "    \n",
    "    # extract the text and split into words\n",
    "    plaintext = cts_passage.text\n",
    "    n_words = len(plaintext.split())\n",
    "    \n",
    "    # tally the word counts for each addressee\n",
    "    for addressee in speech.addr:\n",
    "        name = addressee.name\n",
    "        if name == 'Achilles':\n",
    "            name = 'himself'\n",
    "        count[name] = count.get(name, 0) + n_words"
   ]
  },
  {
   "cell_type": "markdown",
   "metadata": {},
   "source": [
    "### Examine the results\n",
    "\n",
    "🤔 Let's see whether it worked!"
   ]
  },
  {
   "cell_type": "code",
   "execution_count": null,
   "metadata": {},
   "outputs": [],
   "source": [
    "for name in sorted(count):\n",
    "    print(name, count[name])"
   ]
  },
  {
   "cell_type": "markdown",
   "metadata": {},
   "source": [
    "### Make a simple graph with pyplot\n",
    "\n",
    "Seems good. Let's visualize it with a simple bar chart."
   ]
  },
  {
   "cell_type": "code",
   "execution_count": null,
   "metadata": {},
   "outputs": [],
   "source": [
    "# data for the graph\n",
    "names = sorted(count)\n",
    "y_pos = range(len(names))\n",
    "bars = [count[name] for name in names]\n",
    "\n",
    "# create a new figure\n",
    "fig, ax = pyplot.subplots(figsize=(8, 8))\n",
    "\n",
    "# draw the bars\n",
    "ax.barh(y_pos, bars, align='center')\n",
    "\n",
    "# annotate the graph\n",
    "ax.set_yticks(y_pos)\n",
    "ax.set_yticklabels(names)\n",
    "ax.invert_yaxis()  # labels read top-to-bottom\n",
    "ax.set_xlabel('Number of Words')\n",
    "ax.set_ylabel('Addressee')\n",
    "ax.set_title('Length of Achilles\\' speeches')"
   ]
  }
 ],
 "metadata": {
  "kernelspec": {
   "display_name": "Python 3",
   "language": "python",
   "name": "python3"
  },
  "language_info": {
   "codemirror_mode": {
    "name": "ipython",
    "version": 3
   },
   "file_extension": ".py",
   "mimetype": "text/x-python",
   "name": "python",
   "nbconvert_exporter": "python",
   "pygments_lexer": "ipython3",
   "version": "3.7.3"
  }
 },
 "nbformat": 4,
 "nbformat_minor": 4
}
