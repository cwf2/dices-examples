{
 "cells": [
  {
   "cell_type": "code",
   "execution_count": 1,
   "metadata": {},
   "outputs": [],
   "source": [
    "from dicesapi import DicesAPI\n",
    "from dicesapi.jupyter import NotebookPBar\n",
    "import pandas as pd\n",
    "from collections import Counter\n",
    "from matplotlib import pyplot\n",
    "\n",
    "api = DicesAPI(progress_class=NotebookPBar, logfile='dices.log')"
   ]
  },
  {
   "cell_type": "markdown",
   "metadata": {},
   "source": [
    "# Download some speeches"
   ]
  },
  {
   "cell_type": "code",
   "execution_count": 2,
   "metadata": {},
   "outputs": [
    {
     "data": {
      "application/vnd.jupyter.widget-view+json": {
       "model_id": "610c041336984f0daa2dd56148fe7ad0",
       "version_major": 2,
       "version_minor": 0
      },
      "text/plain": [
       "HBox(children=(IntProgress(value=0, bar_style='info', max=111), Label(value='0/111')))"
      ]
     },
     "metadata": {},
     "output_type": "display_data"
    }
   ],
   "source": [
    "speeches = api.getSpeeches(spkr_name='Achilles', progress=True)"
   ]
  },
  {
   "cell_type": "markdown",
   "metadata": {},
   "source": [
    "# Download the text of the speeches"
   ]
  },
  {
   "cell_type": "code",
   "execution_count": 3,
   "metadata": {},
   "outputs": [
    {
     "data": {
      "application/vnd.jupyter.widget-view+json": {
       "model_id": "eb7905f4245b4f62a7d942911d344b83",
       "version_major": 2,
       "version_minor": 0
      },
      "text/plain": [
       "HBox(children=(IntProgress(value=0, bar_style='info', max=111), Label(value='0/111')))"
      ]
     },
     "metadata": {},
     "output_type": "display_data"
    }
   ],
   "source": [
    "# create a progress bar\n",
    "pbar = NotebookPBar(max=len(speeches))\n",
    "\n",
    "# download text of speeches\n",
    "for s in speeches:\n",
    "    if not hasattr(s, 'cts_passage'):\n",
    "        s.cts_passage = s.getCTS()\n",
    "    pbar.update()"
   ]
  },
  {
   "cell_type": "markdown",
   "metadata": {},
   "source": [
    "# Natural language processing with CLTK "
   ]
  },
  {
   "cell_type": "code",
   "execution_count": 4,
   "metadata": {},
   "outputs": [],
   "source": [
    "from cltk import NLP\n",
    "\n",
    "cltk_nlp = {\n",
    "    'greek': NLP('grc', suppress_banner=True),\n",
    "    'latin': NLP('lat', suppress_banner=True),\n",
    "}\n",
    "\n",
    "cltk_nlp['greek'].pipeline.processes = cltk_nlp['greek'].pipeline.processes[:2]\n",
    "cltk_nlp['latin'].pipeline.processes = cltk_nlp['latin'].pipeline.processes[:2]"
   ]
  },
  {
   "cell_type": "code",
   "execution_count": 5,
   "metadata": {},
   "outputs": [
    {
     "data": {
      "application/vnd.jupyter.widget-view+json": {
       "model_id": "09dd67b68ed6439d98fca0105bf7b8e5",
       "version_major": 2,
       "version_minor": 0
      },
      "text/plain": [
       "HBox(children=(IntProgress(value=0, bar_style='info', max=111), Label(value='0/111')))"
      ]
     },
     "metadata": {},
     "output_type": "display_data"
    }
   ],
   "source": [
    "pbar = NotebookPBar(max=len(speeches))\n",
    "\n",
    "# parse all the speeches\n",
    "for s in speeches:\n",
    "    if s.cts_passage is None:\n",
    "        s.cltk_doc = None\n",
    "    else:\n",
    "        s.cltk_doc = cltk_nlp[s.lang](s.cts_passage.text)\n",
    "    pbar.update()"
   ]
  },
  {
   "cell_type": "markdown",
   "metadata": {},
   "source": [
    "Let’s take a look at what we get. We’ll use the first speech as an example. First, let me quickly remind myself where this speech comes from and who Achilles is talking to here."
   ]
  },
  {
   "cell_type": "code",
   "execution_count": 6,
   "metadata": {},
   "outputs": [
    {
     "name": "stdout",
     "output_type": "stream",
     "text": [
      "<Speech 4: Iliad 1.59-1.67>\n",
      "[<CharacterInstance 5: Achilles>] [<CharacterInstance 2: Agamemnon>]\n"
     ]
    }
   ],
   "source": [
    "s = speeches[0]\n",
    "\n",
    "print(s)\n",
    "print(s.spkr, s.addr)"
   ]
  },
  {
   "cell_type": "markdown",
   "metadata": {},
   "source": [
    "Okay, this is Achilles’s first speech in the Iliad, where he accosts Agamemnon. Let’s take a look at the full text. We already downloaded the CTS passage above, so all we have to do is use the `.text` property to get the plain text of the passage. This is the text that we passed to CLTK for processing."
   ]
  },
  {
   "cell_type": "code",
   "execution_count": 7,
   "metadata": {},
   "outputs": [
    {
     "name": "stdout",
     "output_type": "stream",
     "text": [
      "Ἀτρεΐδη νῦν ἄμμε παλιμπλαγχθέντας ὀΐω ἂψ ἀπονοστήσειν, εἴ κεν θάνατόν γε φύγοιμεν, εἰ δὴ ὁμοῦ πόλεμός τε δαμᾷ καὶ λοιμὸς Ἀχαιούς· ἀλλʼ ἄγε δή τινα μάντιν ἐρείομεν ἢ ἱερῆα ἢ καὶ ὀνειροπόλον, καὶ γάρ τʼ ὄναρ ἐκ Διός ἐστιν, ὅς κʼ εἴποι ὅ τι τόσσον ἐχώσατο Φοῖβος Ἀπόλλων, εἴτʼ ἄρʼ ὅ γʼ εὐχωλῆς ἐπιμέμφεται ἠδʼ ἑκατόμβης, αἴ κέν πως ἀρνῶν κνίσης αἰγῶν τε τελείων βούλεται ἀντιάσας ἡμῖν ἀπὸ λοιγὸν ἀμῦναι.\n"
     ]
    }
   ],
   "source": [
    "print(s.cts_passage.text)"
   ]
  },
  {
   "cell_type": "markdown",
   "metadata": {},
   "source": [
    "Now, what did CLTK give us? The results of all the processing steps included in a pipeline are returned together as a single, composite object. In this example, we’ve limited the pipeline to the first two steps, normalization and parsing. Here’s what we get when we inspect the CLTK `Doc` object itself:"
   ]
  },
  {
   "cell_type": "code",
   "execution_count": 8,
   "metadata": {},
   "outputs": [
    {
     "name": "stdout",
     "output_type": "stream",
     "text": [
      "Doc(language='grc', words=[Word(index_char_start=None, index_char_stop=None, index_token=0, index_sentence=0, string='Ἀτρεΐδη', pos=proper_noun, lemma='Ἀτρεΐδης', stem=None, scansion=None, xpos='Ne', upos='PROPN', dependency_relation='vocative', governor=4, features={Case: [vocative], Gender: [masculine], Number: [singular]}, category={F: [neg], N: [pos], V: [neg]}, stop=None, named_entity=None, syllables=None, phonetic_transcription=None, definition=None), Word(index_char_start=None, index_char_stop=None, index_token=1, index_sentence=0, string='νῦν', pos=adverb, lemma='νῦν', stem=None, scansion=None, xpos='Df', upos='ADV', dependency_relation='advmod', governor=4, features={}, category={F: [neg], N: [pos], V: [pos]}, stop=None, named_entity=None, syllables=None, phonetic_transcription=None, definition=None), Word(index_char_start=None, index_char_stop=None, index_token=2, index_sentence=0, string='ἄμμε', pos=adverb, lemma='ἄμμε', stem=None, scansion=None, xpos='Df', upos='ADV', dependency_relation='advmod', governor=3, features={}, category={F: [neg], N: [pos], V: [pos]}, stop=None, named_entity=None, syllables=None, phonetic_transcription=None, definition=None), Word(index_char_start=None, index_char_stop=None, index_token=3, index_sentence=0, string='παλιμπλαγχθέντας', pos=verb, lemma='παλιμπλάσσω', stem=None, scansion=None, xpos='V-', upos='VERB', dependency_relation='advcl', governor=6, features={Aspect: [perfective], Case: [accusative], Gender: [masculine], Number: [plural], Tense: [past], VerbForm: [participle], Voice: [passive]}, category={F: [neg], N: [neg], V: [pos]}, stop=None, named_entity=None, syllables=None, phonetic_transcription=None, definition=None), Word(index_char_start=None, index_char_stop=None, index_token=4, index_sentence=0, string='ὀΐω', pos=verb, lemma='ὀιω', stem=None, scansion=None, xpos='V-', upos='VERB', dependency_relation='root', governor=-1, features={Aspect: [perfective], Mood: [indicative], Number: [singular], Person: [first], Tense: [past], VerbForm: [finite], Voice: [active]}, category={F: [neg], N: [neg], V: [pos]}, stop=None, named_entity=None, syllables=None, phonetic_transcription=None, definition=None), Word(index_char_start=None, index_char_stop=None, index_token=5, index_sentence=0, string='ἂψ', pos=noun, lemma='ἀάς', stem=None, scansion=None, xpos='Nb', upos='NOUN', dependency_relation='nsubj', governor=6, features={Case: [accusative], Gender: [neuter], Number: [singular]}, category={F: [neg], N: [pos], V: [neg]}, stop=None, named_entity=None, syllables=None, phonetic_transcription=None, definition=None), Word(index_char_start=None, index_char_stop=None, index_token=6, index_sentence=0, string='ἀπονοστήσειν,', pos=verb, lemma='ἀπονοστέω', stem=None, scansion=None, xpos='V-', upos='VERB', dependency_relation='ccomp', governor=4, features={Tense: [future], VerbForm: [infinitive], Voice: [active]}, category={F: [neg], N: [neg], V: [pos]}, stop=None, named_entity=None, syllables=None, phonetic_transcription=None, definition=None), Word(index_char_start=None, index_char_stop=None, index_token=0, index_sentence=1, string='εἴ', pos=subordinating_conjunction, lemma='εἰ', stem=None, scansion=None, xpos='G-', upos='SCONJ', dependency_relation='mark', governor=4, features={}, category={F: [pos]}, stop=None, named_entity=None, syllables=None, phonetic_transcription=None, definition=None), Word(index_char_start=None, index_char_stop=None, index_token=1, index_sentence=1, string='κεν', pos=adverb, lemma='ἄν', stem=None, scansion=None, xpos='Df', upos='ADV', dependency_relation='advmod', governor=4, features={}, category={F: [neg], N: [pos], V: [pos]}, stop=None, named_entity=None, syllables=None, phonetic_transcription=None, definition=None), Word(index_char_start=None, index_char_stop=None, index_token=2, index_sentence=1, string='θάνατόν', pos=noun, lemma='θάνατος', stem=None, scansion=None, xpos='Nb', upos='NOUN', dependency_relation='obj', governor=4, features={Case: [accusative], Gender: [masculine], Number: [singular]}, category={F: [neg], N: [pos], V: [neg]}, stop=None, named_entity=None, syllables=None, phonetic_transcription=None, definition=None), Word(index_char_start=None, index_char_stop=None, index_token=3, index_sentence=1, string='γε', pos=adverb, lemma='γε', stem=None, scansion=None, xpos='Df', upos='ADV', dependency_relation='discourse', governor=4, features={}, category={F: [neg], N: [pos], V: [pos]}, stop=None, named_entity=None, syllables=None, phonetic_transcription=None, definition=None), Word(index_char_start=None, index_char_stop=None, index_token=4, index_sentence=1, string='φύγοιμεν,', pos=verb, lemma='φεύγω', stem=None, scansion=None, xpos='V-', upos='VERB', dependency_relation='root', governor=-1, features={Mood: [indicative], Number: [singular], Person: [first], Tense: [future], VerbForm: [finite], Voice: [active]}, category={F: [neg], N: [neg], V: [pos]}, stop=None, named_entity=None, syllables=None, phonetic_transcription=None, definition=None), Word(index_char_start=None, index_char_stop=None, index_token=5, index_sentence=1, string='εἰ', pos=subordinating_conjunction, lemma='εἰ', stem=None, scansion=None, xpos='G-', upos='SCONJ', dependency_relation='mark', governor=10, features={}, category={F: [pos]}, stop=None, named_entity=None, syllables=None, phonetic_transcription=None, definition=None), Word(index_char_start=None, index_char_stop=None, index_token=6, index_sentence=1, string='δὴ', pos=adverb, lemma='δή', stem=None, scansion=None, xpos='Df', upos='ADV', dependency_relation='discourse', governor=10, features={}, category={F: [neg], N: [pos], V: [pos]}, stop=None, named_entity=None, syllables=None, phonetic_transcription=None, definition=None), Word(index_char_start=None, index_char_stop=None, index_token=7, index_sentence=1, string='ὁμοῦ', pos=adverb, lemma='ὁμοῦ', stem=None, scansion=None, xpos='Df', upos='ADV', dependency_relation='advmod', governor=10, features={}, category={F: [neg], N: [pos], V: [pos]}, stop=None, named_entity=None, syllables=None, phonetic_transcription=None, definition=None), Word(index_char_start=None, index_char_stop=None, index_token=8, index_sentence=1, string='πόλεμός', pos=noun, lemma='πόλεμος', stem=None, scansion=None, xpos='Nb', upos='NOUN', dependency_relation='nsubj', governor=10, features={Case: [nominative], Gender: [masculine], Number: [singular]}, category={F: [neg], N: [pos], V: [neg]}, stop=None, named_entity=None, syllables=None, phonetic_transcription=None, definition=None), Word(index_char_start=None, index_char_stop=None, index_token=9, index_sentence=1, string='τε', pos=coordinating_conjunction, lemma='τε', stem=None, scansion=None, xpos='C-', upos='CCONJ', dependency_relation='cc', governor=8, features={}, category={F: [pos]}, stop=None, named_entity=None, syllables=None, phonetic_transcription=None, definition=None), Word(index_char_start=None, index_char_stop=None, index_token=10, index_sentence=1, string='δαμᾷ', pos=verb, lemma='δαμάω', stem=None, scansion=None, xpos='V-', upos='VERB', dependency_relation='advcl', governor=4, features={Mood: [indicative], Number: [singular], Person: [third], Tense: [present], VerbForm: [finite], Voice: [active]}, category={F: [neg], N: [neg], V: [pos]}, stop=None, named_entity=None, syllables=None, phonetic_transcription=None, definition=None), Word(index_char_start=None, index_char_stop=None, index_token=11, index_sentence=1, string='καὶ', pos=coordinating_conjunction, lemma='καί', stem=None, scansion=None, xpos='C-', upos='CCONJ', dependency_relation='cc', governor=8, features={}, category={F: [pos]}, stop=None, named_entity=None, syllables=None, phonetic_transcription=None, definition=None), Word(index_char_start=None, index_char_stop=None, index_token=12, index_sentence=1, string='λοιμὸς', pos=noun, lemma='λοιμός', stem=None, scansion=None, xpos='Nb', upos='NOUN', dependency_relation='conj', governor=8, features={Case: [nominative], Gender: [masculine], Number: [singular]}, category={F: [neg], N: [pos], V: [neg]}, stop=None, named_entity=None, syllables=None, phonetic_transcription=None, definition=None), Word(index_char_start=None, index_char_stop=None, index_token=13, index_sentence=1, string='Ἀχαιούς·', pos=adjective, lemma='Ἀχαιός', stem=None, scansion=None, xpos='A-', upos='ADJ', dependency_relation='amod', governor=12, features={Case: [accusative], Degree: [positive], Gender: [masculine], Number: [plural]}, category={F: [neg], N: [pos], V: [pos]}, stop=None, named_entity=None, syllables=None, phonetic_transcription=None, definition=None), Word(index_char_start=None, index_char_stop=None, index_token=0, index_sentence=2, string='ἀλλʼ', pos=coordinating_conjunction, lemma='ἀλλʼ', stem=None, scansion=None, xpos='C-', upos='CCONJ', dependency_relation='cc', governor=1, features={}, category={F: [pos]}, stop=None, named_entity=None, syllables=None, phonetic_transcription=None, definition=None), Word(index_char_start=None, index_char_stop=None, index_token=1, index_sentence=2, string='ἄγε', pos=verb, lemma='ἄγω', stem=None, scansion=None, xpos='V-', upos='VERB', dependency_relation='root', governor=-1, features={Mood: [imperative], Number: [singular], Person: [second], Tense: [present], VerbForm: [finite], Voice: [active]}, category={F: [neg], N: [neg], V: [pos]}, stop=None, named_entity=None, syllables=None, phonetic_transcription=None, definition=None), Word(index_char_start=None, index_char_stop=None, index_token=2, index_sentence=2, string='δή', pos=adverb, lemma='δή', stem=None, scansion=None, xpos='Df', upos='ADV', dependency_relation='discourse', governor=1, features={}, category={F: [neg], N: [pos], V: [pos]}, stop=None, named_entity=None, syllables=None, phonetic_transcription=None, definition=None), Word(index_char_start=None, index_char_stop=None, index_token=3, index_sentence=2, string='τινα', pos=determiner, lemma='τὶς', stem=None, scansion=None, xpos='Px', upos='DET', dependency_relation='det', governor=4, features={Case: [accusative], Gender: [masculine], Number: [singular]}, category={F: [pos], N: [pos], V: [neg]}, stop=None, named_entity=None, syllables=None, phonetic_transcription=None, definition=None), Word(index_char_start=None, index_char_stop=None, index_token=4, index_sentence=2, string='μάντιν', pos=noun, lemma='μάντις', stem=None, scansion=None, xpos='Nb', upos='NOUN', dependency_relation='obj', governor=5, features={Case: [accusative], Gender: [masculine], Number: [singular]}, category={F: [neg], N: [pos], V: [neg]}, stop=None, named_entity=None, syllables=None, phonetic_transcription=None, definition=None), Word(index_char_start=None, index_char_stop=None, index_token=5, index_sentence=2, string='ἐρείομεν', pos=verb, lemma='ἐρείω', stem=None, scansion=None, xpos='V-', upos='VERB', dependency_relation='ccomp', governor=1, features={Mood: [indicative], Number: [plural], Person: [first], Tense: [future], VerbForm: [finite], Voice: [active]}, category={F: [neg], N: [neg], V: [pos]}, stop=None, named_entity=None, syllables=None, phonetic_transcription=None, definition=None), Word(index_char_start=None, index_char_stop=None, index_token=6, index_sentence=2, string='ἢ', pos=coordinating_conjunction, lemma='ἤ', stem=None, scansion=None, xpos='C-', upos='CCONJ', dependency_relation='cc', governor=7, features={}, category={F: [pos]}, stop=None, named_entity=None, syllables=None, phonetic_transcription=None, definition=None), Word(index_char_start=None, index_char_stop=None, index_token=7, index_sentence=2, string='ἱερῆα', pos=noun, lemma='ἱερεύς', stem=None, scansion=None, xpos='Nb', upos='NOUN', dependency_relation='conj', governor=4, features={Case: [accusative], Gender: [feminine], Number: [singular]}, category={F: [neg], N: [pos], V: [neg]}, stop=None, named_entity=None, syllables=None, phonetic_transcription=None, definition=None), Word(index_char_start=None, index_char_stop=None, index_token=8, index_sentence=2, string='ἢ', pos=coordinating_conjunction, lemma='ἤ', stem=None, scansion=None, xpos='C-', upos='CCONJ', dependency_relation='cc', governor=7, features={}, category={F: [pos]}, stop=None, named_entity=None, syllables=None, phonetic_transcription=None, definition=None), Word(index_char_start=None, index_char_stop=None, index_token=9, index_sentence=2, string='καὶ', pos=adverb, lemma='καί', stem=None, scansion=None, xpos='Df', upos='ADV', dependency_relation='advmod', governor=10, features={}, category={F: [neg], N: [pos], V: [pos]}, stop=None, named_entity=None, syllables=None, phonetic_transcription=None, definition=None), Word(index_char_start=None, index_char_stop=None, index_token=10, index_sentence=2, string='ὀνειροπόλον,', pos=noun, lemma='ὀνειρόπολον', stem=None, scansion=None, xpos='Nb', upos='NOUN', dependency_relation='conj', governor=7, features={Case: [accusative], Gender: [masculine], Number: [singular]}, category={F: [neg], N: [pos], V: [neg]}, stop=None, named_entity=None, syllables=None, phonetic_transcription=None, definition=None), Word(index_char_start=None, index_char_stop=None, index_token=0, index_sentence=3, string='καὶ', pos=coordinating_conjunction, lemma='καί', stem=None, scansion=None, xpos='C-', upos='CCONJ', dependency_relation='root', governor=-1, features={}, category={F: [pos]}, stop=None, named_entity=None, syllables=None, phonetic_transcription=None, definition=None), Word(index_char_start=None, index_char_stop=None, index_token=1, index_sentence=3, string='γάρ', pos=adverb, lemma='γάρ', stem=None, scansion=None, xpos='Df', upos='ADV', dependency_relation='discourse', governor=0, features={}, category={F: [neg], N: [pos], V: [pos]}, stop=None, named_entity=None, syllables=None, phonetic_transcription=None, definition=None), Word(index_char_start=None, index_char_stop=None, index_token=2, index_sentence=3, string='τʼ', pos=coordinating_conjunction, lemma='τʼ', stem=None, scansion=None, xpos='C-', upos='CCONJ', dependency_relation='cc', governor=0, features={}, category={F: [pos]}, stop=None, named_entity=None, syllables=None, phonetic_transcription=None, definition=None), Word(index_char_start=None, index_char_stop=None, index_token=3, index_sentence=3, string='ὄναρ', pos=noun, lemma='ὄναρ', stem=None, scansion=None, xpos='Nb', upos='NOUN', dependency_relation='nsubj', governor=0, features={Case: [nominative], Gender: [neuter], Number: [singular]}, category={F: [neg], N: [pos], V: [neg]}, stop=None, named_entity=None, syllables=None, phonetic_transcription=None, definition=None), Word(index_char_start=None, index_char_stop=None, index_token=4, index_sentence=3, string='ἐκ', pos=adposition, lemma='ἐκ', stem=None, scansion=None, xpos='R-', upos='ADP', dependency_relation='case', governor=5, features={}, category={F: [pos], N: [neg], V: [neg]}, stop=None, named_entity=None, syllables=None, phonetic_transcription=None, definition=None), Word(index_char_start=None, index_char_stop=None, index_token=5, index_sentence=3, string='Διός', pos=proper_noun, lemma='Ζεύς', stem=None, scansion=None, xpos='Ne', upos='PROPN', dependency_relation='nmod', governor=3, features={Case: [genitive], Gender: [masculine], Number: [singular]}, category={F: [neg], N: [pos], V: [neg]}, stop=None, named_entity=None, syllables=None, phonetic_transcription=None, definition=None), Word(index_char_start=None, index_char_stop=None, index_token=6, index_sentence=3, string='ἐστιν,', pos=noun, lemma='ἐστίς', stem=None, scansion=None, xpos='Nb', upos='NOUN', dependency_relation='appos', governor=5, features={Case: [genitive], Gender: [masculine], Number: [singular]}, category={F: [neg], N: [pos], V: [neg]}, stop=None, named_entity=None, syllables=None, phonetic_transcription=None, definition=None), Word(index_char_start=None, index_char_stop=None, index_token=7, index_sentence=3, string='ὅς', pos=pronoun, lemma='ὅς', stem=None, scansion=None, xpos='Pr', upos='PRON', dependency_relation='nsubj', governor=9, features={Case: [nominative], Gender: [masculine], Number: [singular], PrononimalType: [relative]}, category={F: [pos], N: [pos], V: [neg]}, stop=None, named_entity=None, syllables=None, phonetic_transcription=None, definition=None), Word(index_char_start=None, index_char_stop=None, index_token=8, index_sentence=3, string='κʼ', pos=pronoun, lemma='ὁ', stem=None, scansion=None, xpos='Pp', upos='PRON', dependency_relation='iobj', governor=9, features={Case: [dative], Gender: [masculine], Number: [singular], Person: [second], PrononimalType: [personal]}, category={F: [pos], N: [pos], V: [neg]}, stop=None, named_entity=None, syllables=None, phonetic_transcription=None, definition=None), Word(index_char_start=None, index_char_stop=None, index_token=9, index_sentence=3, string='εἴποι', pos=verb, lemma='λέγω', stem=None, scansion=None, xpos='V-', upos='VERB', dependency_relation='acl', governor=3, features={Aspect: [perfective], Mood: [optative], Number: [singular], Person: [third], Tense: [past], VerbForm: [finite], Voice: [active]}, category={F: [neg], N: [neg], V: [pos]}, stop=None, named_entity=None, syllables=None, phonetic_transcription=None, definition=None), Word(index_char_start=None, index_char_stop=None, index_token=10, index_sentence=3, string='ὅ', pos=pronoun, lemma='ὅς', stem=None, scansion=None, xpos='Pr', upos='PRON', dependency_relation='obj', governor=13, features={Case: [accusative], Gender: [neuter], Number: [singular], PrononimalType: [relative]}, category={F: [pos], N: [pos], V: [neg]}, stop=None, named_entity=None, syllables=None, phonetic_transcription=None, definition=None), Word(index_char_start=None, index_char_stop=None, index_token=11, index_sentence=3, string='τι', pos=determiner, lemma='τὶς', stem=None, scansion=None, xpos='Px', upos='DET', dependency_relation='det', governor=10, features={Case: [accusative], Gender: [neuter], Number: [singular]}, category={F: [pos], N: [pos], V: [neg]}, stop=None, named_entity=None, syllables=None, phonetic_transcription=None, definition=None), Word(index_char_start=None, index_char_stop=None, index_token=12, index_sentence=3, string='τόσσον', pos=adjective, lemma='τοσόος', stem=None, scansion=None, xpos='Pd', upos='ADJ', dependency_relation='obj', governor=13, features={Case: [accusative], Gender: [neuter], Number: [singular]}, category={F: [neg], N: [pos], V: [pos]}, stop=None, named_entity=None, syllables=None, phonetic_transcription=None, definition=None), Word(index_char_start=None, index_char_stop=None, index_token=13, index_sentence=3, string='ἐχώσατο', pos=verb, lemma='χωάω', stem=None, scansion=None, xpos='V-', upos='VERB', dependency_relation='acl', governor=3, features={Aspect: [perfective], Mood: [indicative], Number: [singular], Person: [third], Tense: [past], VerbForm: [finite], Voice: [middle]}, category={F: [neg], N: [neg], V: [pos]}, stop=None, named_entity=None, syllables=None, phonetic_transcription=None, definition=None), Word(index_char_start=None, index_char_stop=None, index_token=14, index_sentence=3, string='Φοῖβος', pos=proper_noun, lemma='Φοῖβος', stem=None, scansion=None, xpos='Ne', upos='PROPN', dependency_relation='nsubj', governor=0, features={Case: [nominative], Gender: [masculine], Number: [singular]}, category={F: [neg], N: [pos], V: [neg]}, stop=None, named_entity=None, syllables=None, phonetic_transcription=None, definition=None), Word(index_char_start=None, index_char_stop=None, index_token=15, index_sentence=3, string='Ἀπόλλων,', pos=proper_noun, lemma='Ἀπόλλων', stem=None, scansion=None, xpos='Ne', upos='PROPN', dependency_relation='appos', governor=14, features={Case: [nominative], Gender: [masculine], Number: [singular]}, category={F: [neg], N: [pos], V: [neg]}, stop=None, named_entity=None, syllables=None, phonetic_transcription=None, definition=None), Word(index_char_start=None, index_char_stop=None, index_token=16, index_sentence=3, string='εἴτʼ', pos=pronoun, lemma='εἰμί', stem=None, scansion=None, xpos='Pr', upos='PRON', dependency_relation='det', governor=17, features={Case: [genitive], Gender: [masculine], Number: [singular], PrononimalType: [relative]}, category={F: [pos], N: [pos], V: [neg]}, stop=None, named_entity=None, syllables=None, phonetic_transcription=None, definition=None), Word(index_char_start=None, index_char_stop=None, index_token=17, index_sentence=3, string='ἄρʼ', pos=noun, lemma='ἀρή', stem=None, scansion=None, xpos='Nb', upos='NOUN', dependency_relation='nsubj', governor=21, features={Case: [nominative], Gender: [masculine], Number: [singular]}, category={F: [neg], N: [pos], V: [neg]}, stop=None, named_entity=None, syllables=None, phonetic_transcription=None, definition=None), Word(index_char_start=None, index_char_stop=None, index_token=18, index_sentence=3, string='ὅ', pos=pronoun, lemma='ὅς', stem=None, scansion=None, xpos='Pr', upos='PRON', dependency_relation='nsubj', governor=21, features={Case: [nominative], Gender: [neuter], Number: [singular], PrononimalType: [relative]}, category={F: [pos], N: [pos], V: [neg]}, stop=None, named_entity=None, syllables=None, phonetic_transcription=None, definition=None), Word(index_char_start=None, index_char_stop=None, index_token=19, index_sentence=3, string='γʼ', pos=pronoun, lemma='γι', stem=None, scansion=None, xpos='Pp', upos='PRON', dependency_relation='iobj', governor=21, features={Case: [dative], Gender: [masculine], Number: [singular], Person: [first], PrononimalType: [personal]}, category={F: [pos], N: [pos], V: [neg]}, stop=None, named_entity=None, syllables=None, phonetic_transcription=None, definition=None), Word(index_char_start=None, index_char_stop=None, index_token=20, index_sentence=3, string='εὐχωλῆς', pos=adjective, lemma='εὐχωλής', stem=None, scansion=None, xpos='A-', upos='ADJ', dependency_relation='advmod', governor=21, features={Case: [genitive], Degree: [positive], Gender: [feminine], Number: [singular]}, category={F: [neg], N: [pos], V: [pos]}, stop=None, named_entity=None, syllables=None, phonetic_transcription=None, definition=None), Word(index_char_start=None, index_char_stop=None, index_token=21, index_sentence=3, string='ἐπιμέμφεται', pos=verb, lemma='ἐπιμέμφομαι', stem=None, scansion=None, xpos='V-', upos='VERB', dependency_relation='acl', governor=14, features={Mood: [indicative], Number: [singular], Person: [third], Tense: [present], VerbForm: [finite], Voice: [middle]}, category={F: [neg], N: [neg], V: [pos]}, stop=None, named_entity=None, syllables=None, phonetic_transcription=None, definition=None), Word(index_char_start=None, index_char_stop=None, index_token=22, index_sentence=3, string='ἠδʼ', pos=coordinating_conjunction, lemma='ἠδʼ', stem=None, scansion=None, xpos='C-', upos='CCONJ', dependency_relation='cc', governor=20, features={}, category={F: [pos]}, stop=None, named_entity=None, syllables=None, phonetic_transcription=None, definition=None), Word(index_char_start=None, index_char_stop=None, index_token=23, index_sentence=3, string='ἑκατόμβης,', pos=noun, lemma='ἑκατόμβη', stem=None, scansion=None, xpos='Nb', upos='NOUN', dependency_relation='conj', governor=20, features={Case: [genitive], Gender: [feminine], Number: [singular]}, category={F: [neg], N: [pos], V: [neg]}, stop=None, named_entity=None, syllables=None, phonetic_transcription=None, definition=None), Word(index_char_start=None, index_char_stop=None, index_token=24, index_sentence=3, string='αἴ', pos=subordinating_conjunction, lemma='ἐά', stem=None, scansion=None, xpos='G-', upos='SCONJ', dependency_relation='mark', governor=32, features={}, category={F: [pos]}, stop=None, named_entity=None, syllables=None, phonetic_transcription=None, definition=None), Word(index_char_start=None, index_char_stop=None, index_token=25, index_sentence=3, string='κέν', pos=adverb, lemma='κέν', stem=None, scansion=None, xpos='Df', upos='ADV', dependency_relation='advmod', governor=32, features={}, category={F: [neg], N: [pos], V: [pos]}, stop=None, named_entity=None, syllables=None, phonetic_transcription=None, definition=None), Word(index_char_start=None, index_char_stop=None, index_token=26, index_sentence=3, string='πως', pos=adverb, lemma='πως', stem=None, scansion=None, xpos='Df', upos='ADV', dependency_relation='discourse', governor=32, features={}, category={F: [neg], N: [pos], V: [pos]}, stop=None, named_entity=None, syllables=None, phonetic_transcription=None, definition=None), Word(index_char_start=None, index_char_stop=None, index_token=27, index_sentence=3, string='ἀρνῶν', pos=noun, lemma='ἀρνός', stem=None, scansion=None, xpos='Nb', upos='NOUN', dependency_relation='iobj', governor=32, features={Case: [genitive], Gender: [masculine], Number: [plural]}, category={F: [neg], N: [pos], V: [neg]}, stop=None, named_entity=None, syllables=None, phonetic_transcription=None, definition=None), Word(index_char_start=None, index_char_stop=None, index_token=28, index_sentence=3, string='κνίσης', pos=noun, lemma='κνίσης', stem=None, scansion=None, xpos='Nb', upos='NOUN', dependency_relation='nmod', governor=27, features={Case: [genitive], Gender: [feminine], Number: [singular]}, category={F: [neg], N: [pos], V: [neg]}, stop=None, named_entity=None, syllables=None, phonetic_transcription=None, definition=None), Word(index_char_start=None, index_char_stop=None, index_token=29, index_sentence=3, string='αἰγῶν', pos=noun, lemma='αἰγός', stem=None, scansion=None, xpos='Nb', upos='NOUN', dependency_relation='nmod', governor=27, features={Case: [genitive], Gender: [masculine], Number: [plural]}, category={F: [neg], N: [pos], V: [neg]}, stop=None, named_entity=None, syllables=None, phonetic_transcription=None, definition=None), Word(index_char_start=None, index_char_stop=None, index_token=30, index_sentence=3, string='τε', pos=coordinating_conjunction, lemma='τε', stem=None, scansion=None, xpos='C-', upos='CCONJ', dependency_relation='cc', governor=32, features={}, category={F: [pos]}, stop=None, named_entity=None, syllables=None, phonetic_transcription=None, definition=None), Word(index_char_start=None, index_char_stop=None, index_token=31, index_sentence=3, string='τελείων', pos=adjective, lemma='τέλειος', stem=None, scansion=None, xpos='A-', upos='ADJ', dependency_relation='amod', governor=29, features={Case: [genitive], Degree: [positive], Gender: [masculine], Number: [plural]}, category={F: [neg], N: [pos], V: [pos]}, stop=None, named_entity=None, syllables=None, phonetic_transcription=None, definition=None), Word(index_char_start=None, index_char_stop=None, index_token=32, index_sentence=3, string='βούλεται', pos=verb, lemma='βούλομαι', stem=None, scansion=None, xpos='V-', upos='VERB', dependency_relation='advcl', governor=21, features={Mood: [indicative], Number: [singular], Person: [third], Tense: [present], VerbForm: [finite], Voice: [middle]}, category={F: [neg], N: [neg], V: [pos]}, stop=None, named_entity=None, syllables=None, phonetic_transcription=None, definition=None), Word(index_char_start=None, index_char_stop=None, index_token=33, index_sentence=3, string='ἀντιάσας', pos=verb, lemma='ἀντιάζω', stem=None, scansion=None, xpos='V-', upos='VERB', dependency_relation='advcl', governor=32, features={Aspect: [perfective], Case: [nominative], Gender: [masculine], Number: [singular], Tense: [past], VerbForm: [participle], Voice: [active]}, category={F: [neg], N: [neg], V: [pos]}, stop=None, named_entity=None, syllables=None, phonetic_transcription=None, definition=None), Word(index_char_start=None, index_char_stop=None, index_token=34, index_sentence=3, string='ἡμῖν', pos=pronoun, lemma='ἡμεῖς', stem=None, scansion=None, xpos='Pp', upos='PRON', dependency_relation='iobj', governor=33, features={Case: [dative], Gender: [masculine], Number: [plural], Person: [first], PrononimalType: [personal]}, category={F: [pos], N: [pos], V: [neg]}, stop=None, named_entity=None, syllables=None, phonetic_transcription=None, definition=None), Word(index_char_start=None, index_char_stop=None, index_token=35, index_sentence=3, string='ἀπὸ', pos=adposition, lemma='ἀπό', stem=None, scansion=None, xpos='R-', upos='ADP', dependency_relation='case', governor=36, features={}, category={F: [pos], N: [neg], V: [neg]}, stop=None, named_entity=None, syllables=None, phonetic_transcription=None, definition=None), Word(index_char_start=None, index_char_stop=None, index_token=36, index_sentence=3, string='λοιγὸν', pos=adjective, lemma='λοιγός', stem=None, scansion=None, xpos='A-', upos='ADJ', dependency_relation='obl', governor=33, features={Case: [accusative], Degree: [positive], Gender: [neuter], Number: [singular]}, category={F: [neg], N: [pos], V: [pos]}, stop=None, named_entity=None, syllables=None, phonetic_transcription=None, definition=None), Word(index_char_start=None, index_char_stop=None, index_token=37, index_sentence=3, string='ἀμῦναι.', pos=adjective, lemma='ἀμῦναιος', stem=None, scansion=None, xpos='A-', upos='ADJ', dependency_relation='xcomp', governor=32, features={Case: [nominative], Degree: [positive], Gender: [masculine], Number: [plural]}, category={F: [neg], N: [pos], V: [pos]}, stop=None, named_entity=None, syllables=None, phonetic_transcription=None, definition=None)], pipeline=None, raw='Ἀτρεΐδη νῦν ἄμμε παλιμπλαγχθέντας ὀΐω ἂψ ἀπονοστήσειν, εἴ κεν θάνατόν γε φύγοιμεν, εἰ δὴ ὁμοῦ πόλεμός τε δαμᾷ καὶ λοιμὸς Ἀχαιούς· ἀλλʼ ἄγε δή τινα μάντιν ἐρείομεν ἢ ἱερῆα ἢ καὶ ὀνειροπόλον, καὶ γάρ τʼ ὄναρ ἐκ Διός ἐστιν, ὅς κʼ εἴποι ὅ τι τόσσον ἐχώσατο Φοῖβος Ἀπόλλων, εἴτʼ ἄρʼ ὅ γʼ εὐχωλῆς ἐπιμέμφεται ἠδʼ ἑκατόμβης, αἴ κέν πως ἀρνῶν κνίσης αἰγῶν τε τελείων βούλεται ἀντιάσας ἡμῖν ἀπὸ λοιγὸν ἀμῦναι.', normalized_text='Ἀτρεΐδη νῦν ἄμμε παλιμπλαγχθέντας ὀΐω ἂψ ἀπονοστήσειν, εἴ κεν θάνατόν γε φύγοιμεν, εἰ δὴ ὁμοῦ πόλεμός τε δαμᾷ καὶ λοιμὸς Ἀχαιούς· ἀλλʼ ἄγε δή τινα μάντιν ἐρείομεν ἢ ἱερῆα ἢ καὶ ὀνειροπόλον, καὶ γάρ τʼ ὄναρ ἐκ Διός ἐστιν, ὅς κʼ εἴποι ὅ τι τόσσον ἐχώσατο Φοῖβος Ἀπόλλων, εἴτʼ ἄρʼ ὅ γʼ εὐχωλῆς ἐπιμέμφεται ἠδʼ ἑκατόμβης, αἴ κέν πως ἀρνῶν κνίσης αἰγῶν τε τελείων βούλεται ἀντιάσας ἡμῖν ἀπὸ λοιγὸν ἀμῦναι.')\n"
     ]
    }
   ],
   "source": [
    "print(s.cltk_doc)"
   ]
  },
  {
   "cell_type": "markdown",
   "metadata": {},
   "source": [
    "This is a bit unweildy. You can iterate, index or slice it to get individual words:"
   ]
  },
  {
   "cell_type": "code",
   "execution_count": 9,
   "metadata": {},
   "outputs": [
    {
     "data": {
      "text/plain": [
       "Word(index_char_start=None, index_char_stop=None, index_token=0, index_sentence=0, string='Ἀτρεΐδη', pos=proper_noun, lemma='Ἀτρεΐδης', stem=None, scansion=None, xpos='Ne', upos='PROPN', dependency_relation='vocative', governor=4, features={Case: [vocative], Gender: [masculine], Number: [singular]}, category={F: [neg], N: [pos], V: [neg]}, stop=None, named_entity=None, syllables=None, phonetic_transcription=None, definition=None)"
      ]
     },
     "execution_count": 9,
     "metadata": {},
     "output_type": "execute_result"
    }
   ],
   "source": [
    "s.cltk_doc[0]"
   ]
  },
  {
   "cell_type": "markdown",
   "metadata": {},
   "source": [
    "Some basic attributes are \n",
    " - `string`, the form of the word that appears in the text\n",
    " - `lemma`, the dictionary form\n",
    " - `upos`, a \"universal\" [part of speech tag](https://universaldependencies.org/u/pos/) (useful for Greek/Latin comparisons)\n",
    " \n",
    "Here, we’ll print out all three attributes for each word in Achilles’ speech at Il. 1.59. I’m padding them with spaces to line them up."
   ]
  },
  {
   "cell_type": "code",
   "execution_count": 10,
   "metadata": {},
   "outputs": [
    {
     "name": "stdout",
     "output_type": "stream",
     "text": [
      "Ἀτρεΐδη           Ἀτρεΐδης          PROPN\n",
      "νῦν               νῦν               ADV\n",
      "ἄμμε              ἄμμε              ADV\n",
      "παλιμπλαγχθέντας  παλιμπλάσσω       VERB\n",
      "ὀΐω               ὀιω               VERB\n",
      "ἂψ                ἀάς               NOUN\n",
      "ἀπονοστήσειν,     ἀπονοστέω         VERB\n",
      "εἴ                εἰ                SCONJ\n",
      "κεν               ἄν                ADV\n",
      "θάνατόν           θάνατος           NOUN\n",
      "γε                γε                ADV\n",
      "φύγοιμεν,         φεύγω             VERB\n",
      "εἰ                εἰ                SCONJ\n",
      "δὴ                δή                ADV\n",
      "ὁμοῦ              ὁμοῦ              ADV\n",
      "πόλεμός           πόλεμος           NOUN\n",
      "τε                τε                CCONJ\n",
      "δαμᾷ              δαμάω             VERB\n",
      "καὶ               καί               CCONJ\n",
      "λοιμὸς            λοιμός            NOUN\n",
      "Ἀχαιούς·          Ἀχαιός            ADJ\n",
      "ἀλλʼ              ἀλλʼ              CCONJ\n",
      "ἄγε               ἄγω               VERB\n",
      "δή                δή                ADV\n",
      "τινα              τὶς               DET\n",
      "μάντιν            μάντις            NOUN\n",
      "ἐρείομεν          ἐρείω             VERB\n",
      "ἢ                 ἤ                 CCONJ\n",
      "ἱερῆα             ἱερεύς            NOUN\n",
      "ἢ                 ἤ                 CCONJ\n",
      "καὶ               καί               ADV\n",
      "ὀνειροπόλον,      ὀνειρόπολον       NOUN\n",
      "καὶ               καί               CCONJ\n",
      "γάρ               γάρ               ADV\n",
      "τʼ                τʼ                CCONJ\n",
      "ὄναρ              ὄναρ              NOUN\n",
      "ἐκ                ἐκ                ADP\n",
      "Διός              Ζεύς              PROPN\n",
      "ἐστιν,            ἐστίς             NOUN\n",
      "ὅς                ὅς                PRON\n",
      "κʼ                ὁ                 PRON\n",
      "εἴποι             λέγω              VERB\n",
      "ὅ                 ὅς                PRON\n",
      "τι                τὶς               DET\n",
      "τόσσον            τοσόος            ADJ\n",
      "ἐχώσατο           χωάω              VERB\n",
      "Φοῖβος            Φοῖβος            PROPN\n",
      "Ἀπόλλων,          Ἀπόλλων           PROPN\n",
      "εἴτʼ              εἰμί              PRON\n",
      "ἄρʼ               ἀρή               NOUN\n",
      "ὅ                 ὅς                PRON\n",
      "γʼ                γι                PRON\n",
      "εὐχωλῆς           εὐχωλής           ADJ\n",
      "ἐπιμέμφεται       ἐπιμέμφομαι       VERB\n",
      "ἠδʼ               ἠδʼ               CCONJ\n",
      "ἑκατόμβης,        ἑκατόμβη          NOUN\n",
      "αἴ                ἐά                SCONJ\n",
      "κέν               κέν               ADV\n",
      "πως               πως               ADV\n",
      "ἀρνῶν             ἀρνός             NOUN\n",
      "κνίσης            κνίσης            NOUN\n",
      "αἰγῶν             αἰγός             NOUN\n",
      "τε                τε                CCONJ\n",
      "τελείων           τέλειος           ADJ\n",
      "βούλεται          βούλομαι          VERB\n",
      "ἀντιάσας          ἀντιάζω           VERB\n",
      "ἡμῖν              ἡμεῖς             PRON\n",
      "ἀπὸ               ἀπό               ADP\n",
      "λοιγὸν            λοιγός            ADJ\n",
      "ἀμῦναι.           ἀμῦναιος          ADJ\n"
     ]
    }
   ],
   "source": [
    "for w in s.cltk_doc:\n",
    "    print(f'{w.string:18}{w.lemma:18}{w.upos}')"
   ]
  },
  {
   "cell_type": "markdown",
   "metadata": {},
   "source": [
    "## Part of speech counts\n",
    "\n",
    "We can use a Counter and list comprehension to tally all the `upos` elements in a one-liner:"
   ]
  },
  {
   "cell_type": "code",
   "execution_count": 11,
   "metadata": {},
   "outputs": [
    {
     "data": {
      "text/plain": [
       "Counter({'PROPN': 4,\n",
       "         'ADV': 11,\n",
       "         'VERB': 12,\n",
       "         'NOUN': 14,\n",
       "         'SCONJ': 3,\n",
       "         'CCONJ': 9,\n",
       "         'ADJ': 6,\n",
       "         'DET': 2,\n",
       "         'ADP': 2,\n",
       "         'PRON': 7})"
      ]
     },
     "execution_count": 11,
     "metadata": {},
     "output_type": "execute_result"
    }
   ],
   "source": [
    "Counter([w.upos for w in s.cltk_doc])"
   ]
  },
  {
   "cell_type": "markdown",
   "metadata": {},
   "source": [
    "### Corpus-level POS counts\n",
    "\n",
    "Let’s wrap this in a second list comprehension, over all the speeches. That gives us one dictionary-like tally per speech. Then we can use a pandas `DataFrame` to convert the list of counters to a tabular format.\n",
    "\n",
    "⚠️ I just have to allow for the possibility that some speeches weren't retrieved correctly and therefore have `None` instead of a `Doc` object."
   ]
  },
  {
   "cell_type": "code",
   "execution_count": 12,
   "metadata": {},
   "outputs": [],
   "source": [
    "pos_tags = pd.DataFrame(\n",
    "    [Counter([w.upos for w in s.cltk_doc]) for s in speeches if s.cltk_doc is not None])"
   ]
  },
  {
   "cell_type": "markdown",
   "metadata": {},
   "source": [
    "This lines up the POS tags as columns, and gives us one row per speech. Note that not all the tags are found in all the speeches. Pandas will generate a `NaN` value for missing data."
   ]
  },
  {
   "cell_type": "code",
   "execution_count": 13,
   "metadata": {},
   "outputs": [
    {
     "data": {
      "text/html": [
       "<div>\n",
       "<style scoped>\n",
       "    .dataframe tbody tr th:only-of-type {\n",
       "        vertical-align: middle;\n",
       "    }\n",
       "\n",
       "    .dataframe tbody tr th {\n",
       "        vertical-align: top;\n",
       "    }\n",
       "\n",
       "    .dataframe thead th {\n",
       "        text-align: right;\n",
       "    }\n",
       "</style>\n",
       "<table border=\"1\" class=\"dataframe\">\n",
       "  <thead>\n",
       "    <tr style=\"text-align: right;\">\n",
       "      <th></th>\n",
       "      <th>PROPN</th>\n",
       "      <th>ADV</th>\n",
       "      <th>VERB</th>\n",
       "      <th>NOUN</th>\n",
       "      <th>SCONJ</th>\n",
       "      <th>CCONJ</th>\n",
       "      <th>ADJ</th>\n",
       "      <th>DET</th>\n",
       "      <th>ADP</th>\n",
       "      <th>PRON</th>\n",
       "      <th>INTJ</th>\n",
       "      <th>AUX</th>\n",
       "      <th>NUM</th>\n",
       "      <th>PUNCT</th>\n",
       "      <th>PART</th>\n",
       "    </tr>\n",
       "  </thead>\n",
       "  <tbody>\n",
       "    <tr>\n",
       "      <th>0</th>\n",
       "      <td>4.0</td>\n",
       "      <td>11.0</td>\n",
       "      <td>12</td>\n",
       "      <td>14</td>\n",
       "      <td>3.0</td>\n",
       "      <td>9.0</td>\n",
       "      <td>6.0</td>\n",
       "      <td>2.0</td>\n",
       "      <td>2.0</td>\n",
       "      <td>7.0</td>\n",
       "      <td>NaN</td>\n",
       "      <td>NaN</td>\n",
       "      <td>NaN</td>\n",
       "      <td>NaN</td>\n",
       "      <td>NaN</td>\n",
       "    </tr>\n",
       "    <tr>\n",
       "      <th>1</th>\n",
       "      <td>5.0</td>\n",
       "      <td>5.0</td>\n",
       "      <td>12</td>\n",
       "      <td>9</td>\n",
       "      <td>1.0</td>\n",
       "      <td>3.0</td>\n",
       "      <td>4.0</td>\n",
       "      <td>1.0</td>\n",
       "      <td>2.0</td>\n",
       "      <td>7.0</td>\n",
       "      <td>NaN</td>\n",
       "      <td>NaN</td>\n",
       "      <td>NaN</td>\n",
       "      <td>NaN</td>\n",
       "      <td>NaN</td>\n",
       "    </tr>\n",
       "    <tr>\n",
       "      <th>2</th>\n",
       "      <td>3.0</td>\n",
       "      <td>9.0</td>\n",
       "      <td>13</td>\n",
       "      <td>7</td>\n",
       "      <td>1.0</td>\n",
       "      <td>4.0</td>\n",
       "      <td>10.0</td>\n",
       "      <td>2.0</td>\n",
       "      <td>NaN</td>\n",
       "      <td>5.0</td>\n",
       "      <td>NaN</td>\n",
       "      <td>NaN</td>\n",
       "      <td>NaN</td>\n",
       "      <td>NaN</td>\n",
       "      <td>NaN</td>\n",
       "    </tr>\n",
       "    <tr>\n",
       "      <th>3</th>\n",
       "      <td>3.0</td>\n",
       "      <td>28.0</td>\n",
       "      <td>35</td>\n",
       "      <td>33</td>\n",
       "      <td>5.0</td>\n",
       "      <td>15.0</td>\n",
       "      <td>24.0</td>\n",
       "      <td>3.0</td>\n",
       "      <td>5.0</td>\n",
       "      <td>19.0</td>\n",
       "      <td>2.0</td>\n",
       "      <td>2.0</td>\n",
       "      <td>NaN</td>\n",
       "      <td>NaN</td>\n",
       "      <td>NaN</td>\n",
       "    </tr>\n",
       "    <tr>\n",
       "      <th>4</th>\n",
       "      <td>2.0</td>\n",
       "      <td>7.0</td>\n",
       "      <td>3</td>\n",
       "      <td>9</td>\n",
       "      <td>1.0</td>\n",
       "      <td>1.0</td>\n",
       "      <td>1.0</td>\n",
       "      <td>NaN</td>\n",
       "      <td>2.0</td>\n",
       "      <td>2.0</td>\n",
       "      <td>NaN</td>\n",
       "      <td>NaN</td>\n",
       "      <td>NaN</td>\n",
       "      <td>NaN</td>\n",
       "      <td>NaN</td>\n",
       "    </tr>\n",
       "    <tr>\n",
       "      <th>...</th>\n",
       "      <td>...</td>\n",
       "      <td>...</td>\n",
       "      <td>...</td>\n",
       "      <td>...</td>\n",
       "      <td>...</td>\n",
       "      <td>...</td>\n",
       "      <td>...</td>\n",
       "      <td>...</td>\n",
       "      <td>...</td>\n",
       "      <td>...</td>\n",
       "      <td>...</td>\n",
       "      <td>...</td>\n",
       "      <td>...</td>\n",
       "      <td>...</td>\n",
       "      <td>...</td>\n",
       "    </tr>\n",
       "    <tr>\n",
       "      <th>98</th>\n",
       "      <td>NaN</td>\n",
       "      <td>2.0</td>\n",
       "      <td>4</td>\n",
       "      <td>11</td>\n",
       "      <td>1.0</td>\n",
       "      <td>2.0</td>\n",
       "      <td>1.0</td>\n",
       "      <td>1.0</td>\n",
       "      <td>2.0</td>\n",
       "      <td>3.0</td>\n",
       "      <td>NaN</td>\n",
       "      <td>NaN</td>\n",
       "      <td>NaN</td>\n",
       "      <td>3.0</td>\n",
       "      <td>1.0</td>\n",
       "    </tr>\n",
       "    <tr>\n",
       "      <th>99</th>\n",
       "      <td>2.0</td>\n",
       "      <td>10.0</td>\n",
       "      <td>37</td>\n",
       "      <td>37</td>\n",
       "      <td>2.0</td>\n",
       "      <td>11.0</td>\n",
       "      <td>9.0</td>\n",
       "      <td>3.0</td>\n",
       "      <td>4.0</td>\n",
       "      <td>21.0</td>\n",
       "      <td>NaN</td>\n",
       "      <td>2.0</td>\n",
       "      <td>1.0</td>\n",
       "      <td>24.0</td>\n",
       "      <td>1.0</td>\n",
       "    </tr>\n",
       "    <tr>\n",
       "      <th>100</th>\n",
       "      <td>NaN</td>\n",
       "      <td>3.0</td>\n",
       "      <td>6</td>\n",
       "      <td>5</td>\n",
       "      <td>NaN</td>\n",
       "      <td>1.0</td>\n",
       "      <td>2.0</td>\n",
       "      <td>NaN</td>\n",
       "      <td>1.0</td>\n",
       "      <td>1.0</td>\n",
       "      <td>NaN</td>\n",
       "      <td>NaN</td>\n",
       "      <td>1.0</td>\n",
       "      <td>4.0</td>\n",
       "      <td>NaN</td>\n",
       "    </tr>\n",
       "    <tr>\n",
       "      <th>101</th>\n",
       "      <td>NaN</td>\n",
       "      <td>1.0</td>\n",
       "      <td>7</td>\n",
       "      <td>16</td>\n",
       "      <td>1.0</td>\n",
       "      <td>1.0</td>\n",
       "      <td>4.0</td>\n",
       "      <td>NaN</td>\n",
       "      <td>NaN</td>\n",
       "      <td>6.0</td>\n",
       "      <td>NaN</td>\n",
       "      <td>NaN</td>\n",
       "      <td>NaN</td>\n",
       "      <td>8.0</td>\n",
       "      <td>NaN</td>\n",
       "    </tr>\n",
       "    <tr>\n",
       "      <th>102</th>\n",
       "      <td>1.0</td>\n",
       "      <td>29.0</td>\n",
       "      <td>129</td>\n",
       "      <td>182</td>\n",
       "      <td>11.0</td>\n",
       "      <td>32.0</td>\n",
       "      <td>46.0</td>\n",
       "      <td>14.0</td>\n",
       "      <td>18.0</td>\n",
       "      <td>40.0</td>\n",
       "      <td>NaN</td>\n",
       "      <td>1.0</td>\n",
       "      <td>2.0</td>\n",
       "      <td>71.0</td>\n",
       "      <td>2.0</td>\n",
       "    </tr>\n",
       "  </tbody>\n",
       "</table>\n",
       "<p>103 rows × 15 columns</p>\n",
       "</div>"
      ],
      "text/plain": [
       "     PROPN   ADV  VERB  NOUN  SCONJ  CCONJ   ADJ   DET   ADP  PRON  INTJ  AUX  \\\n",
       "0      4.0  11.0    12    14    3.0    9.0   6.0   2.0   2.0   7.0   NaN  NaN   \n",
       "1      5.0   5.0    12     9    1.0    3.0   4.0   1.0   2.0   7.0   NaN  NaN   \n",
       "2      3.0   9.0    13     7    1.0    4.0  10.0   2.0   NaN   5.0   NaN  NaN   \n",
       "3      3.0  28.0    35    33    5.0   15.0  24.0   3.0   5.0  19.0   2.0  2.0   \n",
       "4      2.0   7.0     3     9    1.0    1.0   1.0   NaN   2.0   2.0   NaN  NaN   \n",
       "..     ...   ...   ...   ...    ...    ...   ...   ...   ...   ...   ...  ...   \n",
       "98     NaN   2.0     4    11    1.0    2.0   1.0   1.0   2.0   3.0   NaN  NaN   \n",
       "99     2.0  10.0    37    37    2.0   11.0   9.0   3.0   4.0  21.0   NaN  2.0   \n",
       "100    NaN   3.0     6     5    NaN    1.0   2.0   NaN   1.0   1.0   NaN  NaN   \n",
       "101    NaN   1.0     7    16    1.0    1.0   4.0   NaN   NaN   6.0   NaN  NaN   \n",
       "102    1.0  29.0   129   182   11.0   32.0  46.0  14.0  18.0  40.0   NaN  1.0   \n",
       "\n",
       "     NUM  PUNCT  PART  \n",
       "0    NaN    NaN   NaN  \n",
       "1    NaN    NaN   NaN  \n",
       "2    NaN    NaN   NaN  \n",
       "3    NaN    NaN   NaN  \n",
       "4    NaN    NaN   NaN  \n",
       "..   ...    ...   ...  \n",
       "98   NaN    3.0   1.0  \n",
       "99   1.0   24.0   1.0  \n",
       "100  1.0    4.0   NaN  \n",
       "101  NaN    8.0   NaN  \n",
       "102  2.0   71.0   2.0  \n",
       "\n",
       "[103 rows x 15 columns]"
      ]
     },
     "execution_count": 13,
     "metadata": {},
     "output_type": "execute_result"
    }
   ],
   "source": [
    "pos_tags"
   ]
  },
  {
   "cell_type": "markdown",
   "metadata": {},
   "source": [
    "I’m going to manually convert those `NaN`s to `0`s. And since all the columns represent counts, I’ll convert everything to type `int`."
   ]
  },
  {
   "cell_type": "code",
   "execution_count": 14,
   "metadata": {},
   "outputs": [],
   "source": [
    "pos_tags[pd.isna(pos_tags)] = 0\n",
    "pos_tags = pos_tags.astype(int)"
   ]
  },
  {
   "cell_type": "code",
   "execution_count": 15,
   "metadata": {},
   "outputs": [
    {
     "data": {
      "text/html": [
       "<div>\n",
       "<style scoped>\n",
       "    .dataframe tbody tr th:only-of-type {\n",
       "        vertical-align: middle;\n",
       "    }\n",
       "\n",
       "    .dataframe tbody tr th {\n",
       "        vertical-align: top;\n",
       "    }\n",
       "\n",
       "    .dataframe thead th {\n",
       "        text-align: right;\n",
       "    }\n",
       "</style>\n",
       "<table border=\"1\" class=\"dataframe\">\n",
       "  <thead>\n",
       "    <tr style=\"text-align: right;\">\n",
       "      <th></th>\n",
       "      <th>PROPN</th>\n",
       "      <th>ADV</th>\n",
       "      <th>VERB</th>\n",
       "      <th>NOUN</th>\n",
       "      <th>SCONJ</th>\n",
       "      <th>CCONJ</th>\n",
       "      <th>ADJ</th>\n",
       "      <th>DET</th>\n",
       "      <th>ADP</th>\n",
       "      <th>PRON</th>\n",
       "      <th>INTJ</th>\n",
       "      <th>AUX</th>\n",
       "      <th>NUM</th>\n",
       "      <th>PUNCT</th>\n",
       "      <th>PART</th>\n",
       "    </tr>\n",
       "  </thead>\n",
       "  <tbody>\n",
       "    <tr>\n",
       "      <th>0</th>\n",
       "      <td>4</td>\n",
       "      <td>11</td>\n",
       "      <td>12</td>\n",
       "      <td>14</td>\n",
       "      <td>3</td>\n",
       "      <td>9</td>\n",
       "      <td>6</td>\n",
       "      <td>2</td>\n",
       "      <td>2</td>\n",
       "      <td>7</td>\n",
       "      <td>0</td>\n",
       "      <td>0</td>\n",
       "      <td>0</td>\n",
       "      <td>0</td>\n",
       "      <td>0</td>\n",
       "    </tr>\n",
       "    <tr>\n",
       "      <th>1</th>\n",
       "      <td>5</td>\n",
       "      <td>5</td>\n",
       "      <td>12</td>\n",
       "      <td>9</td>\n",
       "      <td>1</td>\n",
       "      <td>3</td>\n",
       "      <td>4</td>\n",
       "      <td>1</td>\n",
       "      <td>2</td>\n",
       "      <td>7</td>\n",
       "      <td>0</td>\n",
       "      <td>0</td>\n",
       "      <td>0</td>\n",
       "      <td>0</td>\n",
       "      <td>0</td>\n",
       "    </tr>\n",
       "    <tr>\n",
       "      <th>2</th>\n",
       "      <td>3</td>\n",
       "      <td>9</td>\n",
       "      <td>13</td>\n",
       "      <td>7</td>\n",
       "      <td>1</td>\n",
       "      <td>4</td>\n",
       "      <td>10</td>\n",
       "      <td>2</td>\n",
       "      <td>0</td>\n",
       "      <td>5</td>\n",
       "      <td>0</td>\n",
       "      <td>0</td>\n",
       "      <td>0</td>\n",
       "      <td>0</td>\n",
       "      <td>0</td>\n",
       "    </tr>\n",
       "    <tr>\n",
       "      <th>3</th>\n",
       "      <td>3</td>\n",
       "      <td>28</td>\n",
       "      <td>35</td>\n",
       "      <td>33</td>\n",
       "      <td>5</td>\n",
       "      <td>15</td>\n",
       "      <td>24</td>\n",
       "      <td>3</td>\n",
       "      <td>5</td>\n",
       "      <td>19</td>\n",
       "      <td>2</td>\n",
       "      <td>2</td>\n",
       "      <td>0</td>\n",
       "      <td>0</td>\n",
       "      <td>0</td>\n",
       "    </tr>\n",
       "    <tr>\n",
       "      <th>4</th>\n",
       "      <td>2</td>\n",
       "      <td>7</td>\n",
       "      <td>3</td>\n",
       "      <td>9</td>\n",
       "      <td>1</td>\n",
       "      <td>1</td>\n",
       "      <td>1</td>\n",
       "      <td>0</td>\n",
       "      <td>2</td>\n",
       "      <td>2</td>\n",
       "      <td>0</td>\n",
       "      <td>0</td>\n",
       "      <td>0</td>\n",
       "      <td>0</td>\n",
       "      <td>0</td>\n",
       "    </tr>\n",
       "    <tr>\n",
       "      <th>...</th>\n",
       "      <td>...</td>\n",
       "      <td>...</td>\n",
       "      <td>...</td>\n",
       "      <td>...</td>\n",
       "      <td>...</td>\n",
       "      <td>...</td>\n",
       "      <td>...</td>\n",
       "      <td>...</td>\n",
       "      <td>...</td>\n",
       "      <td>...</td>\n",
       "      <td>...</td>\n",
       "      <td>...</td>\n",
       "      <td>...</td>\n",
       "      <td>...</td>\n",
       "      <td>...</td>\n",
       "    </tr>\n",
       "    <tr>\n",
       "      <th>98</th>\n",
       "      <td>0</td>\n",
       "      <td>2</td>\n",
       "      <td>4</td>\n",
       "      <td>11</td>\n",
       "      <td>1</td>\n",
       "      <td>2</td>\n",
       "      <td>1</td>\n",
       "      <td>1</td>\n",
       "      <td>2</td>\n",
       "      <td>3</td>\n",
       "      <td>0</td>\n",
       "      <td>0</td>\n",
       "      <td>0</td>\n",
       "      <td>3</td>\n",
       "      <td>1</td>\n",
       "    </tr>\n",
       "    <tr>\n",
       "      <th>99</th>\n",
       "      <td>2</td>\n",
       "      <td>10</td>\n",
       "      <td>37</td>\n",
       "      <td>37</td>\n",
       "      <td>2</td>\n",
       "      <td>11</td>\n",
       "      <td>9</td>\n",
       "      <td>3</td>\n",
       "      <td>4</td>\n",
       "      <td>21</td>\n",
       "      <td>0</td>\n",
       "      <td>2</td>\n",
       "      <td>1</td>\n",
       "      <td>24</td>\n",
       "      <td>1</td>\n",
       "    </tr>\n",
       "    <tr>\n",
       "      <th>100</th>\n",
       "      <td>0</td>\n",
       "      <td>3</td>\n",
       "      <td>6</td>\n",
       "      <td>5</td>\n",
       "      <td>0</td>\n",
       "      <td>1</td>\n",
       "      <td>2</td>\n",
       "      <td>0</td>\n",
       "      <td>1</td>\n",
       "      <td>1</td>\n",
       "      <td>0</td>\n",
       "      <td>0</td>\n",
       "      <td>1</td>\n",
       "      <td>4</td>\n",
       "      <td>0</td>\n",
       "    </tr>\n",
       "    <tr>\n",
       "      <th>101</th>\n",
       "      <td>0</td>\n",
       "      <td>1</td>\n",
       "      <td>7</td>\n",
       "      <td>16</td>\n",
       "      <td>1</td>\n",
       "      <td>1</td>\n",
       "      <td>4</td>\n",
       "      <td>0</td>\n",
       "      <td>0</td>\n",
       "      <td>6</td>\n",
       "      <td>0</td>\n",
       "      <td>0</td>\n",
       "      <td>0</td>\n",
       "      <td>8</td>\n",
       "      <td>0</td>\n",
       "    </tr>\n",
       "    <tr>\n",
       "      <th>102</th>\n",
       "      <td>1</td>\n",
       "      <td>29</td>\n",
       "      <td>129</td>\n",
       "      <td>182</td>\n",
       "      <td>11</td>\n",
       "      <td>32</td>\n",
       "      <td>46</td>\n",
       "      <td>14</td>\n",
       "      <td>18</td>\n",
       "      <td>40</td>\n",
       "      <td>0</td>\n",
       "      <td>1</td>\n",
       "      <td>2</td>\n",
       "      <td>71</td>\n",
       "      <td>2</td>\n",
       "    </tr>\n",
       "  </tbody>\n",
       "</table>\n",
       "<p>103 rows × 15 columns</p>\n",
       "</div>"
      ],
      "text/plain": [
       "     PROPN  ADV  VERB  NOUN  SCONJ  CCONJ  ADJ  DET  ADP  PRON  INTJ  AUX  \\\n",
       "0        4   11    12    14      3      9    6    2    2     7     0    0   \n",
       "1        5    5    12     9      1      3    4    1    2     7     0    0   \n",
       "2        3    9    13     7      1      4   10    2    0     5     0    0   \n",
       "3        3   28    35    33      5     15   24    3    5    19     2    2   \n",
       "4        2    7     3     9      1      1    1    0    2     2     0    0   \n",
       "..     ...  ...   ...   ...    ...    ...  ...  ...  ...   ...   ...  ...   \n",
       "98       0    2     4    11      1      2    1    1    2     3     0    0   \n",
       "99       2   10    37    37      2     11    9    3    4    21     0    2   \n",
       "100      0    3     6     5      0      1    2    0    1     1     0    0   \n",
       "101      0    1     7    16      1      1    4    0    0     6     0    0   \n",
       "102      1   29   129   182     11     32   46   14   18    40     0    1   \n",
       "\n",
       "     NUM  PUNCT  PART  \n",
       "0      0      0     0  \n",
       "1      0      0     0  \n",
       "2      0      0     0  \n",
       "3      0      0     0  \n",
       "4      0      0     0  \n",
       "..   ...    ...   ...  \n",
       "98     0      3     1  \n",
       "99     1     24     1  \n",
       "100    1      4     0  \n",
       "101    0      8     0  \n",
       "102    2     71     2  \n",
       "\n",
       "[103 rows x 15 columns]"
      ]
     },
     "execution_count": 15,
     "metadata": {},
     "output_type": "execute_result"
    }
   ],
   "source": [
    "pos_tags"
   ]
  },
  {
   "cell_type": "markdown",
   "metadata": {},
   "source": [
    "### Normalized counts\n",
    "\n",
    "Let’s divide each of the counts by the totaly number of tokens in its respective speech, so that speeches of different lengths are more comparable.\n",
    "\n",
    "First we’ll calculate row sums, which give us the total number of tokens in a given speech (each row is one speech)."
   ]
  },
  {
   "cell_type": "code",
   "execution_count": 16,
   "metadata": {},
   "outputs": [
    {
     "data": {
      "text/plain": [
       "0       70\n",
       "1       49\n",
       "2       54\n",
       "3      174\n",
       "4       28\n",
       "      ... \n",
       "98      31\n",
       "99     164\n",
       "100     24\n",
       "101     44\n",
       "102    578\n",
       "Length: 103, dtype: int64"
      ]
     },
     "execution_count": 16,
     "metadata": {},
     "output_type": "execute_result"
    }
   ],
   "source": [
    "totals = pos_tags.sum(axis='columns')\n",
    "totals"
   ]
  },
  {
   "cell_type": "markdown",
   "metadata": {},
   "source": [
    "Now for every column, we divide by the row-based totals. Pandas’ `DataFrame.apply()` will do this really easily. The nomenclature `axis='rows'` means here that the `lambda` function is applied to one column at a time so that the values in `totals` represent different rows."
   ]
  },
  {
   "cell_type": "code",
   "execution_count": 17,
   "metadata": {},
   "outputs": [],
   "source": [
    "pos_freq = pos_tags.apply(lambda col: col/totals, axis='rows')"
   ]
  },
  {
   "cell_type": "code",
   "execution_count": 18,
   "metadata": {},
   "outputs": [
    {
     "data": {
      "text/html": [
       "<div>\n",
       "<style scoped>\n",
       "    .dataframe tbody tr th:only-of-type {\n",
       "        vertical-align: middle;\n",
       "    }\n",
       "\n",
       "    .dataframe tbody tr th {\n",
       "        vertical-align: top;\n",
       "    }\n",
       "\n",
       "    .dataframe thead th {\n",
       "        text-align: right;\n",
       "    }\n",
       "</style>\n",
       "<table border=\"1\" class=\"dataframe\">\n",
       "  <thead>\n",
       "    <tr style=\"text-align: right;\">\n",
       "      <th></th>\n",
       "      <th>PROPN</th>\n",
       "      <th>ADV</th>\n",
       "      <th>VERB</th>\n",
       "      <th>NOUN</th>\n",
       "      <th>SCONJ</th>\n",
       "      <th>CCONJ</th>\n",
       "      <th>ADJ</th>\n",
       "      <th>DET</th>\n",
       "      <th>ADP</th>\n",
       "      <th>PRON</th>\n",
       "      <th>INTJ</th>\n",
       "      <th>AUX</th>\n",
       "      <th>NUM</th>\n",
       "      <th>PUNCT</th>\n",
       "      <th>PART</th>\n",
       "    </tr>\n",
       "  </thead>\n",
       "  <tbody>\n",
       "    <tr>\n",
       "      <th>0</th>\n",
       "      <td>0.057143</td>\n",
       "      <td>0.157143</td>\n",
       "      <td>0.171429</td>\n",
       "      <td>0.200000</td>\n",
       "      <td>0.042857</td>\n",
       "      <td>0.128571</td>\n",
       "      <td>0.085714</td>\n",
       "      <td>0.028571</td>\n",
       "      <td>0.028571</td>\n",
       "      <td>0.100000</td>\n",
       "      <td>0.000000</td>\n",
       "      <td>0.000000</td>\n",
       "      <td>0.000000</td>\n",
       "      <td>0.000000</td>\n",
       "      <td>0.000000</td>\n",
       "    </tr>\n",
       "    <tr>\n",
       "      <th>1</th>\n",
       "      <td>0.102041</td>\n",
       "      <td>0.102041</td>\n",
       "      <td>0.244898</td>\n",
       "      <td>0.183673</td>\n",
       "      <td>0.020408</td>\n",
       "      <td>0.061224</td>\n",
       "      <td>0.081633</td>\n",
       "      <td>0.020408</td>\n",
       "      <td>0.040816</td>\n",
       "      <td>0.142857</td>\n",
       "      <td>0.000000</td>\n",
       "      <td>0.000000</td>\n",
       "      <td>0.000000</td>\n",
       "      <td>0.000000</td>\n",
       "      <td>0.000000</td>\n",
       "    </tr>\n",
       "    <tr>\n",
       "      <th>2</th>\n",
       "      <td>0.055556</td>\n",
       "      <td>0.166667</td>\n",
       "      <td>0.240741</td>\n",
       "      <td>0.129630</td>\n",
       "      <td>0.018519</td>\n",
       "      <td>0.074074</td>\n",
       "      <td>0.185185</td>\n",
       "      <td>0.037037</td>\n",
       "      <td>0.000000</td>\n",
       "      <td>0.092593</td>\n",
       "      <td>0.000000</td>\n",
       "      <td>0.000000</td>\n",
       "      <td>0.000000</td>\n",
       "      <td>0.000000</td>\n",
       "      <td>0.000000</td>\n",
       "    </tr>\n",
       "    <tr>\n",
       "      <th>3</th>\n",
       "      <td>0.017241</td>\n",
       "      <td>0.160920</td>\n",
       "      <td>0.201149</td>\n",
       "      <td>0.189655</td>\n",
       "      <td>0.028736</td>\n",
       "      <td>0.086207</td>\n",
       "      <td>0.137931</td>\n",
       "      <td>0.017241</td>\n",
       "      <td>0.028736</td>\n",
       "      <td>0.109195</td>\n",
       "      <td>0.011494</td>\n",
       "      <td>0.011494</td>\n",
       "      <td>0.000000</td>\n",
       "      <td>0.000000</td>\n",
       "      <td>0.000000</td>\n",
       "    </tr>\n",
       "    <tr>\n",
       "      <th>4</th>\n",
       "      <td>0.071429</td>\n",
       "      <td>0.250000</td>\n",
       "      <td>0.107143</td>\n",
       "      <td>0.321429</td>\n",
       "      <td>0.035714</td>\n",
       "      <td>0.035714</td>\n",
       "      <td>0.035714</td>\n",
       "      <td>0.000000</td>\n",
       "      <td>0.071429</td>\n",
       "      <td>0.071429</td>\n",
       "      <td>0.000000</td>\n",
       "      <td>0.000000</td>\n",
       "      <td>0.000000</td>\n",
       "      <td>0.000000</td>\n",
       "      <td>0.000000</td>\n",
       "    </tr>\n",
       "    <tr>\n",
       "      <th>...</th>\n",
       "      <td>...</td>\n",
       "      <td>...</td>\n",
       "      <td>...</td>\n",
       "      <td>...</td>\n",
       "      <td>...</td>\n",
       "      <td>...</td>\n",
       "      <td>...</td>\n",
       "      <td>...</td>\n",
       "      <td>...</td>\n",
       "      <td>...</td>\n",
       "      <td>...</td>\n",
       "      <td>...</td>\n",
       "      <td>...</td>\n",
       "      <td>...</td>\n",
       "      <td>...</td>\n",
       "    </tr>\n",
       "    <tr>\n",
       "      <th>98</th>\n",
       "      <td>0.000000</td>\n",
       "      <td>0.064516</td>\n",
       "      <td>0.129032</td>\n",
       "      <td>0.354839</td>\n",
       "      <td>0.032258</td>\n",
       "      <td>0.064516</td>\n",
       "      <td>0.032258</td>\n",
       "      <td>0.032258</td>\n",
       "      <td>0.064516</td>\n",
       "      <td>0.096774</td>\n",
       "      <td>0.000000</td>\n",
       "      <td>0.000000</td>\n",
       "      <td>0.000000</td>\n",
       "      <td>0.096774</td>\n",
       "      <td>0.032258</td>\n",
       "    </tr>\n",
       "    <tr>\n",
       "      <th>99</th>\n",
       "      <td>0.012195</td>\n",
       "      <td>0.060976</td>\n",
       "      <td>0.225610</td>\n",
       "      <td>0.225610</td>\n",
       "      <td>0.012195</td>\n",
       "      <td>0.067073</td>\n",
       "      <td>0.054878</td>\n",
       "      <td>0.018293</td>\n",
       "      <td>0.024390</td>\n",
       "      <td>0.128049</td>\n",
       "      <td>0.000000</td>\n",
       "      <td>0.012195</td>\n",
       "      <td>0.006098</td>\n",
       "      <td>0.146341</td>\n",
       "      <td>0.006098</td>\n",
       "    </tr>\n",
       "    <tr>\n",
       "      <th>100</th>\n",
       "      <td>0.000000</td>\n",
       "      <td>0.125000</td>\n",
       "      <td>0.250000</td>\n",
       "      <td>0.208333</td>\n",
       "      <td>0.000000</td>\n",
       "      <td>0.041667</td>\n",
       "      <td>0.083333</td>\n",
       "      <td>0.000000</td>\n",
       "      <td>0.041667</td>\n",
       "      <td>0.041667</td>\n",
       "      <td>0.000000</td>\n",
       "      <td>0.000000</td>\n",
       "      <td>0.041667</td>\n",
       "      <td>0.166667</td>\n",
       "      <td>0.000000</td>\n",
       "    </tr>\n",
       "    <tr>\n",
       "      <th>101</th>\n",
       "      <td>0.000000</td>\n",
       "      <td>0.022727</td>\n",
       "      <td>0.159091</td>\n",
       "      <td>0.363636</td>\n",
       "      <td>0.022727</td>\n",
       "      <td>0.022727</td>\n",
       "      <td>0.090909</td>\n",
       "      <td>0.000000</td>\n",
       "      <td>0.000000</td>\n",
       "      <td>0.136364</td>\n",
       "      <td>0.000000</td>\n",
       "      <td>0.000000</td>\n",
       "      <td>0.000000</td>\n",
       "      <td>0.181818</td>\n",
       "      <td>0.000000</td>\n",
       "    </tr>\n",
       "    <tr>\n",
       "      <th>102</th>\n",
       "      <td>0.001730</td>\n",
       "      <td>0.050173</td>\n",
       "      <td>0.223183</td>\n",
       "      <td>0.314879</td>\n",
       "      <td>0.019031</td>\n",
       "      <td>0.055363</td>\n",
       "      <td>0.079585</td>\n",
       "      <td>0.024221</td>\n",
       "      <td>0.031142</td>\n",
       "      <td>0.069204</td>\n",
       "      <td>0.000000</td>\n",
       "      <td>0.001730</td>\n",
       "      <td>0.003460</td>\n",
       "      <td>0.122837</td>\n",
       "      <td>0.003460</td>\n",
       "    </tr>\n",
       "  </tbody>\n",
       "</table>\n",
       "<p>103 rows × 15 columns</p>\n",
       "</div>"
      ],
      "text/plain": [
       "        PROPN       ADV      VERB      NOUN     SCONJ     CCONJ       ADJ  \\\n",
       "0    0.057143  0.157143  0.171429  0.200000  0.042857  0.128571  0.085714   \n",
       "1    0.102041  0.102041  0.244898  0.183673  0.020408  0.061224  0.081633   \n",
       "2    0.055556  0.166667  0.240741  0.129630  0.018519  0.074074  0.185185   \n",
       "3    0.017241  0.160920  0.201149  0.189655  0.028736  0.086207  0.137931   \n",
       "4    0.071429  0.250000  0.107143  0.321429  0.035714  0.035714  0.035714   \n",
       "..        ...       ...       ...       ...       ...       ...       ...   \n",
       "98   0.000000  0.064516  0.129032  0.354839  0.032258  0.064516  0.032258   \n",
       "99   0.012195  0.060976  0.225610  0.225610  0.012195  0.067073  0.054878   \n",
       "100  0.000000  0.125000  0.250000  0.208333  0.000000  0.041667  0.083333   \n",
       "101  0.000000  0.022727  0.159091  0.363636  0.022727  0.022727  0.090909   \n",
       "102  0.001730  0.050173  0.223183  0.314879  0.019031  0.055363  0.079585   \n",
       "\n",
       "          DET       ADP      PRON      INTJ       AUX       NUM     PUNCT  \\\n",
       "0    0.028571  0.028571  0.100000  0.000000  0.000000  0.000000  0.000000   \n",
       "1    0.020408  0.040816  0.142857  0.000000  0.000000  0.000000  0.000000   \n",
       "2    0.037037  0.000000  0.092593  0.000000  0.000000  0.000000  0.000000   \n",
       "3    0.017241  0.028736  0.109195  0.011494  0.011494  0.000000  0.000000   \n",
       "4    0.000000  0.071429  0.071429  0.000000  0.000000  0.000000  0.000000   \n",
       "..        ...       ...       ...       ...       ...       ...       ...   \n",
       "98   0.032258  0.064516  0.096774  0.000000  0.000000  0.000000  0.096774   \n",
       "99   0.018293  0.024390  0.128049  0.000000  0.012195  0.006098  0.146341   \n",
       "100  0.000000  0.041667  0.041667  0.000000  0.000000  0.041667  0.166667   \n",
       "101  0.000000  0.000000  0.136364  0.000000  0.000000  0.000000  0.181818   \n",
       "102  0.024221  0.031142  0.069204  0.000000  0.001730  0.003460  0.122837   \n",
       "\n",
       "         PART  \n",
       "0    0.000000  \n",
       "1    0.000000  \n",
       "2    0.000000  \n",
       "3    0.000000  \n",
       "4    0.000000  \n",
       "..        ...  \n",
       "98   0.032258  \n",
       "99   0.006098  \n",
       "100  0.000000  \n",
       "101  0.000000  \n",
       "102  0.003460  \n",
       "\n",
       "[103 rows x 15 columns]"
      ]
     },
     "execution_count": 18,
     "metadata": {},
     "output_type": "execute_result"
    }
   ],
   "source": [
    "pos_freq"
   ]
  },
  {
   "cell_type": "markdown",
   "metadata": {},
   "source": [
    "## Plotting POS frequencies\n",
    "\n",
    "We can visualize the corpus of speeches according to the relative proportions of various parts of speech. For example, verbs versus nouns:"
   ]
  },
  {
   "cell_type": "code",
   "execution_count": 28,
   "metadata": {},
   "outputs": [
    {
     "data": {
      "text/plain": [
       "<AxesSubplot:title={'center':'Proportional use of nouns and verbs\\nin Achilles’ speeches'}, xlabel='VERB', ylabel='NOUN'>"
      ]
     },
     "execution_count": 28,
     "metadata": {},
     "output_type": "execute_result"
    },
    {
     "data": {
      "image/png": "[encoded data removed]",
      "text/plain": [
       "<Figure size 432x288 with 1 Axes>"
      ]
     },
     "metadata": {
      "needs_background": "light"
     },
     "output_type": "display_data"
    }
   ],
   "source": [
    "pos_freq.loc[:,['VERB', 'NOUN']].plot.scatter(x='VERB', y='NOUN', title='Proportional use of nouns and verbs\\nin Achilles’ speeches')"
   ]
  },
  {
   "cell_type": "markdown",
   "metadata": {},
   "source": [
    "### Adding category labels\n",
    "\n",
    "I wonder whether Achilles uses verbs and nouns differently according to the language in which he’s speaking. Or according to the author of the work in which he appears.\n",
    "\n",
    "To start with, let’s create a table of parameters we might use to organize the data."
   ]
  },
  {
   "cell_type": "code",
   "execution_count": 29,
   "metadata": {},
   "outputs": [],
   "source": [
    "labels = pd.DataFrame([\n",
    "    dict(i=i, \n",
    "         lang=s.lang, \n",
    "         auth=s.work.author.name,\n",
    "         work=s.work.title, \n",
    "         loc=s.l_range,\n",
    "         addr=s.addr[0].name,) \n",
    "        for i, s in enumerate(speeches) if s.cltk_doc is not None])"
   ]
  },
  {
   "cell_type": "code",
   "execution_count": 21,
   "metadata": {},
   "outputs": [
    {
     "data": {
      "text/html": [
       "<div>\n",
       "<style scoped>\n",
       "    .dataframe tbody tr th:only-of-type {\n",
       "        vertical-align: middle;\n",
       "    }\n",
       "\n",
       "    .dataframe tbody tr th {\n",
       "        vertical-align: top;\n",
       "    }\n",
       "\n",
       "    .dataframe thead th {\n",
       "        text-align: right;\n",
       "    }\n",
       "</style>\n",
       "<table border=\"1\" class=\"dataframe\">\n",
       "  <thead>\n",
       "    <tr style=\"text-align: right;\">\n",
       "      <th></th>\n",
       "      <th>i</th>\n",
       "      <th>lang</th>\n",
       "      <th>auth</th>\n",
       "      <th>work</th>\n",
       "      <th>loc</th>\n",
       "      <th>addr</th>\n",
       "    </tr>\n",
       "  </thead>\n",
       "  <tbody>\n",
       "    <tr>\n",
       "      <th>0</th>\n",
       "      <td>0</td>\n",
       "      <td>greek</td>\n",
       "      <td>Homer</td>\n",
       "      <td>Iliad</td>\n",
       "      <td>1.59-1.67</td>\n",
       "      <td>Agamemnon</td>\n",
       "    </tr>\n",
       "    <tr>\n",
       "      <th>1</th>\n",
       "      <td>1</td>\n",
       "      <td>greek</td>\n",
       "      <td>Homer</td>\n",
       "      <td>Iliad</td>\n",
       "      <td>1.85-1.91</td>\n",
       "      <td>Calchas</td>\n",
       "    </tr>\n",
       "    <tr>\n",
       "      <th>2</th>\n",
       "      <td>2</td>\n",
       "      <td>greek</td>\n",
       "      <td>Homer</td>\n",
       "      <td>Iliad</td>\n",
       "      <td>1.122-1.129</td>\n",
       "      <td>Agamemnon</td>\n",
       "    </tr>\n",
       "    <tr>\n",
       "      <th>3</th>\n",
       "      <td>3</td>\n",
       "      <td>greek</td>\n",
       "      <td>Homer</td>\n",
       "      <td>Iliad</td>\n",
       "      <td>1.149-1.171</td>\n",
       "      <td>Agamemnon</td>\n",
       "    </tr>\n",
       "    <tr>\n",
       "      <th>4</th>\n",
       "      <td>4</td>\n",
       "      <td>greek</td>\n",
       "      <td>Homer</td>\n",
       "      <td>Iliad</td>\n",
       "      <td>1.202-1.205</td>\n",
       "      <td>Athena</td>\n",
       "    </tr>\n",
       "    <tr>\n",
       "      <th>...</th>\n",
       "      <td>...</td>\n",
       "      <td>...</td>\n",
       "      <td>...</td>\n",
       "      <td>...</td>\n",
       "      <td>...</td>\n",
       "      <td>...</td>\n",
       "    </tr>\n",
       "    <tr>\n",
       "      <th>98</th>\n",
       "      <td>106</td>\n",
       "      <td>latin</td>\n",
       "      <td>Statius</td>\n",
       "      <td>Achilleid</td>\n",
       "      <td>1.657-1.660</td>\n",
       "      <td>Deidamia</td>\n",
       "    </tr>\n",
       "    <tr>\n",
       "      <th>99</th>\n",
       "      <td>107</td>\n",
       "      <td>latin</td>\n",
       "      <td>Statius</td>\n",
       "      <td>Achilleid</td>\n",
       "      <td>1.892-1.910</td>\n",
       "      <td>Lycomedes</td>\n",
       "    </tr>\n",
       "    <tr>\n",
       "      <th>100</th>\n",
       "      <td>108</td>\n",
       "      <td>latin</td>\n",
       "      <td>Statius</td>\n",
       "      <td>Achilleid</td>\n",
       "      <td>2.17-2.19</td>\n",
       "      <td>Thetis</td>\n",
       "    </tr>\n",
       "    <tr>\n",
       "      <th>101</th>\n",
       "      <td>109</td>\n",
       "      <td>latin</td>\n",
       "      <td>Statius</td>\n",
       "      <td>Achilleid</td>\n",
       "      <td>2.43-2.48</td>\n",
       "      <td>Odysseus</td>\n",
       "    </tr>\n",
       "    <tr>\n",
       "      <th>102</th>\n",
       "      <td>110</td>\n",
       "      <td>latin</td>\n",
       "      <td>Statius</td>\n",
       "      <td>Achilleid</td>\n",
       "      <td>2.96-2.167</td>\n",
       "      <td>Diomedes</td>\n",
       "    </tr>\n",
       "  </tbody>\n",
       "</table>\n",
       "<p>103 rows × 6 columns</p>\n",
       "</div>"
      ],
      "text/plain": [
       "       i   lang     auth       work          loc       addr\n",
       "0      0  greek    Homer      Iliad    1.59-1.67  Agamemnon\n",
       "1      1  greek    Homer      Iliad    1.85-1.91    Calchas\n",
       "2      2  greek    Homer      Iliad  1.122-1.129  Agamemnon\n",
       "3      3  greek    Homer      Iliad  1.149-1.171  Agamemnon\n",
       "4      4  greek    Homer      Iliad  1.202-1.205     Athena\n",
       "..   ...    ...      ...        ...          ...        ...\n",
       "98   106  latin  Statius  Achilleid  1.657-1.660   Deidamia\n",
       "99   107  latin  Statius  Achilleid  1.892-1.910  Lycomedes\n",
       "100  108  latin  Statius  Achilleid    2.17-2.19     Thetis\n",
       "101  109  latin  Statius  Achilleid    2.43-2.48   Odysseus\n",
       "102  110  latin  Statius  Achilleid   2.96-2.167   Diomedes\n",
       "\n",
       "[103 rows x 6 columns]"
      ]
     },
     "execution_count": 21,
     "metadata": {},
     "output_type": "execute_result"
    }
   ],
   "source": [
    "labels"
   ]
  },
  {
   "cell_type": "markdown",
   "metadata": {},
   "source": [
    "### Plotting by language"
   ]
  },
  {
   "cell_type": "code",
   "execution_count": 36,
   "metadata": {},
   "outputs": [
    {
     "data": {
      "text/plain": [
       "<matplotlib.legend.Legend at 0x7ffa8d218d30>"
      ]
     },
     "execution_count": 36,
     "metadata": {},
     "output_type": "execute_result"
    },
    {
     "data": {
      "image/png": "[encoded data removed]",
      "text/plain": [
       "<Figure size 432x288 with 1 Axes>"
      ]
     },
     "metadata": {
      "needs_background": "light"
     },
     "output_type": "display_data"
    }
   ],
   "source": [
    "fig, ax = pyplot.subplots()\n",
    "for g_label, g_data in pos_freq.groupby(labels.lang):\n",
    "    ax.scatter(g_data.VERB, g_data.NOUN, label=g_label)\n",
    "\n",
    "ax.xaxis.set_label_text('VERB (proportion of all tokens)')\n",
    "ax.yaxis.set_label_text('NOUN (proportion of all tokens)')\n",
    "ax.set_title('Part of speech in Achilles’ speeches')\n",
    "ax.legend()"
   ]
  },
  {
   "cell_type": "markdown",
   "metadata": {},
   "source": [
    "### Plotting by author"
   ]
  },
  {
   "cell_type": "code",
   "execution_count": 37,
   "metadata": {},
   "outputs": [
    {
     "data": {
      "text/plain": [
       "<matplotlib.legend.Legend at 0x7ffa8dc69e80>"
      ]
     },
     "execution_count": 37,
     "metadata": {},
     "output_type": "execute_result"
    },
    {
     "data": {
      "image/png": "[encoded data removed]",
      "text/plain": [
       "<Figure size 432x288 with 1 Axes>"
      ]
     },
     "metadata": {
      "needs_background": "light"
     },
     "output_type": "display_data"
    }
   ],
   "source": [
    "fig, ax = pyplot.subplots()\n",
    "for g_label, g_data in pos_freq.groupby(labels.auth):\n",
    "    ax.scatter(g_data.VERB, g_data.NOUN, label=g_label)\n",
    "\n",
    "ax.xaxis.set_label_text('VERB (proportion of all tokens)')\n",
    "ax.yaxis.set_label_text('NOUN (proportion of all tokens)')\n",
    "ax.set_title('Part of speech in Achilles’ speeches')\n",
    "ax.legend()"
   ]
  },
  {
   "cell_type": "markdown",
   "metadata": {},
   "source": [
    "### Plotting by work"
   ]
  },
  {
   "cell_type": "code",
   "execution_count": 44,
   "metadata": {},
   "outputs": [
    {
     "data": {
      "text/plain": [
       "<matplotlib.legend.Legend at 0x7ffa8cdd1390>"
      ]
     },
     "execution_count": 44,
     "metadata": {},
     "output_type": "execute_result"
    },
    {
     "data": {
      "image/png": "[encoded data removed]",
      "text/plain": [
       "<Figure size 432x288 with 1 Axes>"
      ]
     },
     "metadata": {
      "needs_background": "light"
     },
     "output_type": "display_data"
    }
   ],
   "source": [
    "fig, ax = pyplot.subplots()\n",
    "for g_label, g_data in pos_freq.groupby(labels.work):\n",
    "    ax.scatter(g_data.VERB, g_data.NOUN, label=g_label)\n",
    "\n",
    "ax.xaxis.set_label_text('VERB (proportion of all tokens)')\n",
    "ax.yaxis.set_label_text('NOUN (proportion of all tokens)')\n",
    "ax.set_title('Noun and verb use in Achilles’ speeches')\n",
    "ax.legend()"
   ]
  },
  {
   "cell_type": "markdown",
   "metadata": {},
   "source": [
    "### Inspecting outliers\n",
    "\n",
    "Let’s take a look at a few of the points. For example, what’s happening on the right-hand side of the plot? Achilles is using proportionally more verbs in these speeches. What might he be talking about, and to whom?\n",
    "\n",
    "We can use comparisons on the frequencies to subset both the frequency data and the labels. For example, show me only the speeches where verbs make up 30 percent of all tokens or more."
   ]
  },
  {
   "cell_type": "code",
   "execution_count": 25,
   "metadata": {},
   "outputs": [
    {
     "data": {
      "text/html": [
       "<div>\n",
       "<style scoped>\n",
       "    .dataframe tbody tr th:only-of-type {\n",
       "        vertical-align: middle;\n",
       "    }\n",
       "\n",
       "    .dataframe tbody tr th {\n",
       "        vertical-align: top;\n",
       "    }\n",
       "\n",
       "    .dataframe thead th {\n",
       "        text-align: right;\n",
       "    }\n",
       "</style>\n",
       "<table border=\"1\" class=\"dataframe\">\n",
       "  <thead>\n",
       "    <tr style=\"text-align: right;\">\n",
       "      <th></th>\n",
       "      <th>i</th>\n",
       "      <th>lang</th>\n",
       "      <th>auth</th>\n",
       "      <th>work</th>\n",
       "      <th>loc</th>\n",
       "      <th>addr</th>\n",
       "    </tr>\n",
       "  </thead>\n",
       "  <tbody>\n",
       "    <tr>\n",
       "      <th>43</th>\n",
       "      <td>43</td>\n",
       "      <td>greek</td>\n",
       "      <td>Homer</td>\n",
       "      <td>Iliad</td>\n",
       "      <td>20.429-20.429</td>\n",
       "      <td>Hector</td>\n",
       "    </tr>\n",
       "    <tr>\n",
       "      <th>59</th>\n",
       "      <td>59</td>\n",
       "      <td>greek</td>\n",
       "      <td>Homer</td>\n",
       "      <td>Iliad</td>\n",
       "      <td>23.19-23.23</td>\n",
       "      <td>Patroclus</td>\n",
       "    </tr>\n",
       "    <tr>\n",
       "      <th>73</th>\n",
       "      <td>73</td>\n",
       "      <td>greek</td>\n",
       "      <td>Homer</td>\n",
       "      <td>Iliad</td>\n",
       "      <td>23.707-23.707</td>\n",
       "      <td>Greeks</td>\n",
       "    </tr>\n",
       "    <tr>\n",
       "      <th>75</th>\n",
       "      <td>75</td>\n",
       "      <td>greek</td>\n",
       "      <td>Homer</td>\n",
       "      <td>Iliad</td>\n",
       "      <td>23.753-23.753</td>\n",
       "      <td>Greeks</td>\n",
       "    </tr>\n",
       "  </tbody>\n",
       "</table>\n",
       "</div>"
      ],
      "text/plain": [
       "     i   lang   auth   work            loc       addr\n",
       "43  43  greek  Homer  Iliad  20.429-20.429     Hector\n",
       "59  59  greek  Homer  Iliad    23.19-23.23  Patroclus\n",
       "73  73  greek  Homer  Iliad  23.707-23.707     Greeks\n",
       "75  75  greek  Homer  Iliad  23.753-23.753     Greeks"
      ]
     },
     "execution_count": 25,
     "metadata": {},
     "output_type": "execute_result"
    }
   ],
   "source": [
    "labels.loc[pos_freq.VERB>0.3,:]"
   ]
  },
  {
   "cell_type": "markdown",
   "metadata": {},
   "source": [
    "I’m surprised to see four speeches here. It looks to me like there are only three points on the plot. Let’s subset the data using the same criterion to see the actual values being plotted."
   ]
  },
  {
   "cell_type": "code",
   "execution_count": 26,
   "metadata": {},
   "outputs": [
    {
     "data": {
      "text/html": [
       "<div>\n",
       "<style scoped>\n",
       "    .dataframe tbody tr th:only-of-type {\n",
       "        vertical-align: middle;\n",
       "    }\n",
       "\n",
       "    .dataframe tbody tr th {\n",
       "        vertical-align: top;\n",
       "    }\n",
       "\n",
       "    .dataframe thead th {\n",
       "        text-align: right;\n",
       "    }\n",
       "</style>\n",
       "<table border=\"1\" class=\"dataframe\">\n",
       "  <thead>\n",
       "    <tr style=\"text-align: right;\">\n",
       "      <th></th>\n",
       "      <th>NOUN</th>\n",
       "      <th>VERB</th>\n",
       "    </tr>\n",
       "  </thead>\n",
       "  <tbody>\n",
       "    <tr>\n",
       "      <th>43</th>\n",
       "      <td>0.125000</td>\n",
       "      <td>0.375000</td>\n",
       "    </tr>\n",
       "    <tr>\n",
       "      <th>59</th>\n",
       "      <td>0.171429</td>\n",
       "      <td>0.342857</td>\n",
       "    </tr>\n",
       "    <tr>\n",
       "      <th>73</th>\n",
       "      <td>0.166667</td>\n",
       "      <td>0.333333</td>\n",
       "    </tr>\n",
       "    <tr>\n",
       "      <th>75</th>\n",
       "      <td>0.166667</td>\n",
       "      <td>0.333333</td>\n",
       "    </tr>\n",
       "  </tbody>\n",
       "</table>\n",
       "</div>"
      ],
      "text/plain": [
       "        NOUN      VERB\n",
       "43  0.125000  0.375000\n",
       "59  0.171429  0.342857\n",
       "73  0.166667  0.333333\n",
       "75  0.166667  0.333333"
      ]
     },
     "execution_count": 26,
     "metadata": {},
     "output_type": "execute_result"
    }
   ],
   "source": [
    "pos_freq.loc[pos_freq.VERB>0.3,['NOUN','VERB']]"
   ]
  },
  {
   "cell_type": "markdown",
   "metadata": {},
   "source": [
    "The explanation is that two points are precisely on top of one another. Let’s inspect the speeches themselves to see what Achilles is saying here. I’ve included column `i` for this purpose: it gives the speech’s position in the original `speeches` list, so I can trace interesting data back to the speech that produced them."
   ]
  },
  {
   "cell_type": "code",
   "execution_count": 27,
   "metadata": {},
   "outputs": [
    {
     "name": "stdout",
     "output_type": "stream",
     "text": [
      "43 ἆσσον ἴθʼ ὥς κεν θᾶσσον ὀλέθρου πείραθʼ ἵκηαι.\n",
      "59 χαῖρέ μοι ὦ Πάτροκλε καὶ εἰν Ἀΐδαο δόμοισι· πάντα γὰρ ἤδη τοι τελέω τὰ πάροιθεν ὑπέστην Ἕκτορα δεῦρʼ ἐρύσας δώσειν κυσὶν ὠμὰ δάσασθαι, δώδεκα δὲ προπάροιθε πυρῆς ἀποδειροτομήσειν Τρώων ἀγλαὰ τέκνα σέθεν κταμένοιο χολωθείς.\n",
      "73 ὄρνυσθʼ οἳ καὶ τούτου ἀέθλου πειρήσεσθον.\n",
      "75 ὄρνυσθʼ οἳ καὶ τούτου ἀέθλου πειρήσεσθε.\n"
     ]
    }
   ],
   "source": [
    "for i in labels.loc[pos_freq.VERB>0.3,:].i:\n",
    "    print(i, speeches[i].cts_passage.text)"
   ]
  },
  {
   "cell_type": "markdown",
   "metadata": {},
   "source": [
    "The two identical points come from two speeches that use the same Homeric formula. Although the inflection of the final verb changes, the proportion of nouns and verbs is identical.\n",
    "\n",
    "## A rough measure of sentence complexity\n",
    "\n",
    "One more quick plot to show how we might use POS tags, this time as a proxy for syntax. Let’s plot the frequency of coordinating conjunctions ('CCONJ') versus that of subordinating conjunctions ('SCONJ'). Under what circumstances does Achilles favour complex sentences?"
   ]
  },
  {
   "cell_type": "code",
   "execution_count": 41,
   "metadata": {},
   "outputs": [
    {
     "data": {
      "text/plain": [
       "<matplotlib.legend.Legend at 0x7ffa8e0a79e8>"
      ]
     },
     "execution_count": 41,
     "metadata": {},
     "output_type": "execute_result"
    },
    {
     "data": {
      "image/png": "[encoded data removed]",
      "text/plain": [
       "<Figure size 432x288 with 1 Axes>"
      ]
     },
     "metadata": {
      "needs_background": "light"
     },
     "output_type": "display_data"
    }
   ],
   "source": [
    "fig, ax = pyplot.subplots()\n",
    "for g_label, g_data in pos_freq.groupby(labels.work):\n",
    "    ax.scatter(g_data.SCONJ, g_data.CCONJ, label=g_label)\n",
    "\n",
    "ax.xaxis.set_label_text('SCONJ (proportion of all tokens)')\n",
    "ax.yaxis.set_label_text('CCONJ (proportion of all tokens)')\n",
    "ax.set_title('Subordinating and coordinating conjunctions\\nin Achilles’ speeches')\n",
    "ax.legend()"
   ]
  },
  {
   "cell_type": "markdown",
   "metadata": {},
   "source": [
    "Because the frequency of both features is relatively low, we see some constraints imposed by the quantized nature of these counts. For example, sentences with exactly one of each will fall along a straight line, at a distance from the origin depending on the length of the sentence.\n",
    "\n",
    "I was guessing there’d be some interesting difference between the languages, but in fact the biggest difference is between Ovid and Statius: the frequency of subordinating conjunctions alone is enough to separate these two authors."
   ]
  }
 ],
 "metadata": {
  "kernelspec": {
   "display_name": "Python 3 (ipykernel)",
   "language": "python",
   "name": "python3"
  },
  "language_info": {
   "codemirror_mode": {
    "name": "ipython",
    "version": 3
   },
   "file_extension": ".py",
   "mimetype": "text/x-python",
   "name": "python",
   "nbconvert_exporter": "python",
   "pygments_lexer": "ipython3",
   "version": "3.8.16"
  }
 },
 "nbformat": 4,
 "nbformat_minor": 4
}
