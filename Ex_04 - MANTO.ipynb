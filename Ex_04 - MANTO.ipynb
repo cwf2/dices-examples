{
 "cells": [
  {
   "cell_type": "markdown",
   "metadata": {},
   "source": [
    "# Working with MANTO data\n",
    "\n",
    "<div class=\"alert alert-warning\" style=\"margin: 1em 2em\">\n",
    "    <h4>Rate limit on JSON requests to MANTO server</h4>\n",
    "    <p>Note that MANTO's API limits JSON requests to 1000 / 15 minutes from a given IP. This should be <strong>more than sufficient</strong> for use with DICES, since MANTO entities are cached locally after the first download. If, however, you do exceed the limit, then the call to MANTO will return an error and the DICES client will create a dummy MANTO entity with no data.</p>\n",
    "    <p>I've introduced the <code>cache_empty=False</code> default for <code>getMantoID()</code> and <code>getMantoChar()</code>, which specifies that an entity returned with an empty <code>data</code> attribute should not be cached, forcing an automatic re-download the next time it's used. If, however, you expect <code>data</code> to be empty, you can set <code>cache_empty=True</code> to prevent unnecessary calls to the MANTO server.</p>\n",
    "</div>\n",
    "\n",
    "### Preliminaries\n",
    "\n",
    "Import statements. Our MANTO tools are in the `manto` module."
   ]
  },
  {
   "cell_type": "code",
   "execution_count": 1,
   "metadata": {},
   "outputs": [],
   "source": [
    "from dicesapi import DicesAPI, SpeechGroup\n",
    "from dicesapi.jupyter import NotebookPBar\n",
    "from dicesapi import manto\n",
    "import pandas as pd"
   ]
  },
  {
   "cell_type": "markdown",
   "metadata": {},
   "source": [
    "Create a connection to DICES"
   ]
  },
  {
   "cell_type": "code",
   "execution_count": 2,
   "metadata": {},
   "outputs": [],
   "source": [
    "api=DicesAPI(progress_class=NotebookPBar, logfile='dices.log')"
   ]
  },
  {
   "cell_type": "markdown",
   "metadata": {},
   "source": [
    "Instantiate a DICES character to get started"
   ]
  },
  {
   "cell_type": "code",
   "execution_count": 3,
   "metadata": {},
   "outputs": [
    {
     "name": "stdout",
     "output_type": "stream",
     "text": [
      "<Character 965: Telemachus>\n"
     ]
    }
   ],
   "source": [
    "char = api.getCharacters(name='Telemachus')[0]\n",
    "print(char)"
   ]
  },
  {
   "cell_type": "markdown",
   "metadata": {},
   "source": [
    "### Retrieving MANTO entities\n",
    "\n",
    "Let’s create a new MANTO entity by retrieving Telemachus’ ID from MANTO."
   ]
  },
  {
   "cell_type": "code",
   "execution_count": 4,
   "metadata": {},
   "outputs": [
    {
     "name": "stdout",
     "output_type": "stream",
     "text": [
      "<MANTO Entity 8190074: 👤 Telemachos>\n"
     ]
    }
   ],
   "source": [
    "manto_ent = manto.getMantoChar(char)\n",
    "print(manto_ent)"
   ]
  },
  {
   "cell_type": "markdown",
   "metadata": {},
   "source": [
    "### Using MANTO ties to find relatives\n",
    "\n",
    "This code is still in development and subject to change. But for now, this is how we search MANTO for Telemachus' parents. Under the hood, we're checking two different MANTO ties, `31764`, \"son of\", and `31765`, \"daughter of.\"\n",
    "\n",
    "This function currently returns MANTO Entity objects."
   ]
  },
  {
   "cell_type": "code",
   "execution_count": 5,
   "metadata": {},
   "outputs": [
    {
     "name": "stdout",
     "output_type": "stream",
     "text": [
      "[<MANTO Entity 8189173: 👤 Penelope>, <MANTO Entity 8189902: 👤 Odysseus>]\n"
     ]
    }
   ],
   "source": [
    "parents = manto_ent.getParents()\n",
    "print(parents)"
   ]
  },
  {
   "cell_type": "markdown",
   "metadata": {},
   "source": [
    "Let's look for grandparents. Note that when sources disagree about parentage, MANTO returns an inclusive list."
   ]
  },
  {
   "cell_type": "code",
   "execution_count": 6,
   "metadata": {},
   "outputs": [
    {
     "name": "stdout",
     "output_type": "stream",
     "text": [
      "Grandparents on 👤 Penelope’s side:\n",
      " - 👤 Icarios (Spartan)\n",
      " - 👤 Periboia (Spartan)\n",
      "Grandparents on 👤 Odysseus’s side:\n",
      " - 👤 Anticleia (Ithacan)\n",
      " - 👤 Laertes\n",
      " - 👤 Sisyphos\n"
     ]
    }
   ],
   "source": [
    "for p in parents:\n",
    "    print(f'Grandparents on {p.name}’s side:')\n",
    "    for gp in p.getParents():\n",
    "        print(' - ' + gp.name)"
   ]
  },
  {
   "cell_type": "markdown",
   "metadata": {},
   "source": [
    "### Boolean relationship checker\n",
    "\n",
    "#### For MANTO Entities\n",
    "\n",
    "Sometimes we just want a yes/no answer as to parentage. For MANTO Entities, methods like `isChildOf()` will take a second Manto entity as argument and return `True` or `False`. This can be useful, for example, for filtering a list."
   ]
  },
  {
   "cell_type": "code",
   "execution_count": 7,
   "metadata": {},
   "outputs": [
    {
     "name": "stdout",
     "output_type": "stream",
     "text": [
      "Is 👤 Anchises (Trojan) the child of 👤 Aineias?  False\n",
      "Is 👤 Eteocles (Theban) the child of 👤 Oedipus?  True\n",
      "Is 👤 Menelaos the child of 👤 Agamemnon?  False\n"
     ]
    }
   ],
   "source": [
    "# a list of character pairs, by MANTO ID\n",
    "pairs = [\n",
    "    ('8182179', '8182084'),  # Anchises and Aeneas\n",
    "    ('8188282', '8190182'),  # Eteocles and Oedipus\n",
    "    ('8189802', '8182035'),  # Menelaus and Agamemnon\n",
    "]\n",
    "\n",
    "for a, b in pairs:\n",
    "    ent_a = manto.getMantoID(a)\n",
    "    ent_b = manto.getMantoID(b)\n",
    "    print(f'Is {ent_a.name} the child of {ent_b.name}? ', ent_a.isChildOf(ent_b))"
   ]
  },
  {
   "cell_type": "markdown",
   "metadata": {},
   "source": [
    "#### For DICES Characters\n",
    "\n",
    "For convenience, there are also wrapper functions that perform the same checks on DICES Characters by resolving the characters to MANTO entities first, then calling the boolean methods above. If you pass a CharacterInstance instead of a Character, the function will try to determine the MANTO ID of the underlying Character.\n",
    "\n",
    "If passed a Character with no MANTO ID, or an anonymous CharacterInstance with no Character, these functions return `None`. You can use the optional `err_val` parameter to set a different fallback value; for example, if you're using the function in a filter and want to ensure it always returns a Boolean, set this to `False`.\n",
    "\n",
    "For these next examples, let's start with a list of Telemachus' interlocutors."
   ]
  },
  {
   "cell_type": "code",
   "execution_count": 8,
   "metadata": {},
   "outputs": [
    {
     "data": {
      "application/vnd.jupyter.widget-view+json": {
       "model_id": "de43e372cac7426aa053c156a7ae4871",
       "version_major": 2,
       "version_minor": 0
      },
      "text/plain": [
       "HBox(children=(IntProgress(value=0, bar_style='info', max=84), Label(value='0/84')))"
      ]
     },
     "metadata": {},
     "output_type": "display_data"
    },
    {
     "name": "stdout",
     "output_type": "stream",
     "text": [
      "84 speeches\n",
      "19 unique addressees.\n"
     ]
    }
   ],
   "source": [
    "# download all speeches by Telemachus\n",
    "speeches = api.getSpeeches(spkr_id=char.id, progress=True)\n",
    "print(f'{len(speeches)} speeches')\n",
    "\n",
    "# extract the list of addressees\n",
    "addressees = speeches.getAddrs(flatten=True)\n",
    "print(f'{len(addressees)} unique addressees.')"
   ]
  },
  {
   "cell_type": "markdown",
   "metadata": {},
   "source": [
    "In this block, we use call `charIsChild()` on the speaker and his addressees to test parentage using MANTO's data. Where the function returns `None`, we know data was missing."
   ]
  },
  {
   "cell_type": "code",
   "execution_count": 9,
   "metadata": {},
   "outputs": [
    {
     "name": "stdout",
     "output_type": "stream",
     "text": [
      "Is Telemachus the child of Eumaeus? False\n",
      "Can't get MANTO data: <CharacterInstance 120: suitors of Penelope> is an anonymous CharacterInstance\n",
      "No MANTO data available for suitors of Penelope\n",
      "Is Telemachus the child of Menelaus? False\n",
      "Is Telemachus the child of Eurymachus? False\n",
      "Is Telemachus the child of Helena? False\n",
      "Is Telemachus the child of Agelaus? False\n",
      "Is Telemachus the child of Peiraeus? False\n",
      "Can't get MANTO data: <CharacterInstance 144: women> is an anonymous CharacterInstance\n",
      "No MANTO data available for women\n",
      "Is Telemachus the child of Penelope? True\n",
      "Is Telemachus the child of Euryclea? False\n",
      "Is Telemachus the child of Antinous? False\n",
      "Is Telemachus the child of Odysseus? True\n",
      "Is Telemachus the child of Peisistratus? False\n",
      "Can't get MANTO data: <CharacterInstance 130: all present> is an anonymous CharacterInstance\n",
      "No MANTO data available for all present\n",
      "Is Telemachus the child of Aegyptius? False\n",
      "Is Telemachus the child of Nestor? False\n",
      "Is Telemachus the child of Athena? False\n",
      "Is Telemachus the child of Ctesippus? False\n",
      "Is Telemachus the child of Theoclymenus? False\n"
     ]
    }
   ],
   "source": [
    "for addr in addressees:\n",
    "    check = manto.charIsChild(char, addr)\n",
    "    if check is not None:\n",
    "        print(f'Is {char.name} the child of {addr.name}?', check)\n",
    "    else:\n",
    "        print(f'No MANTO data available for {addr.name}')"
   ]
  },
  {
   "cell_type": "markdown",
   "metadata": {},
   "source": [
    "Or we can use MANTO ties in a custom filter. In this case I'll silence the debugging messages and force `charIsChild()` to return `False` if no MANTO ID is found."
   ]
  },
  {
   "cell_type": "code",
   "execution_count": 25,
   "metadata": {},
   "outputs": [
    {
     "name": "stdout",
     "output_type": "stream",
     "text": [
      "Parent addressees of Telemachus:\n",
      "Penelope\n",
      "Odysseus\n",
      "\n",
      "Speeches in which Telemachus addresses a parent:\n",
      "\n",
      "Homer Odyssey 1.346-1.359\tPenelope\n",
      "Homer Odyssey 16.44-16.45\tOdysseus\n",
      "Homer Odyssey 16.113-16.134\tOdysseus\n",
      "Homer Odyssey 16.181-16.185\tOdysseus\n",
      "Homer Odyssey 16.194-16.200\tOdysseus\n",
      "Homer Odyssey 16.222-16.224\tOdysseus\n",
      "Homer Odyssey 16.241-16.257\tOdysseus\n",
      "Homer Odyssey 16.263-16.265\tOdysseus\n",
      "Homer Odyssey 16.309-16.320\tOdysseus\n",
      "Homer Odyssey 17.46-17.56\tPenelope\n",
      "Homer Odyssey 17.108-17.149\tPenelope\n",
      "Homer Odyssey 18.61-18.65\tOdysseus\n",
      "Homer Odyssey 18.227-18.242\tPenelope\n",
      "Homer Odyssey 19.36-19.40\tOdysseus\n",
      "Homer Odyssey 20.262-20.267\tOdysseus, suitors of Penelope\n",
      "Homer Odyssey 21.344-21.353\tPenelope\n",
      "Homer Odyssey 22.101-22.104\tOdysseus\n",
      "Homer Odyssey 22.154-22.159\tOdysseus\n",
      "Homer Odyssey 22.356-22.360\tOdysseus\n",
      "Homer Odyssey 23.97-23.103\tPenelope\n",
      "Homer Odyssey 23.124-23.128\tOdysseus\n",
      "Homer Odyssey 24.511-24.512\tOdysseus\n"
     ]
    }
   ],
   "source": [
    "# filter a CharacterInstanceGroup based on MANTO ties:\n",
    "parent_addrs = addressees.advancedFilter(lambda addr: manto.charIsChild(char, addr, debug=False, err_val=False))\n",
    "\n",
    "print(f'Parent addressees of {char.name}:')\n",
    "for p in parent_addrs:\n",
    "    print(p.name)\n",
    "print()\n",
    "    \n",
    "# now use the filtered list of CharacterInstances to filter the original SpeechGroup\n",
    "parent_speeches = speeches.filterAddrInstances(parent_addrs)\n",
    "\n",
    "print(f'Speeches in which {char.name} addresses a parent:\\n')\n",
    "for s in parent_speeches:\n",
    "    print(f'{s.author.name} {s.work.title} {s.l_range}\\t{s.getAddrString()}')"
   ]
  },
  {
   "cell_type": "markdown",
   "metadata": {},
   "source": []
  },
  {
   "cell_type": "code",
   "execution_count": null,
   "metadata": {},
   "outputs": [],
   "source": [
    "theb = manto.getMantoID('8253960')\n",
    "print(theb)"
   ]
  },
  {
   "cell_type": "code",
   "execution_count": null,
   "metadata": {},
   "outputs": [],
   "source": [
    "manto_ids = theb.getTies('32529', as_ent=False)"
   ]
  },
  {
   "cell_type": "code",
   "execution_count": null,
   "metadata": {},
   "outputs": [],
   "source": [
    "characters = api.getCharacters().filterMantos(manto_ids)"
   ]
  },
  {
   "cell_type": "code",
   "execution_count": null,
   "metadata": {},
   "outputs": [],
   "source": [
    "for c in characters:\n",
    "    print(c)"
   ]
  },
  {
   "cell_type": "code",
   "execution_count": null,
   "metadata": {},
   "outputs": [],
   "source": [
    "speeches = SpeechGroup([api.getSpeeches(spkr_id=c.id) for c in characters], api=api)"
   ]
  }
 ],
 "metadata": {
  "kernelspec": {
   "display_name": "Python 3 (ipykernel)",
   "language": "python",
   "name": "python3"
  },
  "language_info": {
   "codemirror_mode": {
    "name": "ipython",
    "version": 3
   },
   "file_extension": ".py",
   "mimetype": "text/x-python",
   "name": "python",
   "nbconvert_exporter": "python",
   "pygments_lexer": "ipython3",
   "version": "3.7.3"
  }
 },
 "nbformat": 4,
 "nbformat_minor": 4
}
