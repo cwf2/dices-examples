{
 "cells": [
  {
   "cell_type": "markdown",
   "metadata": {},
   "source": [
    "# Retrieving texts and counting words\n",
    "\n",
    "In this example, we'll retrieve the texts of speeches from a remote server and do a basic word count.\n",
    "\n",
    "## Scenario\n",
    "\n",
    "Let's say we want to know how many words Achilles speaks to each of his interlocutors. We can search the DICES database for the relevant speeches using the API. Then, to count the number of words, we'll have to retrieve the text of the speeches themselves. Since the DICES *Speech* objects include CTS URNS, we can request the passages from a remote server. \n",
    "\n",
    "## Preliminaries\n",
    "\n",
    "### Install the client library\n",
    "\n",
    "If you don't have the DICES client library, you can install it with **pip**:\n",
    "```\n",
    "pip install git+https://github.com/cwf2/dices-client.git\n",
    "```\n",
    "\n",
    "### The DICES API\n",
    "\n",
    "First step is to instantiate a connection to the DICES api. Two optional arguments allow you to specify endpoints for the DICES database and the CTS server hosting the texts:\n",
    "\n",
    "- `dices_api`: URL for the DICES API. Default is `https://fierce-ravine-99183.herokuapp.com/api/`, our development instance on Heroku. This is free-tier and annoyingly slow.\n",
    "- `cts_api`: URL for the CTS server. Default is `https://scaife-cts.perseus.org/api/cts/`, which provides CTS access to (**I think**) the same Perseus texts as the [Scaife Viewer](https://scaife.perseus.org/).\n",
    "\n",
    "To create the API instance with these defaults:"
   ]
  },
  {
   "cell_type": "code",
   "execution_count": null,
   "metadata": {},
   "outputs": [],
   "source": [
    "from dicesapi import DicesAPI\n",
    "api = DicesAPI()"
   ]
  },
  {
   "cell_type": "markdown",
   "metadata": {},
   "source": [
    "### Matplotlib for figures\n",
    "\n",
    "Let's also import **pyplot**, for drawing a simple bar graph of the results. Note the Jupyter magic `%matplotlib inline` to display the figure right in the notebook. Some people like `%matplotlib notebook` better — it gives you some fancier display options."
   ]
  },
  {
   "cell_type": "code",
   "execution_count": null,
   "metadata": {},
   "outputs": [],
   "source": [
    "from matplotlib import pyplot\n",
    "%matplotlib inline"
   ]
  },
  {
   "cell_type": "markdown",
   "metadata": {},
   "source": [
    "## Running the experiment\n",
    "\n",
    "Here's the code for calculating Achilles' speech lengths by addressee.\n",
    "\n",
    "### First, download the speeches\n",
    "\n",
    "Using the API, we can search speeches using a set of key-value pairs [listed in greater detail here](https://cwf2.github.io/dices/2021/06/20/alpha.html). For now, JSON results from the API are paged, so if your search has a lot of results, you may have to wait for several pages to download.\n",
    "\n",
    "<div class=\"alert alert-warning\" style=\"margin:1em 2em\">\n",
    "    <p><strong>NB:</strong> Because the server is on Heroku's free tier, it take a minute to wake up when you first run a search. Subsequent tries are usually faster.</p>\n",
    "</div>"
   ]
  },
  {
   "cell_type": "code",
   "execution_count": null,
   "metadata": {},
   "outputs": [],
   "source": [
    "speeches = api.getSpeeches(spkr_name='Achilles')"
   ]
  },
  {
   "cell_type": "markdown",
   "metadata": {},
   "source": [
    "### Count the words for each speech\n",
    "\n",
    "This involves retrieving each passage from the CTS server, and extracting the plaintext of its contents. In this toy example, we split into words using Python's built-in `split()`, which just looks for whitespace. For more context-aware tokenization, use CLTK.\n",
    "\n",
    "<div class=\"alert alert-warning\" style=\"margin:1em 2em\">\n",
    "    <p>Behind the scenes, the <code>getCTS()</code> method shown here is calling <strong>MyCapytain</strong>'s <a href=\"https://mycapytain.readthedocs.io/en/latest/MyCapytain.classes.html?highlight=gettextualnode#MyCapytain.resolvers.prototypes.Resolver.getTextualNode\"><code>getTextualNode()</code></a>, which returns a <a href=\"https://mycapytain.readthedocs.io/en/latest/MyCapytain.api.html#MyCapytain.resources.texts.local.capitains.cts.CapitainsCtsPassage\">CapitainsCtsPassage</a> instance.</p>\n",
    "</div>"
   ]
  },
  {
   "cell_type": "code",
   "execution_count": null,
   "metadata": {},
   "outputs": [],
   "source": [
    "# initialize our counter\n",
    "count = {}\n",
    "\n",
    "# iterate over all speeches\n",
    "for speech in speeches:\n",
    "    \n",
    "    # retrieve the passage from the remote library\n",
    "    cts_passage = speech.getCTS()\n",
    "    \n",
    "    # extract the text and split into words\n",
    "    plaintext = cts_passage.text\n",
    "    n_words = len(plaintext.split())\n",
    "    \n",
    "    # tally the word counts for each addressee\n",
    "    for addressee in speech.addr:\n",
    "        name = addressee.name\n",
    "        if name == 'Achilles':\n",
    "            name = 'himself'\n",
    "        count[name] = count.get(name, 0) + n_words"
   ]
  },
  {
   "cell_type": "markdown",
   "metadata": {},
   "source": [
    "### Examine the results\n",
    "\n",
    "🤔 Let's see whether it worked!"
   ]
  },
  {
   "cell_type": "code",
   "execution_count": null,
   "metadata": {},
   "outputs": [],
   "source": [
    "for name in sorted(count):\n",
    "    print(name, count[name])"
   ]
  },
  {
   "cell_type": "markdown",
   "metadata": {},
   "source": [
    "### Make a simple graph with pyplot\n",
    "\n",
    "Seems good. Let's visualize it with a simple bar chart."
   ]
  },
  {
   "cell_type": "code",
   "execution_count": null,
   "metadata": {},
   "outputs": [],
   "source": [
    "# data for the graph\n",
    "names = sorted(count)\n",
    "y_pos = range(len(names))\n",
    "bars = [count[name] for name in names]\n",
    "\n",
    "# create a new figure\n",
    "fig, ax = pyplot.subplots(figsize=(8, 8))\n",
    "\n",
    "# draw the bars\n",
    "ax.barh(y_pos, bars, align='center')\n",
    "\n",
    "# annotate the graph\n",
    "ax.set_yticks(y_pos)\n",
    "ax.set_yticklabels(names)\n",
    "ax.invert_yaxis()  # labels read top-to-bottom\n",
    "ax.set_xlabel('Number of Words')\n",
    "ax.set_ylabel('Addressee')\n",
    "ax.set_title('Length of Achilles\\' speeches')"
   ]
  }
 ],
 "metadata": {
  "kernelspec": {
   "display_name": "Python 3",
   "language": "python",
   "name": "python3"
  },
  "language_info": {
   "codemirror_mode": {
    "name": "ipython",
    "version": 3
   },
   "file_extension": ".py",
   "mimetype": "text/x-python",
   "name": "python",
   "nbconvert_exporter": "python",
   "pygments_lexer": "ipython3",
   "version": "3.7.3"
  }
 },
 "nbformat": 4,
 "nbformat_minor": 4
}
