{
 "cells": [
  {
   "cell_type": "markdown",
   "metadata": {},
   "source": [
    "# Retrieving texts and counting words\n",
    "\n",
    "In this example, we'll retrieve the texts of speeches from a remote server and do a basic word count.\n",
    "\n",
    "## Scenario\n",
    "\n",
    "Let's say we want to know how many words Achilles speaks to each of his interlocutors. We can search the DICES database for the relevant speeches using the API. Then, to count the number of words, we'll have to retrieve the text of the speeches themselves. Since the DICES *Speech* objects include CTS URNS, we can request the passages from a remote server. \n",
    "\n",
    "## Preliminaries\n",
    "\n",
    "### Install the client library\n",
    "\n",
    "If you don't have the DICES client library, you can install it with **pip**:\n",
    "```\n",
    "pip install git+https://github.com/cwf2/dices-client.git\n",
    "```\n",
    "\n",
    "### The DICES API\n",
    "\n",
    "First step is to instantiate a connection to the DICES api. Two optional arguments allow you to specify endpoints for the DICES database and the CTS server hosting the texts:\n",
    "\n",
    "- `dices_api`: URL for the DICES API. The official server lives at `http://csa20211203-005.uni-rostock.de/api/`. If you want to run your own server locally, you can download the [DICES backend](https://github.com/cwf2/dices) from GitHub.\n",
    "- `cts_api`: URL for the CTS server. Default is `https://scaife-cts.perseus.org/api/cts/`, which provides CTS access to (**I think**) the same Perseus texts as the [Scaife Viewer](https://scaife.perseus.org/).\n",
    "\n",
    "Two other optional params affect the behaviour of the client:\n",
    "- `progress_class` allows you to pass a class that will be used to create progress bars. For Jupyter notebooks you can use `dicesapi.jupyter.NotebookPBar`.\n",
    "- `logfile` lets you set a local logfile. This keeps messages out of your notebook.\n",
    "\n",
    "To create the API instance with default servers:"
   ]
  },
  {
   "cell_type": "code",
   "execution_count": 1,
   "metadata": {},
   "outputs": [],
   "source": [
    "from dicesapi import DicesAPI\n",
    "from dicesapi.jupyter import NotebookPBar\n",
    "api = DicesAPI(\n",
    "    dices_api='http://localhost:8000/api/',\n",
    "    progress_class=NotebookPBar,\n",
    "    logfile='dices.log')"
   ]
  },
  {
   "cell_type": "markdown",
   "metadata": {},
   "source": [
    "### Matplotlib for figures\n",
    "\n",
    "Let's also import **pyplot**, for drawing a simple bar graph of the results. Note the Jupyter magic `%matplotlib inline` to display the figure right in the notebook. Some people like `%matplotlib notebook` better — it gives you some fancier display options."
   ]
  },
  {
   "cell_type": "code",
   "execution_count": 2,
   "metadata": {},
   "outputs": [],
   "source": [
    "from matplotlib import pyplot\n",
    "%matplotlib inline"
   ]
  },
  {
   "cell_type": "markdown",
   "metadata": {},
   "source": [
    "## Running the experiment\n",
    "\n",
    "Here’s the code for calculating Achilles’ speech lengths by addressee.\n",
    "\n",
    "### First, download the speeches\n",
    "\n",
    "Using the API, we can search speeches using a set of key-value pairs [listed in greater detail here](https://cwf2.github.io/dices/2021/06/20/alpha.html). For now, JSON results from the API are paged, so if your search has a lot of results, you may have to wait for several pages to download."
   ]
  },
  {
   "cell_type": "code",
   "execution_count": 5,
   "metadata": {},
   "outputs": [
    {
     "data": {
      "application/vnd.jupyter.widget-view+json": {
       "model_id": "6b8056b6bdbe4c67b896ae9af67c4910",
       "version_major": 2,
       "version_minor": 0
      },
      "text/plain": [
       "HBox(children=(IntProgress(value=0, bar_style='info', max=88), Label(value='0/88')))"
      ]
     },
     "metadata": {},
     "output_type": "display_data"
    }
   ],
   "source": [
    "speeches = api.getSpeeches(spkr_name='Achilles', work_title='Iliad', progress=True)"
   ]
  },
  {
   "cell_type": "markdown",
   "metadata": {},
   "source": [
    "### Count the words for each speech\n",
    "\n",
    "This involves retrieving each passage from the CTS server, and extracting the plaintext of its contents. In this toy example, we split into words using Python's built-in `split()`, which just looks for whitespace. For more context-aware tokenization, use CLTK.\n",
    "\n",
    "<div class=\"alert alert-warning\" style=\"margin:1em 2em\">\n",
    "    <p>Behind the scenes, the <code>getCTS()</code> method shown here is calling <strong>MyCapytain</strong>'s <a href=\"https://mycapytain.readthedocs.io/en/latest/MyCapytain.classes.html?highlight=gettextualnode#MyCapytain.resolvers.prototypes.Resolver.getTextualNode\"><code>getTextualNode()</code></a>, which returns a <a href=\"https://mycapytain.readthedocs.io/en/latest/MyCapytain.api.html#MyCapytain.resources.texts.local.capitains.cts.CapitainsCtsPassage\">CapitainsCtsPassage</a> instance.</p>\n",
    "</div>"
   ]
  },
  {
   "cell_type": "code",
   "execution_count": 6,
   "metadata": {},
   "outputs": [
    {
     "data": {
      "application/vnd.jupyter.widget-view+json": {
       "model_id": "b06aacc0fdf847a6b87adf6e5df61743",
       "version_major": 2,
       "version_minor": 0
      },
      "text/plain": [
       "HBox(children=(IntProgress(value=0, bar_style='info', max=88), Label(value='0/88')))"
      ]
     },
     "metadata": {},
     "output_type": "display_data"
    }
   ],
   "source": [
    "# initialize our counter\n",
    "count = {}\n",
    "\n",
    "pbar = NotebookPBar(max=len(speeches))\n",
    "\n",
    "# iterate over all speeches\n",
    "for speech in speeches:\n",
    "    \n",
    "    # retrieve the passage from the remote library\n",
    "    cts_passage = speech.getCTS()\n",
    "    \n",
    "    if cts_passage is None:\n",
    "        print(f'Failed to download {speech.urn}')\n",
    "        \n",
    "    else:    \n",
    "        # extract the text and split into words\n",
    "        plaintext = cts_passage.text\n",
    "        n_words = len(plaintext.split())\n",
    "\n",
    "        # tally the word counts for each addressee\n",
    "        for addressee in speech.addr:\n",
    "            name = addressee.name\n",
    "            if name == 'Achilles':\n",
    "                name = 'himself'\n",
    "            count[name] = count.get(name, 0) + n_words\n",
    "        \n",
    "    pbar.update()"
   ]
  },
  {
   "cell_type": "markdown",
   "metadata": {},
   "source": [
    "### Examine the results\n",
    "\n",
    "🤔 Let's see whether it worked!"
   ]
  },
  {
   "cell_type": "code",
   "execution_count": 7,
   "metadata": {},
   "outputs": [
    {
     "name": "stdout",
     "output_type": "stream",
     "text": [
      "Aeneas 161\n",
      "Agamemnon 1206\n",
      "Aias (son of Oileus) 47\n",
      "Aias (son of Telamon) 115\n",
      "Antilochus 47\n",
      "Apollo 48\n",
      "Asteropaeus 125\n",
      "Athena 51\n",
      "Calchas 49\n",
      "Eurybates 84\n",
      "Greeks 426\n",
      "Hector 280\n",
      "Idomeneus 47\n",
      "Iphition 26\n",
      "Iris 71\n",
      "Lycaon 297\n",
      "Myrmidons 110\n",
      "Nestor 45\n",
      "Odysseus 939\n",
      "Patroclus 1087\n",
      "Phoinix 122\n",
      "Priam 596\n",
      "Scamander 30\n",
      "Spercheius 62\n",
      "Talthybius 84\n",
      "Thetis 772\n",
      "Zeus 239\n",
      "himself 319\n",
      "horses 61\n",
      "leaders of the Greeks (Greek soldiers) 199\n"
     ]
    }
   ],
   "source": [
    "for name in sorted(count):\n",
    "    print(name, count[name])"
   ]
  },
  {
   "cell_type": "markdown",
   "metadata": {},
   "source": [
    "### Make a simple graph with pyplot\n",
    "\n",
    "Seems good. Let's visualize it with a simple bar chart."
   ]
  },
  {
   "cell_type": "code",
   "execution_count": 8,
   "metadata": {},
   "outputs": [
    {
     "data": {
      "text/plain": [
       "Text(0.5, 1.0, \"Length of Achilles' speeches\")"
      ]
     },
     "execution_count": 8,
     "metadata": {},
     "output_type": "execute_result"
    },
    {
     "data": {
      "image/png": "[encoded data removed]",
      "text/plain": [
       "<Figure size 576x576 with 1 Axes>"
      ]
     },
     "metadata": {
      "needs_background": "light"
     },
     "output_type": "display_data"
    }
   ],
   "source": [
    "# data for the graph\n",
    "names = sorted(count)\n",
    "y_pos = range(len(names))\n",
    "bars = [count[name] for name in names]\n",
    "\n",
    "# create a new figure\n",
    "fig, ax = pyplot.subplots(figsize=(8, 8))\n",
    "\n",
    "# draw the bars\n",
    "ax.barh(y_pos, bars, align='center')\n",
    "\n",
    "# annotate the graph\n",
    "ax.set_yticks(y_pos)\n",
    "ax.set_yticklabels(names)\n",
    "ax.invert_yaxis()  # labels read top-to-bottom\n",
    "ax.set_xlabel('Number of Words')\n",
    "ax.set_ylabel('Addressee')\n",
    "ax.set_title('Length of Achilles\\' speeches')"
   ]
  }
 ],
 "metadata": {
  "kernelspec": {
   "display_name": "Python 3 (ipykernel)",
   "language": "python",
   "name": "python3"
  },
  "language_info": {
   "codemirror_mode": {
    "name": "ipython",
    "version": 3
   },
   "file_extension": ".py",
   "mimetype": "text/x-python",
   "name": "python",
   "nbconvert_exporter": "python",
   "pygments_lexer": "ipython3",
   "version": "3.7.3"
  }
 },
 "nbformat": 4,
 "nbformat_minor": 4
}
