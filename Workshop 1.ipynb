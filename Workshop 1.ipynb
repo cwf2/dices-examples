{
 "cells": [
  {
   "cell_type": "markdown",
   "id": "23f73db8",
   "metadata": {},
   "source": [
    "# Introduction to the Python DICES client\n",
    "\n",
    "In this first workshop, we’re going to look at how to retrieve and work with DICES data inside a Python script. While the web interface can be helpful for browsing and exploring the data, more complicated tasks are better suited to a script. \n",
    "\n",
    "For example:\n",
    "- when your search has several steps, and you want to make sure they're done in a specific order\n",
    "- when you want to repeat an operation many times and collate the results\n",
    "- when you have to connect information from different sources, like DICES, Perseus, MANTO, etc.\n",
    "\n",
    "## The DICES API\n",
    "\n",
    "You could, if you wanted, examine the machine-oriented version of the database manually using your web-browser. A separate set of URLs provides access to the same data, but without the human-friendly tables, drop-downs and buttons. For example, compare the two pages below. Both represent the same search, for speeches by Jason.\n",
    "\n",
    "- for humans: http://csa20211203-005.uni-rostock.de/app/speeches?spkr_name=Jason\n",
    "- for machines: http://csa20211203-005.uni-rostock.de/api/speeches?spkr_name=Jason\n",
    "\n",
    "The machine-actionable API is provided by Django Web Framework. If you’re interested in working with the API directly or have questions or suggestions about its implementation, please feel free to let us know!\n",
    "\n",
    "\n",
    "## The DICES client\n",
    "\n",
    "Most of the time, working with URLs like the one above and parsing the JSON responses from the server isn’t something you want to have to deal with. The [Python DICES client](https://github.com/cwf2/dices-client) provides a wrapper around the API that lets you make requests and manipulate the results using Python objects.\n",
    "\n",
    "### The database connection\n",
    "\n",
    "The client provides a class, **DicesAPI**, which allows you to manage your connection to the database. This is how you request data; it also lets you specify a custom server, in case you’re running your own mirror of the database. The first part of this tutorial will cover searching the database and manipulating the results.\n",
    "\n",
    "### Records as objects\n",
    "\n",
    "The client provides some basic class definitions that represent the records in the database as objects: speeches, characters, works, etc. Each class comes with properties and methods to help make common tasks straightforward, for example, filtering a collection of speeches based on speaker or language.\n",
    "\n",
    "We’ll look at each of the classes in turn below and cover their specific properties and methods in detail.\n",
    "\n",
    "### Additional modules\n",
    "\n",
    "Beyond the basic mechanisms for querying the database and working with DICES records, we’re continuing to build out a suite of ancillary tools for specialized tasks, often associated with external linked data. For example, the `manto` module provides some basic methods for linking speech data to the MANTO database, while `text` provides shortcuts for downloading the text of the speeches from Perseus and processing them with CLTK. \n",
    "\n",
    "For now, the selection is small, and centred on the tasks that we wanted to do ourselves. We’re very interested to hear from you about potential additions or improvements to existing modules, or suggestions for entire new modules.\n",
    "\n",
    "## Thanks for beta testing!\n",
    "\n",
    "All of these tools are under active development. We expect to discover bugs and inconsistencies as the user base expands, and we’re very grateful to you for helping us in this regard! Our goal is to support your research, and in the process, to make sure that future scholars are able to replicate and expand upon your work.\n",
    "\n",
    "# Getting started\n",
    "\n",
    "<div class=\"alert alert-info\" style=\"margin:2em 1em\">\n",
    "<h3>Installation</h3>\n",
    "\n",
    "<p>The DICES client package lives in a <a href=\"https://github.com/cwf2/dices-client\">GitHub repository</a>. The first time you use it on a new machine, you’ll have to install it. Here’s how to do that from within a Jupyter Notebook (on a Mac or Linux computer):</p>\n",
    "\n",
    "<div style=\"margin:1em\">\n",
    "    <code>!pip install git+https://github.com/cwf2/dices-client</code>\n",
    "</div>\n",
    "\n",
    "</div>\n",
    "\n",
    "## Loading the DICES client\n",
    "\n",
    "In every script that works with DICES, you’ll have to **import** the `DicesAPI` class so you can create a connection to the database. Here, we also import the optional `NotebookPBar`, which lets us draw progress bars in Jupyter."
   ]
  },
  {
   "cell_type": "code",
   "execution_count": 1,
   "id": "6c9f987d",
   "metadata": {},
   "outputs": [],
   "source": [
    "# necessary\n",
    "from dicesapi import DicesAPI\n",
    "\n",
    "# optional\n",
    "from dicesapi.jupyter import NotebookPBar"
   ]
  },
  {
   "cell_type": "markdown",
   "id": "45b41487",
   "metadata": {},
   "source": [
    "### Instantiating a connection to the database\n",
    "\n",
    "Next, create an instance of `DicesAPI`. This is our connection to the database, letting us request data from the server. In this step you can also specify session settings including a custom server URL. I’m specifying a local log file for debugging messages and providing a link to the progress bar class."
   ]
  },
  {
   "cell_type": "code",
   "execution_count": 2,
   "id": "030f5880",
   "metadata": {},
   "outputs": [],
   "source": [
    "api = DicesAPI(\n",
    "    logfile = 'dices.log',\n",
    "    progress_class = NotebookPBar,\n",
    ")"
   ]
  },
  {
   "cell_type": "markdown",
   "id": "490dfb30",
   "metadata": {},
   "source": [
    "## Basic searches\n",
    "\n",
    "Now that we’ve created an instance of the DicesAPI class and assigned it to `api`, this becomes our access point to search functionality.\n",
    "\n",
    "### Works\n",
    "\n",
    "The `getWorks()` method returns a set of `Work` objects matching the specified criteria.\n",
    "\n",
    "**Example**\n",
    "\n",
    "This returns all works by authors named \"Homer\":"
   ]
  },
  {
   "cell_type": "code",
   "execution_count": 3,
   "id": "9b376b15",
   "metadata": {},
   "outputs": [
    {
     "name": "stdout",
     "output_type": "stream",
     "text": [
      "<Work 24: Homeric Hymns>\n",
      "<Work 1: Iliad>\n",
      "<Work 2: Odyssey>\n"
     ]
    }
   ],
   "source": [
    "works = api.getWorks(author_name='Homer')\n",
    "\n",
    "for w in works:\n",
    "    print(w)"
   ]
  },
  {
   "cell_type": "markdown",
   "id": "f5f313ae",
   "metadata": {},
   "source": [
    "### Authors\n",
    "\n",
    "The `getAuthors()` method returns a set of `Author` objects.\n",
    "\n",
    "**Example**\n",
    "\n",
    "This returns all authors named \"Virgil\":"
   ]
  },
  {
   "cell_type": "code",
   "execution_count": 4,
   "id": "e6a616c7",
   "metadata": {},
   "outputs": [
    {
     "name": "stdout",
     "output_type": "stream",
     "text": [
      "<Author 4: Virgil>\n"
     ]
    }
   ],
   "source": [
    "authors = api.getAuthors(name='Virgil')\n",
    "\n",
    "for auth in authors:\n",
    "    print(auth)"
   ]
  },
  {
   "cell_type": "markdown",
   "id": "2a021ddd",
   "metadata": {},
   "source": [
    "### Characters\n",
    "\n",
    "The `getCharacters()` method returns a set of `Character` objects. According to the DICES model, a **Character** represents core attributes of a person, while **Character Instances** are used to represent that person’s manifestations in various contexts.\n",
    "\n",
    "**Example**\n",
    "\n",
    "This returns all characters who are labelled as divine female collectives:"
   ]
  },
  {
   "cell_type": "code",
   "execution_count": 5,
   "id": "f0cbd6ae",
   "metadata": {},
   "outputs": [
    {
     "name": "stdout",
     "output_type": "stream",
     "text": [
      "<Character 387: Fates>\n",
      "<Character 396: Furies>\n",
      "<Character 468: Horae>\n",
      "<Character 663: Naiads>\n"
     ]
    }
   ],
   "source": [
    "chars = api.getCharacters(gender='female', number='collective', being='divine')\n",
    "\n",
    "for c in chars:\n",
    "    print(c)"
   ]
  },
  {
   "cell_type": "markdown",
   "id": "cee3c2b0",
   "metadata": {},
   "source": [
    "### Character Instances\n",
    "\n",
    "The `getInstances()` method returns a set of `CharacterInstance` objects. Each represents a case of that character with a particular context and attributes. For any given character, there should be at least one character instance per text.\n",
    "\n",
    "**Example**\n",
    "\n",
    "This returns all instances of an underlying character called \"Hera\". Depending on the language of the text in which she occurs, the name of the instance may change, but the name of the character is constant."
   ]
  },
  {
   "cell_type": "code",
   "execution_count": 6,
   "id": "44eeedd7",
   "metadata": {},
   "outputs": [
    {
     "name": "stdout",
     "output_type": "stream",
     "text": [
      "<CharacterInstance 15: Hera>\n",
      "<CharacterInstance 264: Hera>\n",
      "<CharacterInstance 1278: Hera>\n",
      "<CharacterInstance 1489: Hera>\n",
      "<CharacterInstance 1581: Hera>\n",
      "<CharacterInstance 1609: Hera>\n",
      "<CharacterInstance 1655: Hera>\n",
      "<CharacterInstance 287: Juno>\n",
      "<CharacterInstance 463: Juno>\n",
      "<CharacterInstance 866: Juno>\n",
      "<CharacterInstance 939: Juno>\n",
      "<CharacterInstance 1153: Juno>\n"
     ]
    }
   ],
   "source": [
    "instances = api.getInstances(char_name='Hera')\n",
    "\n",
    "for inst in instances:\n",
    "    print(inst)"
   ]
  },
  {
   "cell_type": "markdown",
   "id": "7f622c0a",
   "metadata": {},
   "source": [
    "### Speeches\n",
    "\n",
    "The `getSpeeches()` method returns a set of `Speech` objects. This is the interface that we use most frequently, and is therefore most developed.\n",
    "\n",
    "**Example**\n",
    "\n",
    "This returns all speeches addressed to characters named \"Hypsipyle\":"
   ]
  },
  {
   "cell_type": "code",
   "execution_count": 7,
   "id": "be51dd22",
   "metadata": {},
   "outputs": [
    {
     "name": "stdout",
     "output_type": "stream",
     "text": [
      "<Speech 1403: Argonautica 1.836-1.841>\n",
      "<Speech 1406: Argonautica 1.900-1.909>\n",
      "<Speech 3079: Thebaid 4.753-4.771>\n",
      "<Speech 3084: Thebaid 5.20-5.27>\n",
      "<Speech 3086: Thebaid 5.43-5.47>\n",
      "<Speech 3092: Thebaid 5.271-5.284>\n"
     ]
    }
   ],
   "source": [
    "speeches = api.getSpeeches(addr_name='Hypsipyle')\n",
    "\n",
    "for s in speeches:\n",
    "    print(s)"
   ]
  },
  {
   "cell_type": "markdown",
   "id": "e9c78981",
   "metadata": {},
   "source": [
    "If the search is long, you can add a progress bar:"
   ]
  },
  {
   "cell_type": "code",
   "execution_count": 8,
   "id": "d046dd9d",
   "metadata": {},
   "outputs": [
    {
     "data": {
      "application/vnd.jupyter.widget-view+json": {
       "model_id": "746b6d49e9b045f9845e635505308cf5",
       "version_major": 2,
       "version_minor": 0
      },
      "text/plain": [
       "HBox(children=(IntProgress(value=0, bar_style='info', max=673), Label(value='0/673')))"
      ]
     },
     "metadata": {},
     "output_type": "display_data"
    }
   ],
   "source": [
    "speeches = api.getSpeeches(work_title='Odyssey', progress=True)"
   ]
  },
  {
   "cell_type": "markdown",
   "id": "cf46eb6b",
   "metadata": {},
   "source": [
    "### Speech Clusters\n",
    "\n",
    "The `getClusters()` method returns a set of `SpeechCluster` objects.\n",
    "\n",
    "**Example**\n",
    "\n",
    "This returns all speech clusters in works called \"Theogony\":"
   ]
  },
  {
   "cell_type": "code",
   "execution_count": 9,
   "id": "749c37d4",
   "metadata": {},
   "outputs": [
    {
     "name": "stdout",
     "output_type": "stream",
     "text": [
      "<SpeechCluster 15001: Theogony 26 ff.>\n",
      "<SpeechCluster 15002: Theogony 164 ff.>\n",
      "<SpeechCluster 15003: Theogony 543 ff.>\n",
      "<SpeechCluster 15004: Theogony 644 ff.>\n"
     ]
    }
   ],
   "source": [
    "clusters = api.getClusters(work_title='Theogony')\n",
    "\n",
    "for cl in clusters:\n",
    "    print(cl)"
   ]
  },
  {
   "cell_type": "markdown",
   "id": "07ecd9b1",
   "metadata": {},
   "source": [
    "### What can I search for?\n",
    "\n",
    "The list of search parameters currently available can be found in the [Reference](Reference.ipynb#getAuthors()) notebook"
   ]
  },
  {
   "cell_type": "markdown",
   "id": "7a324309",
   "metadata": {},
   "source": [
    "# DICES records as objects\n",
    "\n",
    "The results of any one of these searches will be a set of zero or more records matching your criteria. In Python, the client API represents these records are as custom object classes. Each entity in the datase has a class that represents individual records, and a second class that represents an iterable collection of records, all of the same type. The collection classes all inherit from a generic `DataGroup` class.\n",
    "\n",
    "| entity | single record | list of records |\n",
    "| --- | --- | --- |\n",
    "| author | `Author` | `AuthorGroup` |\n",
    "| work | `Work` | `WorkGroup` |\n",
    "| character | `Character` | `CharacterGroup` |\n",
    "| character instance | `CharacterInstance` | `CharacterInstanceGroup` |\n",
    "| speech | `Speech` | `SpeechGroup` |\n",
    "| speech cluster | `SpeechCluster` | `SpeechClusterGroup` |\n",
    "\n",
    "## Object properties\n",
    "\n",
    "Each class of objects has attributes that you can access. Generally, these are of three kinds:\n",
    " - data from the underlying record, e.g. an author’s name.\n",
    " - methods that can be performed on the object, e.g., generate a URN for a speech\n",
    " - access to related objects, e.g., the set of speeches associated with a given cluster\n",
    "\n",
    "## Objects representing records\n",
    "\n",
    "\n",
    "### Author\n",
    "\n",
    "#### Properties\n",
    "\n",
    "- `id`: a unique identifier for the author\n",
    "- `name`: the author’s name\n",
    "- `wd`: a WikiData ID for the author, if we have it\n",
    "- `urn`: a CITE-complient URN for the author, if we have it\n",
    "\n",
    "#### Examples"
   ]
  },
  {
   "cell_type": "code",
   "execution_count": null,
   "id": "718a6d5d",
   "metadata": {},
   "outputs": [],
   "source": [
    "# get some author records\n",
    "authors = api.getAuthors(work_title='Argonautica')\n",
    "\n",
    "# print the name of each\n",
    "for author in authors:\n",
    "    print(author.name)"
   ]
  },
  {
   "cell_type": "markdown",
   "id": "41323880",
   "metadata": {},
   "source": [
    "### Work\n",
    "\n",
    "#### Properties\n",
    "\n",
    "- `id`: a unique identifier for the work\n",
    "- `title`: the work’s title\n",
    "- `wd`: a WikiData ID for the work, if we have it\n",
    "- `urn`: a CTS URN for the work, if we have it\n",
    "- `author`: link to the `Author` object associated with the work\n",
    "- `lang`: the work’s language—one of `'greek'` or `'latin'`\n",
    "\n",
    "#### Examples"
   ]
  },
  {
   "cell_type": "code",
   "execution_count": null,
   "id": "d615fa6e",
   "metadata": {},
   "outputs": [],
   "source": [
    "# get some author records\n",
    "works = api.getWorks(lang='latin')\n",
    "\n",
    "# print the author name and title of each\n",
    "for work in works:\n",
    "    print(work.author.name + ', ' + work.title)"
   ]
  },
  {
   "cell_type": "markdown",
   "id": "e874ce41",
   "metadata": {},
   "source": [
    "### Character\n",
    "\n",
    "#### Properties\n",
    "- `id`: a unique identifier for the character\n",
    "- `name`: the character’s name\n",
    "- `being`: one of (`'divine'`, `'mortal'`, `'creature'`, `'other'`) [see note 1]\n",
    "- `number`: one of (`'singular'`, `'collective'`)\n",
    "- `gender`: one of (`'male'`, `'female'`, `'x'`, `'none'`) [see note 2]\n",
    "- `wd`: a WikiData ID for the character, if we have one\n",
    "- `manto`: a MANTO ID for the character, if we have one\n",
    "\n",
    "#### Notes\n",
    "\n",
    "1. While humans, monsters, and the Olympian gods are usually straightforward to classify, miscellaneous nymphs and offspring of minor deities can be ambiguous. If you feel that a character is misclassified you find an inconsistency in the scheme, please don't hesitate to let us know.\n",
    "\n",
    "2. The gender `'x'` is used for mixed-gender collectives and characters classed as non-binary, while `'none'` is used for characters where gender is not applicable, generally inanimate objects. If gender is your specialty and you have alternative schemes that might be more useful, please let us know.\n",
    "\n",
    "#### Examples"
   ]
  },
  {
   "cell_type": "code",
   "execution_count": null,
   "id": "86ea6b31",
   "metadata": {},
   "outputs": [],
   "source": [
    "# women who speak second in the odyssey\n",
    "characters = api.getCharacters(work_title='Odyssey', being='mortal', gender='female', speech_part=2)\n",
    "\n",
    "# print the name of each\n",
    "for char in characters:\n",
    "    print(char.name)"
   ]
  },
  {
   "cell_type": "markdown",
   "id": "43e9981b",
   "metadata": {},
   "source": [
    "### Character Instance\n",
    "\n",
    "#### Properties\n",
    "\n",
    "- `id`: a unique identifier for the character instance\n",
    "- `context`: a description of the context in which the instance occurs, defaults to work title\n",
    "- `name`: the name under which the character instance appears in this context [see note 1]\n",
    "- `char`: access to the `Character` of which this is an instance. [2]\n",
    "- `being`: one of (`'divine'`, `'mortal'`, `'creature'`, `'other'`) [1]\n",
    "- `number`: one of (`'singular'`, `'collective'`) [1]\n",
    "- `gender`: one of (`'male'`, `'female'`, `'x'`, `'none'`) [1]\n",
    "- `wd`: the WikiData ID of the underlying characer, if there is one [3]\n",
    "- `manto`: the MANTO ID of the underlying characer, if there is one [3]\n",
    "\n",
    "#### Notes\n",
    "\n",
    "1. The `name`, `being`, `number`, and `gender` properties of an instance may not be the same as those of the underlying character. For example, a character instance may have the name 'Jupiter' while its character has the name 'Zeus'.\n",
    "\n",
    "2. Some character instance records have no associated character. This is the case for a couple of classes of anonymous speakers/addressees. If there is no character, then `char` will be `None`.\n",
    "\n",
    "3. WikiData and MANTO attributes pass through to the underlying character. These will be `None` if there is no character or if the character lacks these attributes.\n",
    "\n",
    "#### Examples"
   ]
  },
  {
   "cell_type": "code",
   "execution_count": null,
   "id": "dc0fb01f",
   "metadata": {},
   "outputs": [],
   "source": [
    "# all instances of the god of war\n",
    "instances = api.getInstances(char_name='Ares')\n",
    "\n",
    "# print the WikiData ID for each (should be same for all),\n",
    "#    plus the name and the context\n",
    "for inst in instances:\n",
    "    print(inst.wd, inst.name, inst.context, sep=\"\\t\")"
   ]
  },
  {
   "cell_type": "markdown",
   "id": "28dde5d5",
   "metadata": {},
   "source": [
    "### Speech Cluster\n",
    "\n",
    "#### Properties\n",
    "\n",
    "- `id`: a unique identifier for the speech cluster\n",
    "\n",
    "#### Methods\n",
    "\n",
    "- `getSpeeches()`: Returns all speeches in this cluster as a `SpeechGroup`\n",
    "- `getFirstSpeech()`: Returns only the first speech, as a `Speech`\n",
    "\n",
    "#### Notes\n",
    "\n",
    "1. `getSpeeches()` and `getFirstSpeech()` perform an API query in the background\n",
    "\n",
    "#### Examples\n"
   ]
  },
  {
   "cell_type": "code",
   "execution_count": null,
   "id": "6ba988a2",
   "metadata": {},
   "outputs": [],
   "source": [
    "# all conversations in the Aeneid in which Ascanius gets to speak\n",
    "clusters = api.getClusters(spkr_name='Ascanius')\n",
    "\n",
    "# list all speeches in each conversation,\n",
    "#     giving lines and first speaker of each\n",
    "for cl in clusters:\n",
    "    print(cl)\n",
    "    for s in cl.getSpeeches():\n",
    "        print(s.l_range, s.spkr[0].name, sep=\"\\t\")\n",
    "    print()"
   ]
  },
  {
   "cell_type": "markdown",
   "id": "93186a64",
   "metadata": {},
   "source": [
    "### Speech\n",
    "\n",
    "#### Properties\n",
    "\n",
    "- `id`: a unique identifier for the speech\n",
    "- `cluster`: access to the `SpeechCluster` object to which this speech belongs\n",
    "- `seq`: an integer that can be used for ordering all the speeches in a given work\n",
    "- `l_fi`: the locus of the passage's first line, as a string\n",
    "- `l_la`: the locus of the passage's last line, as a string\n",
    "- `l_range`: the range of loci covered by the passage; equivalent to joining `l_fi`, `l_la` with a `'-'`\n",
    "- `spkr`: a list of `CharacterInstance` objects representing the speaker(s)\n",
    "- `addr`: a list of `CharacterInstance` objects representing the addressee(s)\n",
    "- `part`: which turn this speech fills in the conversation, as an integer\n",
    "- `type`: one of (`'soliloquy'`, `'monologue'`, `'dialogue'`, `'general'`)\n",
    "- `work`: access to the `Work` object associated with this speech\n",
    "- `author`: access to the `Author` object associated with this speech\n",
    "- `lang`: one of (`'greek'`, `'latin'`)\n",
    "- `urn`: the CTS URN representing the passage\n",
    "\n",
    "#### Methods\n",
    "\n",
    "- `getCTS()`: download the passage from Perseus. [Deprecated: this functionality is moving to `dicesapi.text.cts`]\n",
    "\n",
    "#### Examples"
   ]
  },
  {
   "cell_type": "code",
   "execution_count": null,
   "id": "71f4a2f9",
   "metadata": {},
   "outputs": [],
   "source": [
    "# all the speeches in the Iliad where Aphrodite is addressed\n",
    "speeches = api.getSpeeches(addr_name='Aphrodite', work_title='Iliad')\n",
    "\n",
    "# print the full locus for each speech, \n",
    "#     with names of the speaker(s) and addressee(s)\n",
    "for s in speeches:\n",
    "    print(s.work.title, s.l_range, [inst.name for inst in s.spkr], [inst.name for inst in s.addr])"
   ]
  },
  {
   "cell_type": "markdown",
   "id": "a4f043ba",
   "metadata": {},
   "source": [
    "## Objects representing collections of records\n",
    "\n",
    "All of these inherit from the parent class `DataGroup`. They're mostly intended to be iterated over, but each has specific `filter*` methods to extract a subset of the member objects based on their properties, and a set of `get*` methods to extract specific properties from the member objects.\n",
    "\n",
    "### Examples\n",
    "\n",
    "#### Iterating over a DataGroup:"
   ]
  },
  {
   "cell_type": "code",
   "execution_count": null,
   "id": "e609043e",
   "metadata": {},
   "outputs": [],
   "source": [
    "# download two sets of speeches to thetis\n",
    "group_a = api.getSpeeches(addr_name='Thetis', work_title='Iliad')\n",
    "group_b = api.getSpeeches(addr_name='Thetis', work_title='Achilleid')\n",
    "\n",
    "print(len(group_a), 'speeches in the Iliad:')\n",
    "for s in group_a:\n",
    "    print(s)\n",
    "print()\n",
    "    \n",
    "print(len(group_b), 'speeches in the Achilleid')\n",
    "for s in group_b:\n",
    "    print(s)\n",
    "print()"
   ]
  },
  {
   "cell_type": "markdown",
   "id": "6297504a",
   "metadata": {},
   "source": [
    "#### Adding"
   ]
  },
  {
   "cell_type": "code",
   "execution_count": null,
   "id": "8bcdd8e6",
   "metadata": {},
   "outputs": [],
   "source": [
    "# combine the two speech groups\n",
    "combined = group_a + group_b\n",
    "print(len(combined), 'speeches combined:')\n",
    "for s in combined:\n",
    "    print(s)"
   ]
  },
  {
   "cell_type": "markdown",
   "id": "b973cd01",
   "metadata": {},
   "source": [
    "#### Subtracting"
   ]
  },
  {
   "cell_type": "code",
   "execution_count": null,
   "id": "f16aff04",
   "metadata": {},
   "outputs": [],
   "source": [
    "group_c = api.getSpeeches(addr_name='Thetis')\n",
    "print(len(group_c), 'speeches in the whole corpus')\n",
    "\n",
    "all_but_homer = group_c - group_a\n",
    "print(len(all_but_homer), 'excluding the iliad:')\n",
    "\n",
    "for s in all_but_homer:\n",
    "    print(s)"
   ]
  },
  {
   "cell_type": "code",
   "execution_count": null,
   "id": "4f953551",
   "metadata": {},
   "outputs": [],
   "source": [
    "# download speeches with Achilles as speaker\n",
    "group_a = api.getSpeeches(spkr_name='Achilles', work_title='Iliad')\n",
    "group_b = api.getSpeeches(addr_name='Thetis', work_title='Iliad')\n",
    "\n",
    "# find intersection with those having Thetis as addressee\n",
    "for s in group_a.intersect(group_b):\n",
    "    print(s)"
   ]
  },
  {
   "cell_type": "markdown",
   "id": "8226bfc9",
   "metadata": {},
   "source": [
    "#### Sorting"
   ]
  },
  {
   "cell_type": "code",
   "execution_count": null,
   "id": "12817345",
   "metadata": {},
   "outputs": [],
   "source": [
    "for s in sorted(thetis_all, key=lambda s: s.spkr[0]):\n",
    "    print(s.spkr[0].name, s)"
   ]
  },
  {
   "cell_type": "markdown",
   "id": "cb782f35",
   "metadata": {},
   "source": [
    "### AuthorGroup\n",
    "\n",
    "#### Methods\n",
    "\n",
    "- `getIDs()`: returns a list author ids\n",
    "- `getNames()`: returns a list of author names\n",
    "- `getWDs()`: returns a list of author wikidata ids\n",
    "- `getUrns()`: returns a list of author CITE URNs\n",
    "- `filterNames(list)`: returns an `AuthorGroup` containing only members whose `name` attributes match values in `list`\n",
    "- `filterIDs(list)`: returns an `AuthorGroup` containing only members whose `id` attributes match values in `list`\n",
    "- `filterWDs(list)`: returns an `AuthorGroup` containing only members whose `wd` attributes match values in `list`\n",
    "- `filterUrns(list)`: returns an `AuthorGroup` containing only members whose `urn` attributes match values in `list`\n",
    "\n",
    "### WorkGroup\n",
    "\n",
    "#### Methods\n",
    "\n",
    "- `getIDs()`: returns a list of work ids\n",
    "- `getTitles()`: returns a list of work titles\n",
    "- `getWDs()`: returns a list of work wikidata ids\n",
    "- `getUrns()`: returns a list of work CTS URNs\n",
    "- `getLangs()`: returns a list of work languages\n",
    "- `getAuthors(flatten=False)`: returns a list of `Author` objects, one per member work. This includes duplicates if multiple works have the same author. Passing the optional `flatten=True` will remove duplicates and return an `AuthorGroup`. \n",
    "- `filterIDs(list)`: returns a `WorkGroup` containing only members whose `id` attributes match values in `list`\n",
    "- `filterTitles(list)`: returns a `WorkGroup` containing only members whose `title` attributes match values in `list`\n",
    "\n",
    "- `filterWDs(list)`: returns a `WorkGroup` containing only members whose `wd` attributes match values in `list`\n",
    "- `filterUrns(list)`: returns a `WorkGroup` containing only members whose `urn` attributes match values in `list`\n",
    "- `filterAuthors(list)`: returns a `WorkGroup` containing only members whose `author` attributes are found in `list`. Accepts an `AuthorGroup` as well as list.\n",
    "- `filterLangs(list)`: returns a `WorkGroup` containing only members whose `lang` attributes match values in `list`\n",
    "\n",
    "### CharacterGroup\n",
    "\n",
    "#### Methods\n",
    "\n",
    "- `getIDs()`: Returns a list of character ids\n",
    "- `getNames()`: Returns a list of character names\n",
    "- `getBeings()`: Returns a list of character `being`s\n",
    "- `getNumbers()`: Returns a list of character `number`s\n",
    "- `getWDs()`: Returns a list of character WikiData IDs\n",
    "- `getMantos()`: Returns a list of character MANTO IDs\n",
    "- `getGenders()`: Returns a list of character genders\n",
    "- `filterIDs(list)`: returns a `CharacterGroup` containing only members whose `id` attributes match values in `list`\n",
    "- `filterNames(list)`: returns a `CharacterGroup` containing only members whose `name` attributes match values in `list`\n",
    "- `filterBeings(list)`: returns a `CharacterGroup` containing only members whose `being` attributes match values in `list`\n",
    "- `filterNumber(list)`: returns a `CharacterGroup` containing only members whose `number` attributes match values in `list`\n",
    "- `filterGenders(list)`: returns a `CharacterGroup` containing only members whose `gender` attributes match values in `list`\n",
    "- `filterWDs(list)`: returns a `CharacterGroup` containing only members whose `wd` attributes match values in `list`\n",
    "- `filterMantos(list)`: returns a `CharacterGroup` containing only members whose `manto` attributes match values in `list`\n",
    "\n",
    "### CharacterInstanceGroup\n",
    "\n",
    "#### Methods\n",
    "\n",
    "- `getIDs()`: Returns a list of character instance ids\n",
    "- `getNames()`: Returns a list of character instance names\n",
    "- `getContexts()`: Returns a list of character instance contexts\n",
    "- `getBeings()`: Returns a list of character instance `being`s\n",
    "- `getNumbers()`: Returns a list of character instance `number`s\n",
    "- `getGenders()`: Returns a list of character instance genders\n",
    "- `getChars(flatten=False)`: Returns a list of underlying `Character` objects, one per memeber instance. Passing `flatten=True` will remove duplicates and return a CharacterGroup.\n",
    "- `filterIDs(list)`: returns a `CharacterInstanceGroup` containing only members whose `id` attributes match values in `list`\n",
    "- `filterNames(list)`: returns a `CharacterInstanceGroup` containing only members whose `name` attributes match values in `list`\n",
    "- `filterContexts(list)`: returns a `CharacterInstanceGroup` containing only members whose `context` attributes match values in `list`\n",
    "- `filterChars(list)`: returns a `CharacterInstanceGroup` containing only members whose `char` attributes match `Character`s in `list`. Can be passed a `CharacterGroup` instead of a list.\n",
    "\n",
    "- `filterBeings(list)`: returns a `CharacterInstanceGroup` containing only members whose `being` attributes match values in `list`\n",
    "- `filterNumber(list)`: returns a `CharacterInstanceGroup` containing only members whose `number` attributes match values in `list`\n",
    "- `filterGenders(list)`: returns a `CharacterInstanceGroup` containing only members whose `gender` attributes match values in `list`\n",
    "\n",
    "### SpeechClusterGroup\n",
    "\n",
    "#### Methods\n",
    "\n",
    "- `getIDs()`: Returns a list of speech cluster ids\n",
    "- `filterIDs(list)`: returns a `SpeechClusterGroup` containing only members whose `id` attributes match values in `list`\n",
    "\n",
    "### SpeechGroup\n",
    "\n",
    "#### Methods\n",
    "\n",
    "- `getIDs()`: Returns a list of speech ids\n",
    "- `getClusters(flatten=False)`: Returns a list of `SpeechCluster` objects, one per member speech. Passing `flatten=True` will return a `SpeechClusterGroup` instead, with duplicate entries removed.\n",
    "- `getSeqs()`: Returns a list of member speech `seq` values\n",
    "- `getL_fis()`: Returns a list of member speech `l_fi` values\n",
    "- `getL_las()`: Returns a list of member speech `l_la` values\n",
    "- `getSpkrs(flatten=False)`: Returns a list of member speech `spkr` values. Note that each element will itself be a list, since `Speech.spkr` is a list of character instances. Passing `flatten=False` will return a single `CharacterInstanceGroup` instead, with duplicate instances removed.\n",
    "- `getAddrs(flatten=False)`: Returns a list of member speech `addr` values. As for `getSpkrs()`, passing `flatten=False` will return a single `CharacterInstanceGroup` instead of a list of lists.\n",
    "- `getParts()`: Returns a list of member speech `part` values\n",
    "- `getTypes()`: Returns a list of member speech `type` values\n",
    "- `getWorks(flatten=False)`: Returns a list of `Work` objects, one per member speech. Passing `flatten=True` will return a `WorkGroup` instead, with duplicate works removed.\n",
    "- `filterIDs(list)`: Returns a `SpeechGroup` containing only members whose `id` attributes match values in `list`\n",
    "- `filterClusters(list)`: Returns a `SpeechGroup` containing only members whose `cluster` attributes match `Cluster` objects in `list`. Also accepts a `ClusterGroup` instead of a list.\n",
    "- `filterSeqs(list)`: Returns a `SpeechGroup` containing only members whose `seq` attributes match values in `list`\n",
    "- `filterL_fis(list)`: Returns a `SpeechGroup` containing only members whose `l_fi` attributes match values in `list`\n",
    "- `filterL_las(list)`: Returns a `SpeechGroup` containing only members whose `l_la` attributes match values in `list`\n",
    "- `filterSpkrInstances(list)`: Returns a `SpeechGroup` containing only members whose `spkr` list contains at least one `CharacterInstance` found in `list` [see note 1]\n",
    "- `filterSpkrs(list)`: Returns a `SpeechGroup` containing only members whose `spkr` list contains at least one  `CharacterInstance` whose `Character` is found in `list` [1]\n",
    "- `filterAddrInstances(list)`: Returns a `SpeechGroup` containing only members whose `addr` list contains at least one `CharacterInstance` found in `list` [1]\n",
    "- `filterAddrs(list)`: Returns a `SpeechGroup` containing only members whose `addr` list contains at least one  `CharacterInstance` whose `Character` is found in `list` [1]\n",
    "- `filterParts(list)`: Returns a `SpeechGroup` containing only members whose `part` attributes match values in `list`\n",
    "- `filterTypes(list)`: Returns a `SpeechGroup` containing only members whose `type` attributes match values in `list`\n",
    "- `filterWorks(list)`: Returns a `SpeechGroup` containing only members whose `work` attributes match `Work` objects in `list`. Also accepts a `WorkGroup` instead of a list.\n",
    "\n",
    "#### Notes\n",
    "\n",
    "1. `filterSpkrInstances()`, `filterSpkrs()`, `filterAddrInstances()`, and `filterAddrs()` are slated for refactoring.... these methods' names may change."
   ]
  },
  {
   "cell_type": "code",
   "execution_count": null,
   "id": "f5a91bc3",
   "metadata": {},
   "outputs": [],
   "source": []
  }
 ],
 "metadata": {
  "kernelspec": {
   "display_name": "Python 3 (ipykernel)",
   "language": "python",
   "name": "python3"
  },
  "language_info": {
   "codemirror_mode": {
    "name": "ipython",
    "version": 3
   },
   "file_extension": ".py",
   "mimetype": "text/x-python",
   "name": "python",
   "nbconvert_exporter": "python",
   "pygments_lexer": "ipython3",
   "version": "3.7.3"
  }
 },
 "nbformat": 4,
 "nbformat_minor": 5
}
