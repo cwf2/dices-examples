{
 "cells": [
  {
   "cell_type": "markdown",
   "id": "23f73db8",
   "metadata": {},
   "source": [
    "# Introduction to the Python DICES client\n",
    "\n",
    "In this first workshop, we’re going to look at how to retrieve and work with DICES data inside a Python script. While the web interface can be helpful for browsing and exploring the data, more complicated tasks are better suited to a script. \n",
    "\n",
    "For example:\n",
    "- when your search has several steps, and you want to make sure they're done in a specific order\n",
    "- when you want to repeat an operation many times and collate the results\n",
    "- when you have to connect information from different sources, like DICES, Perseus, MANTO, etc.\n",
    "\n",
    "## The DICES API\n",
    "\n",
    "You could, if you wanted, examine the machine-oriented version of the database manually using your web-browser. A separate set of URLs provides access to the same data, but without the human-friendly tables, drop-downs and buttons. For example, compare the two pages below. Both represent the same search, for speeches by Jason.\n",
    "\n",
    "- for humans: http://csa20211203-005.uni-rostock.de/app/speeches?spkr_name=Jason\n",
    "- for machines: http://csa20211203-005.uni-rostock.de/api/speeches?spkr_name=Jason\n",
    "\n",
    "The machine-actionable API is provided by Django Web Framework. If you’re interested in working with the API directly or have questions or suggestions about its implementation, please feel free to let us know!\n",
    "\n",
    "\n",
    "## The DICES client\n",
    "\n",
    "Most of the time, working with URLs like the one above and parsing the JSON responses from the server isn’t something you want to have to deal with. The [Python DICES client](https://github.com/cwf2/dices-client) provides a wrapper around the API that lets you make requests and manipulate the results using Python objects.\n",
    "\n",
    "### The database connection\n",
    "\n",
    "The client provides a class, **DicesAPI**, which allows you to manage your connection to the database. This is how you request data; it also lets you specify a custom server, in case you’re running your own mirror of the database. The first part of this tutorial will cover searching the database and manipulating the results.\n",
    "\n",
    "### Records as objects\n",
    "\n",
    "The client provides some basic class definitions that represent the records in the database as objects: speeches, characters, works, etc. Each class comes with properties and methods to help make common tasks straightforward, for example, filtering a collection of speeches based on speaker or language.\n",
    "\n",
    "We’ll look at each of the classes in turn below and cover their specific properties and methods in detail.\n",
    "\n",
    "### Additional modules\n",
    "\n",
    "Beyond the basic mechanisms for querying the database and working with DICES records, we’re continuing to build out a suite of ancillary tools for specialized tasks, often associated with external linked data. For example, the `manto` module provides some basic methods for linking speech data to the MANTO database, while `text` provides shortcuts for downloading the text of the speeches from Perseus and processing them with CLTK. \n",
    "\n",
    "For now, the selection is small, and centred on the tasks that we wanted to do ourselves. We’re very interested to hear from you about potential additions or improvements to existing modules, or suggestions for entire new modules.\n",
    "\n",
    "## Thanks for beta testing!\n",
    "\n",
    "All of these tools are under active development. We expect to discover bugs and inconsistencies as the user base expands, and we’re very grateful to you for helping us in this regard! Our goal is to support your research, and in the process, to make sure that future scholars are able to replicate and expand upon your work.\n",
    "\n",
    "# Getting started\n",
    "\n",
    "<div class=\"alert alert-info\" style=\"margin:2em 1em\">\n",
    "<h3>Installation</h3>\n",
    "\n",
    "<p>The DICES client package lives in a <a href=\"https://github.com/cwf2/dices-client\">GitHub repository</a>. The first time you use it on a new machine, you’ll have to install it. Here’s how to do that from within a Jupyter Notebook (on a Mac or Linux computer):</p>\n",
    "\n",
    "<div style=\"margin:1em\">\n",
    "    <code>!pip install git+https://github.com/cwf2/dices-client</code>\n",
    "</div>\n",
    "\n",
    "</div>\n",
    "\n",
    "## Loading the DICES client\n",
    "\n",
    "In every script that works with DICES, you’ll have to **import** the `DicesAPI` class so you can create a connection to the database. Here, we also import the optional `NotebookPBar`, which lets us draw progress bars in Jupyter."
   ]
  },
  {
   "cell_type": "code",
   "execution_count": 1,
   "id": "6c9f987d",
   "metadata": {},
   "outputs": [],
   "source": [
    "# necessary\n",
    "from dicesapi import DicesAPI\n",
    "\n",
    "# optional\n",
    "from dicesapi.jupyter import NotebookPBar"
   ]
  },
  {
   "cell_type": "markdown",
   "id": "45b41487",
   "metadata": {},
   "source": [
    "### Instantiating a connection to the database\n",
    "\n",
    "Next, create an instance of `DicesAPI`. This is our connection to the database, letting us request data from the server. In this step you can also specify session settings including a custom server URL. I’m specifying a local log file for debugging messages and providing a link to the progress bar class."
   ]
  },
  {
   "cell_type": "code",
   "execution_count": 2,
   "id": "030f5880",
   "metadata": {},
   "outputs": [],
   "source": [
    "api = DicesAPI(\n",
    "    logfile = 'dices.log',\n",
    "    progress_class = NotebookPBar,\n",
    ")"
   ]
  },
  {
   "cell_type": "markdown",
   "id": "490dfb30",
   "metadata": {},
   "source": [
    "## Basic searches\n",
    "\n",
    "Now that we’ve created an instance of the DicesAPI class and assigned it to `api`, this becomes our access point to search functionality.\n",
    "\n",
    "### Works\n",
    "\n",
    "The `getWorks()` method returns a set of `Work` objects matching the specified criteria.\n",
    "\n",
    "**Example**\n",
    "\n",
    "This returns all works by authors named \"Homer\":"
   ]
  },
  {
   "cell_type": "code",
   "execution_count": 3,
   "id": "9b376b15",
   "metadata": {},
   "outputs": [
    {
     "name": "stdout",
     "output_type": "stream",
     "text": [
      "<Work 24: Homeric Hymns>\n",
      "<Work 1: Iliad>\n",
      "<Work 2: Odyssey>\n"
     ]
    }
   ],
   "source": [
    "works = api.getWorks(author_name='Homer')\n",
    "\n",
    "for w in works:\n",
    "    print(w)"
   ]
  },
  {
   "cell_type": "markdown",
   "id": "f5f313ae",
   "metadata": {},
   "source": [
    "### Authors\n",
    "\n",
    "The `getAuthors()` method returns a set of `Author` objects.\n",
    "\n",
    "**Example**\n",
    "\n",
    "This returns all authors named \"Virgil\":"
   ]
  },
  {
   "cell_type": "code",
   "execution_count": 4,
   "id": "e6a616c7",
   "metadata": {},
   "outputs": [
    {
     "name": "stdout",
     "output_type": "stream",
     "text": [
      "<Author 4: Virgil>\n"
     ]
    }
   ],
   "source": [
    "authors = api.getAuthors(name='Virgil')\n",
    "\n",
    "for auth in authors:\n",
    "    print(auth)"
   ]
  },
  {
   "cell_type": "markdown",
   "id": "2a021ddd",
   "metadata": {},
   "source": [
    "### Characters\n",
    "\n",
    "The `getCharacters()` method returns a set of `Character` objects. According to the DICES model, a **Character** represents core attributes of a person, while **Character Instances** are used to represent that person’s manifestations in various contexts.\n",
    "\n",
    "**Example**\n",
    "\n",
    "This returns all characters who are labelled as divine female collectives:"
   ]
  },
  {
   "cell_type": "code",
   "execution_count": 5,
   "id": "f0cbd6ae",
   "metadata": {},
   "outputs": [
    {
     "name": "stdout",
     "output_type": "stream",
     "text": [
      "<Character 387: Fates>\n",
      "<Character 396: Furies>\n",
      "<Character 468: Horae>\n",
      "<Character 663: Naiads>\n"
     ]
    }
   ],
   "source": [
    "chars = api.getCharacters(gender='female', number='collective', being='divine')\n",
    "\n",
    "for c in chars:\n",
    "    print(c)"
   ]
  },
  {
   "cell_type": "markdown",
   "id": "cee3c2b0",
   "metadata": {},
   "source": [
    "### Character Instances\n",
    "\n",
    "The `getInstances()` method returns a set of `CharacterInstance` objects. Each represents a case of that character with a particular context and attributes. For any given character, there should be at least one character instance per text.\n",
    "\n",
    "**Example**\n",
    "\n",
    "This returns all instances of an underlying character called \"Hera\". Depending on the language of the text in which she occurs, the name of the instance may change, but the name of the character is constant."
   ]
  },
  {
   "cell_type": "code",
   "execution_count": 6,
   "id": "44eeedd7",
   "metadata": {},
   "outputs": [
    {
     "name": "stdout",
     "output_type": "stream",
     "text": [
      "<CharacterInstance 15: Hera>\n",
      "<CharacterInstance 264: Hera>\n",
      "<CharacterInstance 1278: Hera>\n",
      "<CharacterInstance 1489: Hera>\n",
      "<CharacterInstance 1581: Hera>\n",
      "<CharacterInstance 1609: Hera>\n",
      "<CharacterInstance 1655: Hera>\n",
      "<CharacterInstance 287: Juno>\n",
      "<CharacterInstance 463: Juno>\n",
      "<CharacterInstance 866: Juno>\n",
      "<CharacterInstance 939: Juno>\n",
      "<CharacterInstance 1153: Juno>\n"
     ]
    }
   ],
   "source": [
    "instances = api.getInstances(char_name='Hera')\n",
    "\n",
    "for inst in instances:\n",
    "    print(inst)"
   ]
  },
  {
   "cell_type": "markdown",
   "id": "7f622c0a",
   "metadata": {},
   "source": [
    "### Speeches\n",
    "\n",
    "The `getSpeeches()` method returns a set of `Speech` objects. This is the interface that we use most frequently, and is therefore most developed.\n",
    "\n",
    "**Example**\n",
    "\n",
    "This returns all speeches addressed to characters named \"Hypsipyle\":"
   ]
  },
  {
   "cell_type": "code",
   "execution_count": 7,
   "id": "be51dd22",
   "metadata": {},
   "outputs": [
    {
     "name": "stdout",
     "output_type": "stream",
     "text": [
      "<Speech 1403: Argonautica 1.836-1.841>\n",
      "<Speech 1406: Argonautica 1.900-1.909>\n",
      "<Speech 3079: Thebaid 4.753-4.771>\n",
      "<Speech 3084: Thebaid 5.20-5.27>\n",
      "<Speech 3086: Thebaid 5.43-5.47>\n",
      "<Speech 3092: Thebaid 5.271-5.284>\n"
     ]
    }
   ],
   "source": [
    "speeches = api.getSpeeches(addr_name='Hypsipyle')\n",
    "\n",
    "for s in speeches:\n",
    "    print(s)"
   ]
  },
  {
   "cell_type": "markdown",
   "id": "e9c78981",
   "metadata": {},
   "source": [
    "If the search is long, you can add a progress bar:"
   ]
  },
  {
   "cell_type": "code",
   "execution_count": 8,
   "id": "d046dd9d",
   "metadata": {},
   "outputs": [
    {
     "data": {
      "application/vnd.jupyter.widget-view+json": {
       "model_id": "746b6d49e9b045f9845e635505308cf5",
       "version_major": 2,
       "version_minor": 0
      },
      "text/plain": [
       "HBox(children=(IntProgress(value=0, bar_style='info', max=673), Label(value='0/673')))"
      ]
     },
     "metadata": {},
     "output_type": "display_data"
    }
   ],
   "source": [
    "speeches = api.getSpeeches(work_title='Odyssey', progress=True)"
   ]
  },
  {
   "cell_type": "markdown",
   "id": "cf46eb6b",
   "metadata": {},
   "source": [
    "### Speech Clusters\n",
    "\n",
    "The `getClusters()` method returns a set of `SpeechCluster` objects.\n",
    "\n",
    "**Example**\n",
    "\n",
    "This returns all speech clusters in works called \"Theogony\":"
   ]
  },
  {
   "cell_type": "code",
   "execution_count": 9,
   "id": "749c37d4",
   "metadata": {},
   "outputs": [
    {
     "name": "stdout",
     "output_type": "stream",
     "text": [
      "<SpeechCluster 15001: Theogony 26 ff.>\n",
      "<SpeechCluster 15002: Theogony 164 ff.>\n",
      "<SpeechCluster 15003: Theogony 543 ff.>\n",
      "<SpeechCluster 15004: Theogony 644 ff.>\n"
     ]
    }
   ],
   "source": [
    "clusters = api.getClusters(work_title='Theogony')\n",
    "\n",
    "for cl in clusters:\n",
    "    print(cl)"
   ]
  },
  {
   "cell_type": "markdown",
   "id": "9d35a3e1",
   "metadata": {},
   "source": [
    "### What can I search for?\n",
    "\n",
    "The list of arguments currently available for each search method can be found in the [Reference](Reference.ipynb) notebook in this repository. This is an area of active development, so please let us know if there's something you'd like to be able to search for and can't.\n",
    "\n",
    "### Hands-on approach\n",
    "\n",
    "If you work better with all your options laid out before you, the API offers a visual representation of the search parameters. Point your browser to one of the following URLs and click the \"Filters\" button to see all searchable fields.\n",
    "\n",
    "- authors: http://csa20211203-005.uni-rostock.de/api/authors/\n",
    "- works: http://csa20211203-005.uni-rostock.de/api/works/\n",
    "- characters: http://csa20211203-005.uni-rostock.de/api/characters/\n",
    "- character instances: http://csa20211203-005.uni-rostock.de/api/instances/\n",
    "- speeches: http://csa20211203-005.uni-rostock.de/api/speeches/\n",
    "- speech clusters: http://csa20211203-005.uni-rostock.de/api/clusters/\n",
    "\n",
    "#### Note\n",
    "\n",
    "- These web forms linked above are automatically generated from the API model for debugging purposes, so some of the field names may not be human-friendly."
   ]
  },
  {
   "cell_type": "markdown",
   "id": "7a324309",
   "metadata": {},
   "source": [
    "# DICES records as objects\n",
    "\n",
    "The results of any one of these searches will be a set of zero or more records matching your criteria. In Python, the client API represents these records are as custom object classes. Each entity in the datase has a class that represents individual records, and a second class that represents an iterable collection of records, all of the same type. The collection classes all inherit from a generic `DataGroup` class.\n",
    "\n",
    "| entity | single record | list of records |\n",
    "| --- | --- | --- |\n",
    "| author | `Author` | `AuthorGroup` |\n",
    "| work | `Work` | `WorkGroup` |\n",
    "| character | `Character` | `CharacterGroup` |\n",
    "| character instance | `CharacterInstance` | `CharacterInstanceGroup` |\n",
    "| speech | `Speech` | `SpeechGroup` |\n",
    "| speech cluster | `SpeechCluster` | `SpeechClusterGroup` |\n",
    "\n",
    "## Object properties\n",
    "\n",
    "Each class of objects has attributes that you can access. Generally, these are of three kinds:\n",
    " - data from the underlying record, e.g. an author’s name.\n",
    " - methods that can be performed on the object, e.g., generate a URN for a speech\n",
    " - access to related objects, e.g., the set of speeches associated with a given cluster\n",
    "\n",
    "## Objects representing records\n",
    "\n",
    "\n",
    "### Author\n",
    "\n",
    "#### Properties\n",
    "\n",
    "- `id`: a unique identifier for the author\n",
    "- `name`: the author’s name\n",
    "- `wd`: a WikiData ID for the author, if we have it\n",
    "- `urn`: a CITE-complient URN for the author, if we have it\n",
    "\n",
    "#### Examples"
   ]
  },
  {
   "cell_type": "code",
   "execution_count": 11,
   "id": "718a6d5d",
   "metadata": {},
   "outputs": [
    {
     "name": "stdout",
     "output_type": "stream",
     "text": [
      "Apollonius\n",
      "Valerius Flaccus\n"
     ]
    }
   ],
   "source": [
    "# get some author records\n",
    "authors = api.getAuthors(work_title='Argonautica')\n",
    "\n",
    "# print the name of each\n",
    "for author in authors:\n",
    "    print(author.name)"
   ]
  },
  {
   "cell_type": "markdown",
   "id": "41323880",
   "metadata": {},
   "source": [
    "### Work\n",
    "\n",
    "#### Properties\n",
    "\n",
    "- `id`: a unique identifier for the work\n",
    "- `title`: the work’s title\n",
    "- `wd`: a WikiData ID for the work, if we have it\n",
    "- `urn`: a CTS URN for the work, if we have it\n",
    "- `author`: link to the `Author` object associated with the work\n",
    "- `lang`: the work’s language—one of `'greek'` or `'latin'`\n",
    "\n",
    "#### Examples"
   ]
  },
  {
   "cell_type": "code",
   "execution_count": 12,
   "id": "d615fa6e",
   "metadata": {},
   "outputs": [
    {
     "name": "stdout",
     "output_type": "stream",
     "text": [
      "Lucan, Civil War\n",
      "Ovid, Metamorphoses\n",
      "Silius, Punica\n",
      "Statius, Achilleid\n",
      "Statius, Thebaid\n",
      "Valerius Flaccus, Argonautica\n",
      "Virgil, Aeneid\n"
     ]
    }
   ],
   "source": [
    "# get some author records\n",
    "works = api.getWorks(lang='latin')\n",
    "\n",
    "# print the author name and title of each\n",
    "for work in works:\n",
    "    print(work.author.name + ', ' + work.title)"
   ]
  },
  {
   "cell_type": "markdown",
   "id": "e874ce41",
   "metadata": {},
   "source": [
    "### Character\n",
    "\n",
    "Character records are supposed to represent the (more or less) constant or transcendent aspects of a person, as opposed to ephemeral attributes which change with context. In practice, this is a pretty subjective determination.\n",
    "\n",
    "#### Properties\n",
    "- `id`: a unique identifier for the character\n",
    "- `name`: the character’s name\n",
    "- `being`: one of (`'divine'`, `'mortal'`, `'creature'`, `'other'`) [see note 1]\n",
    "- `number`: one of (`'singular'`, `'collective'`)\n",
    "- `gender`: one of (`'male'`, `'female'`, `'x'`, `'none'`) [see note 2]\n",
    "- `wd`: a WikiData ID for the character, if we have one\n",
    "- `manto`: a MANTO ID for the character, if we have one\n",
    "\n",
    "#### Notes\n",
    "\n",
    "1. While humans, monsters, and the Olympian gods are usually straightforward to classify, miscellaneous nymphs and offspring of minor deities can be ambiguous. If you feel that a character is misclassified you find an inconsistency in the scheme, please don't hesitate to let us know.\n",
    "\n",
    "2. The gender `'x'` is used for mixed-gender collectives and characters classed as non-binary, while `'none'` is used for characters where gender is not applicable, generally inanimate objects. If gender is your specialty and you have alternative schemes that might be more useful, please let us know.\n",
    "\n",
    "#### Examples"
   ]
  },
  {
   "cell_type": "code",
   "execution_count": 13,
   "id": "86ea6b31",
   "metadata": {},
   "outputs": [
    {
     "name": "stdout",
     "output_type": "stream",
     "text": [
      "Euryclea\n",
      "Eurynome\n",
      "Helena\n",
      "Melantho\n",
      "Nausicaa\n",
      "Penelope\n"
     ]
    }
   ],
   "source": [
    "# women who speak second in the odyssey\n",
    "characters = api.getCharacters(work_title='Odyssey', being='mortal', gender='female', speech_part=2)\n",
    "\n",
    "# print the name of each\n",
    "for char in characters:\n",
    "    print(char.name)"
   ]
  },
  {
   "cell_type": "markdown",
   "id": "43e9981b",
   "metadata": {},
   "source": [
    "### Character Instance\n",
    "\n",
    "Character instance records represent a given character's properties in a specific context.\n",
    "\n",
    "#### Properties\n",
    "\n",
    "- `id`: a unique identifier for the character instance\n",
    "- `context`: a description of the context in which the instance occurs, defaults to work title\n",
    "- `name`: the name under which the character instance appears in this context [see note 1]\n",
    "- `char`: access to the `Character` of which this is an instance. [2]\n",
    "- `being`: one of (`'divine'`, `'mortal'`, `'creature'`, `'other'`) [1]\n",
    "- `number`: one of (`'singular'`, `'collective'`) [1]\n",
    "- `gender`: one of (`'male'`, `'female'`, `'x'`, `'none'`) [1]\n",
    "- `wd`: the WikiData ID of the underlying characer, if there is one [3]\n",
    "- `manto`: the MANTO ID of the underlying characer, if there is one [3]\n",
    "\n",
    "#### Notes\n",
    "\n",
    "1. The `name`, `being`, `number`, and `gender` properties of an instance may not be the same as those of the underlying character. For example, a character instance may have the name 'Jupiter' while its character has the name 'Zeus'.\n",
    "\n",
    "2. Some character instance records have no associated character. This is the case for a couple of classes of anonymous speakers/addressees. If there is no character, then `char` will be `None`.\n",
    "\n",
    "3. WikiData and MANTO attributes pass through to the underlying character. These will be `None` if there is no character or if the character lacks these attributes.\n",
    "\n",
    "#### Examples"
   ]
  },
  {
   "cell_type": "code",
   "execution_count": 14,
   "id": "dc0fb01f",
   "metadata": {},
   "outputs": [
    {
     "name": "stdout",
     "output_type": "stream",
     "text": [
      "Q40901\tAres\tIliad\n",
      "Q40901\tAres\tOdyssey\n",
      "Q40901\tAres\tDionysiaca\n",
      "Q40901\tAres\tBatrachomyomachia\n",
      "Q40901\tMars\tArgonautica\n",
      "Q40901\tMars\tPunica\n",
      "Q40901\tMars\tThebaid\n",
      "Q40901\tMars\tAeneid\n",
      "Q40901\tMars\tMetamorphoses\n"
     ]
    }
   ],
   "source": [
    "# all instances of the god of war\n",
    "instances = api.getInstances(char_name='Ares')\n",
    "\n",
    "# print the WikiData ID for each (should be same for all),\n",
    "#    plus the name and the context\n",
    "for inst in instances:\n",
    "    print(inst.wd, inst.name, inst.context, sep=\"\\t\")"
   ]
  },
  {
   "cell_type": "markdown",
   "id": "78f8f299",
   "metadata": {},
   "source": [
    "### Speech\n",
    "\n",
    "#### Properties\n",
    "\n",
    "- `id`: a unique identifier for the speech\n",
    "- `cluster`: access to the `SpeechCluster` object to which this speech belongs\n",
    "- `seq`: an integer that can be used for ordering all the speeches in a given work\n",
    "- `l_fi`: the locus of the passage's first line, as a string\n",
    "- `l_la`: the locus of the passage's last line, as a string\n",
    "- `l_range`: the range of loci covered by the passage; equivalent to joining `l_fi`, `l_la` with a `'-'`\n",
    "- `spkr`: a list of `CharacterInstance` objects representing the speaker(s)\n",
    "- `addr`: a list of `CharacterInstance` objects representing the addressee(s)\n",
    "- `part`: which turn this speech fills in the conversation, as an integer\n",
    "- `type`: one of (`'soliloquy'`, `'monologue'`, `'dialogue'`, `'general'`)\n",
    "- `work`: access to the `Work` object associated with this speech\n",
    "- `author`: access to the `Author` object associated with this speech\n",
    "- `lang`: one of (`'greek'`, `'latin'`)\n",
    "- `urn`: the CTS URN representing the passage\n",
    "\n",
    "#### Methods\n",
    "\n",
    "- `getCTS()`: download the passage from Perseus. [Deprecated: this functionality is moving to `dicesapi.text.cts`]\n",
    "\n",
    "#### Examples"
   ]
  },
  {
   "cell_type": "code",
   "execution_count": null,
   "id": "08b8fede",
   "metadata": {},
   "outputs": [],
   "source": [
    "# all the speeches in the Iliad where Aphrodite is addressed\n",
    "speeches = api.getSpeeches(addr_name='Aphrodite', work_title='Iliad')\n",
    "\n",
    "# print the full locus for each speech, \n",
    "#     with names of the speaker(s) and addressee(s)\n",
    "for s in speeches:\n",
    "    print(s.work.title, s.l_range, [inst.name for inst in s.spkr], [inst.name for inst in s.addr])"
   ]
  },
  {
   "cell_type": "markdown",
   "id": "28dde5d5",
   "metadata": {},
   "source": [
    "### Speech Cluster\n",
    "\n",
    "A speech cluster represents a conversation. Speech cluster objects don't *contain* speeches (for which see `SpeechGroup` below); rather, they provide data about the conversation as a higher-level object.\n",
    "\n",
    "#### Properties\n",
    "\n",
    "- `id`: a unique identifier for the speech cluster\n",
    "\n",
    "#### Methods\n",
    "\n",
    "- `getSpeeches()`: Returns all speeches in this cluster as a `SpeechGroup`\n",
    "- `getFirstSpeech()`: Returns only the first speech, as a `Speech`\n",
    "\n",
    "#### Notes\n",
    "\n",
    "1. `getSpeeches()` and `getFirstSpeech()` each perform a new API query in the background\n",
    "\n",
    "#### Examples\n"
   ]
  },
  {
   "cell_type": "code",
   "execution_count": 15,
   "id": "ec61ca3d",
   "metadata": {},
   "outputs": [
    {
     "name": "stdout",
     "output_type": "stream",
     "text": [
      "<SpeechCluster 4049: Aeneid 5.670 ff.>\n",
      "5.670-5.673\tAscanius\n",
      "\n",
      "<SpeechCluster 4072: Aeneid 7.116 ff.>\n",
      "7.116-7.116\tAscanius\n",
      "7.120-7.134\tAeneas\n",
      "\n",
      "<SpeechCluster 4102: Aeneid 9.234 ff.>\n",
      "9.234-9.245\tNisus (Aeneid)\n",
      "9.247-9.250\tAletes (Trojan)\n",
      "9.252-9.256\tAletes (Trojan)\n",
      "9.257-9.280\tAscanius\n",
      "9.281-9.292\tEuryalus (Aeneid)\n",
      "9.296-9.302\tAscanius\n",
      "\n",
      "<SpeechCluster 4112: Aeneid 9.598 ff.>\n",
      "9.598-9.620\tNumanus\n",
      "9.625-9.629\tAscanius\n",
      "9.634-9.635\tAscanius\n",
      "\n"
     ]
    }
   ],
   "source": [
    "# all conversations in the Aeneid in which Ascanius gets to speak\n",
    "clusters = api.getClusters(spkr_name='Ascanius')\n",
    "\n",
    "# list all speeches in each conversation,\n",
    "#     giving lines and first speaker of each\n",
    "for cl in clusters:\n",
    "    print(cl)\n",
    "    for s in cl.getSpeeches():\n",
    "        print(s.l_range, s.spkr[0].name, sep=\"\\t\")\n",
    "    print()"
   ]
  },
  {
   "cell_type": "markdown",
   "id": "b3b7499a",
   "metadata": {},
   "source": [
    "## Objects representing collections of records\n",
    "\n",
    "All of these inherit from the parent class `DataGroup`. They're mostly intended to be iterated over, but each has specific `filter*` methods to extract a subset of the member objects based on their properties, and a set of `get*` methods to extract specific properties from the member objects.\n",
    "\n",
    "### Examples\n",
    "\n",
    "#### Iterating over a DataGroup:"
   ]
  },
  {
   "cell_type": "code",
   "execution_count": 31,
   "id": "5292ffe4",
   "metadata": {},
   "outputs": [
    {
     "name": "stdout",
     "output_type": "stream",
     "text": [
      "12 speeches in the Iliad:\n",
      "<Speech 22: Iliad 1.352-1.356>\n",
      "<Speech 24: Iliad 1.365-1.412>\n",
      "<Speech 30: Iliad 1.518-1.527>\n",
      "<Speech 484: Iliad 18.79-18.93>\n",
      "<Speech 486: Iliad 18.98-18.126>\n",
      "<Speech 499: Iliad 18.385-18.387>\n",
      "<Speech 502: Iliad 18.424-18.427>\n",
      "<Speech 504: Iliad 18.463-18.467>\n",
      "<Speech 506: Iliad 19.21-19.27>\n",
      "<Speech 655: Iliad 24.88-24.88>\n",
      "<Speech 657: Iliad 24.104-24.119>\n",
      "<Speech 659: Iliad 24.139-24.140>\n",
      "\n",
      "5 speeches in the Achilleid\n",
      "<Speech 3279: Achilleid 1.31-1.51>\n",
      "<Speech 3281: Achilleid 1.80-1.94>\n",
      "<Speech 3283: Achilleid 1.143-1.158>\n",
      "<Speech 3291: Achilleid 1.526-1.535>\n",
      "<Speech 3308: Achilleid 2.17-2.19>\n",
      "\n"
     ]
    }
   ],
   "source": [
    "# download two sets of speeches to thetis\n",
    "group_a = api.getSpeeches(addr_name='Thetis', work_title='Iliad')\n",
    "group_b = api.getSpeeches(addr_name='Thetis', work_title='Achilleid')\n",
    "\n",
    "print(len(group_a), 'speeches in the Iliad:')\n",
    "for s in group_a:\n",
    "    print(s)\n",
    "print()\n",
    "    \n",
    "print(len(group_b), 'speeches in the Achilleid')\n",
    "for s in group_b:\n",
    "    print(s)\n",
    "print()"
   ]
  },
  {
   "cell_type": "markdown",
   "id": "b552419e",
   "metadata": {},
   "source": [
    "#### Adding\n",
    "\n",
    "You can use the `+` operator to combine two groups into a new one.\n",
    "- Adding two groups together may alter the order of the members, so it's often a good idea to sort the results."
   ]
  },
  {
   "cell_type": "code",
   "execution_count": 32,
   "id": "a9917eb2",
   "metadata": {},
   "outputs": [
    {
     "name": "stdout",
     "output_type": "stream",
     "text": [
      "17 speeches combined:\n",
      "<Speech 504: Iliad 18.463-18.467>\n",
      "<Speech 659: Iliad 24.139-24.140>\n",
      "<Speech 486: Iliad 18.98-18.126>\n",
      "<Speech 3308: Achilleid 2.17-2.19>\n",
      "<Speech 22: Iliad 1.352-1.356>\n",
      "<Speech 24: Iliad 1.365-1.412>\n",
      "<Speech 655: Iliad 24.88-24.88>\n",
      "<Speech 657: Iliad 24.104-24.119>\n",
      "<Speech 502: Iliad 18.424-18.427>\n",
      "<Speech 3279: Achilleid 1.31-1.51>\n",
      "<Speech 30: Iliad 1.518-1.527>\n",
      "<Speech 3281: Achilleid 1.80-1.94>\n",
      "<Speech 3291: Achilleid 1.526-1.535>\n",
      "<Speech 506: Iliad 19.21-19.27>\n",
      "<Speech 484: Iliad 18.79-18.93>\n",
      "<Speech 499: Iliad 18.385-18.387>\n",
      "<Speech 3283: Achilleid 1.143-1.158>\n"
     ]
    }
   ],
   "source": [
    "# combine the two speech groups\n",
    "combined = group_a + group_b\n",
    "print(len(combined), 'speeches combined:')\n",
    "for s in combined:\n",
    "    print(s)"
   ]
  },
  {
   "cell_type": "markdown",
   "id": "51ad4722",
   "metadata": {},
   "source": [
    "#### Subtracting"
   ]
  },
  {
   "cell_type": "code",
   "execution_count": 25,
   "id": "b55c1a2c",
   "metadata": {},
   "outputs": [
    {
     "name": "stdout",
     "output_type": "stream",
     "text": [
      "23 speeches in the whole corpus \n",
      "\n",
      "11 excluding the Iliad:\n",
      "<Speech 1505: Argonautica 4.783-4.832>\n",
      "<Speech 3461: Dionysiaca 23.284-23.319>\n",
      "<Speech 3601: Dionysiaca 43.145-43.191>\n",
      "<Speech 2243: Metamorphoses 11.221-11.223>\n",
      "<Speech 3713: Posthomerica 3.633-3.654>\n",
      "<Speech 3714: Posthomerica 3.770-3.780>\n",
      "<Speech 3279: Achilleid 1.31-1.51>\n",
      "<Speech 3281: Achilleid 1.80-1.94>\n",
      "<Speech 3283: Achilleid 1.143-1.158>\n",
      "<Speech 3291: Achilleid 1.526-1.535>\n",
      "<Speech 3308: Achilleid 2.17-2.19>\n"
     ]
    }
   ],
   "source": [
    "# download all speeches addressed to Thetis in any work\n",
    "group_c = api.getSpeeches(addr_name='Thetis')\n",
    "print(len(group_c), 'speeches in the whole corpus', '\\n')\n",
    "\n",
    "# remove Iliad examples from the larger group\n",
    "all_but_homer = group_c - group_a\n",
    "print(len(all_but_homer), 'excluding the Iliad:')\n",
    "\n",
    "# examine the results\n",
    "for s in all_but_homer:\n",
    "    print(s)"
   ]
  },
  {
   "cell_type": "markdown",
   "id": "3afcb6c1",
   "metadata": {},
   "source": [
    "#### Finding common members between two groups"
   ]
  },
  {
   "cell_type": "code",
   "execution_count": 27,
   "id": "6b637285",
   "metadata": {},
   "outputs": [
    {
     "name": "stdout",
     "output_type": "stream",
     "text": [
      "<Speech 22: Iliad 1.352-1.356>\n",
      "<Speech 24: Iliad 1.365-1.412>\n",
      "<Speech 484: Iliad 18.79-18.93>\n",
      "<Speech 486: Iliad 18.98-18.126>\n",
      "<Speech 506: Iliad 19.21-19.27>\n",
      "<Speech 659: Iliad 24.139-24.140>\n"
     ]
    }
   ],
   "source": [
    "# speeches with Achilles as speaker\n",
    "group_a = api.getSpeeches(spkr_name='Achilles', work_title='Iliad')\n",
    "\n",
    "# speeches with Thetis as addressee\n",
    "group_b = api.getSpeeches(addr_name='Thetis', work_title='Iliad')\n",
    "\n",
    "# speeches that belong to both groups\n",
    "for s in group_a.intersect(group_b):\n",
    "    print(s)"
   ]
  },
  {
   "cell_type": "markdown",
   "id": "b4f06eee",
   "metadata": {},
   "source": [
    "#### Sorting\n",
    "\n",
    "You can use `sorted(DataGroup)` to produce a sorted *copy* of the group without changing the group itself; `DataGroup.sort()` on the other hand reorganizes the members of the group internally."
   ]
  },
  {
   "cell_type": "code",
   "execution_count": 35,
   "id": "3fc69d53",
   "metadata": {},
   "outputs": [
    {
     "name": "stdout",
     "output_type": "stream",
     "text": [
      "Unsorted:\n",
      "<Speech 504: Iliad 18.463-18.467>\n",
      "<Speech 659: Iliad 24.139-24.140>\n",
      "<Speech 486: Iliad 18.98-18.126>\n",
      "<Speech 3308: Achilleid 2.17-2.19>\n",
      "<Speech 22: Iliad 1.352-1.356>\n",
      "<Speech 24: Iliad 1.365-1.412>\n",
      "<Speech 655: Iliad 24.88-24.88>\n",
      "<Speech 657: Iliad 24.104-24.119>\n",
      "<Speech 502: Iliad 18.424-18.427>\n",
      "<Speech 3279: Achilleid 1.31-1.51>\n",
      "<Speech 30: Iliad 1.518-1.527>\n",
      "<Speech 3281: Achilleid 1.80-1.94>\n",
      "<Speech 3291: Achilleid 1.526-1.535>\n",
      "<Speech 506: Iliad 19.21-19.27>\n",
      "<Speech 484: Iliad 18.79-18.93>\n",
      "<Speech 499: Iliad 18.385-18.387>\n",
      "<Speech 3283: Achilleid 1.143-1.158>\n",
      "\n",
      "Sorted:\n",
      "<Speech 22: Iliad 1.352-1.356>\n",
      "<Speech 24: Iliad 1.365-1.412>\n",
      "<Speech 30: Iliad 1.518-1.527>\n",
      "<Speech 484: Iliad 18.79-18.93>\n",
      "<Speech 486: Iliad 18.98-18.126>\n",
      "<Speech 499: Iliad 18.385-18.387>\n",
      "<Speech 502: Iliad 18.424-18.427>\n",
      "<Speech 504: Iliad 18.463-18.467>\n",
      "<Speech 506: Iliad 19.21-19.27>\n",
      "<Speech 655: Iliad 24.88-24.88>\n",
      "<Speech 657: Iliad 24.104-24.119>\n",
      "<Speech 659: Iliad 24.139-24.140>\n",
      "<Speech 3279: Achilleid 1.31-1.51>\n",
      "<Speech 3281: Achilleid 1.80-1.94>\n",
      "<Speech 3283: Achilleid 1.143-1.158>\n",
      "<Speech 3291: Achilleid 1.526-1.535>\n",
      "<Speech 3308: Achilleid 2.17-2.19>\n"
     ]
    }
   ],
   "source": [
    "# same speeches we used the addition example\n",
    "group_a = api.getSpeeches(addr_name='Thetis', work_title='Iliad')\n",
    "group_b = api.getSpeeches(addr_name='Thetis', work_title='Achilleid')\n",
    "\n",
    "# adding them jumbles the membership a bit\n",
    "combined = group_a + group_b\n",
    "\n",
    "print('Unsorted:')\n",
    "for s in combined:\n",
    "    print(s)\n",
    "    \n",
    "# sort to put them back in order by work, line\n",
    "combined.sort()\n",
    "\n",
    "print('\\nSorted:')\n",
    "for s in combined:\n",
    "    print(s)"
   ]
  },
  {
   "cell_type": "markdown",
   "id": "98c0df16",
   "metadata": {},
   "source": [
    "Each kind of record has a default sorting: authors and works sort alphabetically, speeches by work and first line, etc. You can also specify a custom sorting function.\n",
    "\n",
    "For example, we can sort by speaker name:"
   ]
  },
  {
   "cell_type": "code",
   "execution_count": 37,
   "id": "8338dd08",
   "metadata": {},
   "outputs": [
    {
     "name": "stdout",
     "output_type": "stream",
     "text": [
      "Achilles <Speech 22: Iliad 1.352-1.356>\n",
      "Achilles <Speech 24: Iliad 1.365-1.412>\n",
      "Achilles <Speech 484: Iliad 18.79-18.93>\n",
      "Achilles <Speech 486: Iliad 18.98-18.126>\n",
      "Achilles <Speech 506: Iliad 19.21-19.27>\n",
      "Achilles <Speech 659: Iliad 24.139-24.140>\n",
      "Achilles <Speech 3308: Achilleid 2.17-2.19>\n",
      "Calchas <Speech 3291: Achilleid 1.526-1.535>\n",
      "Charis <Speech 499: Iliad 18.385-18.387>\n",
      "Chiron <Speech 3283: Achilleid 1.143-1.158>\n",
      "Hephaestus <Speech 502: Iliad 18.424-18.427>\n",
      "Hephaestus <Speech 504: Iliad 18.463-18.467>\n",
      "Iris <Speech 655: Iliad 24.88-24.88>\n",
      "Neptune <Speech 3281: Achilleid 1.80-1.94>\n",
      "Thetis <Speech 3279: Achilleid 1.31-1.51>\n",
      "Zeus <Speech 30: Iliad 1.518-1.527>\n",
      "Zeus <Speech 657: Iliad 24.104-24.119>\n"
     ]
    }
   ],
   "source": [
    "for s in sorted(combined, key=lambda s: s.spkr[0]):\n",
    "    print(s.spkr[0].name, s)"
   ]
  }
 ],
 "metadata": {
  "kernelspec": {
   "display_name": "Python 3 (ipykernel)",
   "language": "python",
   "name": "python3"
  },
  "language_info": {
   "codemirror_mode": {
    "name": "ipython",
    "version": 3
   },
   "file_extension": ".py",
   "mimetype": "text/x-python",
   "name": "python",
   "nbconvert_exporter": "python",
   "pygments_lexer": "ipython3",
   "version": "3.7.3"
  }
 },
 "nbformat": 4,
 "nbformat_minor": 5
}
