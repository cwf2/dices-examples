{
 "cells": [
  {
   "cell_type": "markdown",
   "id": "b0ed0c90",
   "metadata": {},
   "source": [
    "## Other kinds of MANTO entities and ties\n",
    "\n",
    "MANTO has records for other entities than people, and many more kinds of ties than just parent-child relationships. We haven't used these features much ourselves, so support is minimal, but it would be exciting to try. \n",
    "\n",
    "If you'd like to use MANTO more extensively (or if you're a MANTO developer) please get in touch—we'd love to expand this module.\n",
    "\n",
    "Here's one example that exploits MANTO's location-based entities and relations:"
   ]
  },
  {
   "cell_type": "code",
   "execution_count": null,
   "id": "3ebe4b42",
   "metadata": {},
   "outputs": [],
   "source": [
    "from dicesapi import DicesAPI, SpeechGroup\n",
    "from dicesapi import manto\n",
    "import pandas as pd\n",
    "\n",
    "api = DicesAPI(logfile='dices.log')"
   ]
  },
  {
   "cell_type": "markdown",
   "id": "692014c5",
   "metadata": {},
   "source": [
    "I happen to know that the MANTO ID for Thebes is `'8253960'`. I found it by searching MANTO's web interface for the place, and then looking at the record data printed at the bottom of the page:\n",
    "\n",
    "![image](img/manto_footer.png)\n",
    "\n",
    "I can use the ID to create a new MantoEntity instance. The DICES client treats MANTO IDs as strings, so remember to wrap it in quotation marks."
   ]
  },
  {
   "cell_type": "code",
   "execution_count": null,
   "id": "2b5dbd46",
   "metadata": {},
   "outputs": [],
   "source": [
    "manto_place = manto.getMantoID('8253960')\n",
    "print(manto_place)"
   ]
  },
  {
   "cell_type": "markdown",
   "id": "a0edc8f9",
   "metadata": {},
   "source": [
    "Now we can use `getTies()` to find MANTO character entities that have relationships with Thebes. MANTO uses numeric IDs to refer to kinds of relationships as well as to entities. For example, \"son of\" is `'31764'`.\n",
    "\n",
    "I haven't found an easy way to search for these by name. Instead, I dig around in the JSON data for some MANTO record (use `manto.dlMantoData(id)` to get the raw record) and compare it with the same record on MANTO's web site to deduce which IDs refer to which relationships. If you want help with a certain relationship, let me know!\n",
    "\n",
    "### Example: characters who died at Thebes\n",
    "\n",
    "The relationship 'place of death' turns out to be `'32529'`. That is, if we search for ties to Thebes with this ID, we get back MANTO records for characters who died there.\n",
    "\n",
    "The `MantoEntity.getTies()` method will return records that have a given tie (or any of a list of ties). By default, it downloads the whole entity record from MANTO and creates a MantoEntity object for each result. Pass it `as_ent=False` to just get the IDs. This is faster."
   ]
  },
  {
   "cell_type": "code",
   "execution_count": null,
   "id": "217c293c",
   "metadata": {},
   "outputs": [],
   "source": [
    "manto_ids = manto_place.getTies('32529', as_ent=False)\n",
    "print(manto_ids)"
   ]
  },
  {
   "cell_type": "markdown",
   "id": "1cbb2d83",
   "metadata": {},
   "source": [
    "Now we can use these MANTO IDs for example to filter a CharacterGroup."
   ]
  },
  {
   "cell_type": "code",
   "execution_count": null,
   "id": "c8b4dbe9",
   "metadata": {},
   "outputs": [],
   "source": [
    "characters = api.getCharacters().filterMantos(manto_ids)\n",
    "\n",
    "print(len(characters), 'characters who died at', manto_place.name, '\\n')\n",
    "\n",
    "for c in characters:\n",
    "    print(c.name)"
   ]
  },
  {
   "cell_type": "markdown",
   "id": "7240d7b9",
   "metadata": {},
   "source": [
    "Then use these characters to find speeches:"
   ]
  },
  {
   "cell_type": "code",
   "execution_count": null,
   "id": "0576baa8",
   "metadata": {},
   "outputs": [],
   "source": [
    "speeches = SpeechGroup([s for c in characters for s in api.getSpeeches(spkr_id=c.id)], api=api)"
   ]
  },
  {
   "cell_type": "code",
   "execution_count": null,
   "id": "ef70c7bd",
   "metadata": {},
   "outputs": [],
   "source": [
    "print(len(speeches), 'speeches by characters who died at', manto_place.name)\n",
    "\n",
    "pd.DataFrame(dict(\n",
    "    work = f'{s.author.name} {s.work.title}',\n",
    "    first_line = s.l_fi,\n",
    "    last_line = s.l_la,\n",
    "    speaker = s.getSpkrString(),\n",
    "    addressee = s.getAddrString(),\n",
    ") for s in speeches).to_clipboard()"
   ]
  },
  {
   "cell_type": "markdown",
   "id": "29106bb7",
   "metadata": {},
   "source": [
    "### 🤔 Experiment\n",
    "\n",
    "Try repeating the steps above using the MANTO ID for a different city. For example, Troy's ID is `'8194710'`."
   ]
  }
 ],
 "metadata": {
  "kernelspec": {
   "display_name": "Python 3 (ipykernel)",
   "language": "python",
   "name": "python3"
  },
  "language_info": {
   "codemirror_mode": {
    "name": "ipython",
    "version": 3
   },
   "file_extension": ".py",
   "mimetype": "text/x-python",
   "name": "python",
   "nbconvert_exporter": "python",
   "pygments_lexer": "ipython3",
   "version": "3.10.11"
  }
 },
 "nbformat": 4,
 "nbformat_minor": 5
}
